{
 "cells": [
  {
   "cell_type": "code",
   "execution_count": 37,
   "id": "1a3616d9",
   "metadata": {},
   "outputs": [],
   "source": [
    "import pandas as pd"
   ]
  },
  {
   "cell_type": "code",
   "execution_count": 38,
   "id": "f1814907",
   "metadata": {},
   "outputs": [],
   "source": [
    "file = 'Partnership.xlsx'"
   ]
  },
  {
   "cell_type": "code",
   "execution_count": 39,
   "id": "62a75610",
   "metadata": {},
   "outputs": [],
   "source": [
    "df = pd.read_excel(file)"
   ]
  },
  {
   "cell_type": "code",
   "execution_count": 40,
   "id": "35e4c550",
   "metadata": {},
   "outputs": [
    {
     "data": {
      "text/html": [
       "<div>\n",
       "<style scoped>\n",
       "    .dataframe tbody tr th:only-of-type {\n",
       "        vertical-align: middle;\n",
       "    }\n",
       "\n",
       "    .dataframe tbody tr th {\n",
       "        vertical-align: top;\n",
       "    }\n",
       "\n",
       "    .dataframe thead th {\n",
       "        text-align: right;\n",
       "    }\n",
       "</style>\n",
       "<table border=\"1\" class=\"dataframe\">\n",
       "  <thead>\n",
       "    <tr style=\"text-align: right;\">\n",
       "      <th></th>\n",
       "      <th>Partners</th>\n",
       "      <th>Country</th>\n",
       "      <th>Combination</th>\n",
       "      <th>Span</th>\n",
       "      <th>Inns</th>\n",
       "      <th>NO</th>\n",
       "      <th>Runs</th>\n",
       "      <th>High</th>\n",
       "      <th>Ave</th>\n",
       "      <th>100s</th>\n",
       "      <th>50s</th>\n",
       "    </tr>\n",
       "  </thead>\n",
       "  <tbody>\n",
       "    <tr>\n",
       "      <th>0</th>\n",
       "      <td>SC Ganguly, SR Tendulkar</td>\n",
       "      <td>India</td>\n",
       "      <td>Left-Right</td>\n",
       "      <td>1992-2007</td>\n",
       "      <td>176</td>\n",
       "      <td>3</td>\n",
       "      <td>8227</td>\n",
       "      <td>258</td>\n",
       "      <td>47.55</td>\n",
       "      <td>26</td>\n",
       "      <td>29</td>\n",
       "    </tr>\n",
       "    <tr>\n",
       "      <th>1</th>\n",
       "      <td>DPMD Jayawardene, KC Sangakkara</td>\n",
       "      <td>Sri Lanka</td>\n",
       "      <td>Left-Right</td>\n",
       "      <td>2000-2015</td>\n",
       "      <td>151</td>\n",
       "      <td>7</td>\n",
       "      <td>5992</td>\n",
       "      <td>179</td>\n",
       "      <td>41.61</td>\n",
       "      <td>15</td>\n",
       "      <td>32</td>\n",
       "    </tr>\n",
       "    <tr>\n",
       "      <th>2</th>\n",
       "      <td>TM Dilshan, KC Sangakkara</td>\n",
       "      <td>Sri Lanka</td>\n",
       "      <td>Left-Right</td>\n",
       "      <td>2000-2015</td>\n",
       "      <td>108</td>\n",
       "      <td>6</td>\n",
       "      <td>5475</td>\n",
       "      <td>210</td>\n",
       "      <td>53.67</td>\n",
       "      <td>20</td>\n",
       "      <td>19</td>\n",
       "    </tr>\n",
       "    <tr>\n",
       "      <th>3</th>\n",
       "      <td>MS Atapattu, ST Jayasuriya</td>\n",
       "      <td>Sri Lanka</td>\n",
       "      <td>Left-Right</td>\n",
       "      <td>1996-2007</td>\n",
       "      <td>144</td>\n",
       "      <td>5</td>\n",
       "      <td>5462</td>\n",
       "      <td>237</td>\n",
       "      <td>39.29</td>\n",
       "      <td>14</td>\n",
       "      <td>26</td>\n",
       "    </tr>\n",
       "    <tr>\n",
       "      <th>4</th>\n",
       "      <td>AC Gilchrist, ML Hayden</td>\n",
       "      <td>Australia</td>\n",
       "      <td>Left-Left</td>\n",
       "      <td>2000-2008</td>\n",
       "      <td>117</td>\n",
       "      <td>3</td>\n",
       "      <td>5409</td>\n",
       "      <td>172</td>\n",
       "      <td>47.44</td>\n",
       "      <td>16</td>\n",
       "      <td>29</td>\n",
       "    </tr>\n",
       "    <tr>\n",
       "      <th>5</th>\n",
       "      <td>CG Greenidge, DL Haynes</td>\n",
       "      <td>West Indies</td>\n",
       "      <td>Right-Right</td>\n",
       "      <td>1979-1991</td>\n",
       "      <td>103</td>\n",
       "      <td>4</td>\n",
       "      <td>5206</td>\n",
       "      <td>192</td>\n",
       "      <td>52.58</td>\n",
       "      <td>15</td>\n",
       "      <td>25</td>\n",
       "    </tr>\n",
       "    <tr>\n",
       "      <th>6</th>\n",
       "      <td>S Dhawan, RG Sharma</td>\n",
       "      <td>India</td>\n",
       "      <td>Left-Right</td>\n",
       "      <td>2011-2022</td>\n",
       "      <td>117</td>\n",
       "      <td>2</td>\n",
       "      <td>5193</td>\n",
       "      <td>210</td>\n",
       "      <td>45.15</td>\n",
       "      <td>18</td>\n",
       "      <td>15</td>\n",
       "    </tr>\n",
       "    <tr>\n",
       "      <th>7</th>\n",
       "      <td>V Kohli, RG Sharma</td>\n",
       "      <td>India</td>\n",
       "      <td>Right-Right</td>\n",
       "      <td>2010-2023</td>\n",
       "      <td>85</td>\n",
       "      <td>5</td>\n",
       "      <td>4998</td>\n",
       "      <td>246</td>\n",
       "      <td>62.47</td>\n",
       "      <td>18</td>\n",
       "      <td>15</td>\n",
       "    </tr>\n",
       "    <tr>\n",
       "      <th>8</th>\n",
       "      <td>V Sehwag, SR Tendulkar</td>\n",
       "      <td>India</td>\n",
       "      <td>Right-Right</td>\n",
       "      <td>2001-2012</td>\n",
       "      <td>114</td>\n",
       "      <td>2</td>\n",
       "      <td>4387</td>\n",
       "      <td>182</td>\n",
       "      <td>39.16</td>\n",
       "      <td>13</td>\n",
       "      <td>18</td>\n",
       "    </tr>\n",
       "    <tr>\n",
       "      <th>9</th>\n",
       "      <td>R Dravid, SC Ganguly</td>\n",
       "      <td>India</td>\n",
       "      <td>Left-Right</td>\n",
       "      <td>1996-2007</td>\n",
       "      <td>88</td>\n",
       "      <td>1</td>\n",
       "      <td>4363</td>\n",
       "      <td>318</td>\n",
       "      <td>50.14</td>\n",
       "      <td>11</td>\n",
       "      <td>18</td>\n",
       "    </tr>\n",
       "    <tr>\n",
       "      <th>10</th>\n",
       "      <td>HM Amla, Q de Kock</td>\n",
       "      <td>South Africa</td>\n",
       "      <td>Left-Right</td>\n",
       "      <td>2013-2019</td>\n",
       "      <td>95</td>\n",
       "      <td>3</td>\n",
       "      <td>4300</td>\n",
       "      <td>282</td>\n",
       "      <td>46.73</td>\n",
       "      <td>11</td>\n",
       "      <td>15</td>\n",
       "    </tr>\n",
       "    <tr>\n",
       "      <th>11</th>\n",
       "      <td>R Dravid, SR Tendulkar</td>\n",
       "      <td>India</td>\n",
       "      <td>Right-Right</td>\n",
       "      <td>1996-2009</td>\n",
       "      <td>98</td>\n",
       "      <td>5</td>\n",
       "      <td>4117</td>\n",
       "      <td>331</td>\n",
       "      <td>44.26</td>\n",
       "      <td>11</td>\n",
       "      <td>14</td>\n",
       "    </tr>\n",
       "    <tr>\n",
       "      <th>12</th>\n",
       "      <td>Inzamam-ul-Haq, Mohammad Yousuf</td>\n",
       "      <td>Pakistan</td>\n",
       "      <td>Right-Right</td>\n",
       "      <td>1998-2007</td>\n",
       "      <td>99</td>\n",
       "      <td>7</td>\n",
       "      <td>4082</td>\n",
       "      <td>162</td>\n",
       "      <td>44.36</td>\n",
       "      <td>8</td>\n",
       "      <td>22</td>\n",
       "    </tr>\n",
       "    <tr>\n",
       "      <th>13</th>\n",
       "      <td>AC Gilchrist, ME Waugh</td>\n",
       "      <td>Australia</td>\n",
       "      <td>Left-Right</td>\n",
       "      <td>1997-2002</td>\n",
       "      <td>97</td>\n",
       "      <td>1</td>\n",
       "      <td>3992</td>\n",
       "      <td>206</td>\n",
       "      <td>41.58</td>\n",
       "      <td>8</td>\n",
       "      <td>20</td>\n",
       "    </tr>\n",
       "    <tr>\n",
       "      <th>14</th>\n",
       "      <td>A Flower, GW Flower</td>\n",
       "      <td>Zimbabwe</td>\n",
       "      <td>Left-Right</td>\n",
       "      <td>1992-2003</td>\n",
       "      <td>88</td>\n",
       "      <td>4</td>\n",
       "      <td>3942</td>\n",
       "      <td>161</td>\n",
       "      <td>46.92</td>\n",
       "      <td>12</td>\n",
       "      <td>17</td>\n",
       "    </tr>\n",
       "    <tr>\n",
       "      <th>15</th>\n",
       "      <td>DL Haynes, RB Richardson</td>\n",
       "      <td>West Indies</td>\n",
       "      <td>Right-Right</td>\n",
       "      <td>1984-1994</td>\n",
       "      <td>103</td>\n",
       "      <td>6</td>\n",
       "      <td>3908</td>\n",
       "      <td>167</td>\n",
       "      <td>40.28</td>\n",
       "      <td>9</td>\n",
       "      <td>21</td>\n",
       "    </tr>\n",
       "    <tr>\n",
       "      <th>16</th>\n",
       "      <td>NJ Astle, SP Fleming</td>\n",
       "      <td>New Zealand</td>\n",
       "      <td>Left-Right</td>\n",
       "      <td>1995-2007</td>\n",
       "      <td>118</td>\n",
       "      <td>3</td>\n",
       "      <td>3814</td>\n",
       "      <td>193</td>\n",
       "      <td>33.16</td>\n",
       "      <td>9</td>\n",
       "      <td>17</td>\n",
       "    </tr>\n",
       "    <tr>\n",
       "      <th>17</th>\n",
       "      <td>LRPL Taylor, KS Williamson</td>\n",
       "      <td>New Zealand</td>\n",
       "      <td>Right-Right</td>\n",
       "      <td>2010-2019</td>\n",
       "      <td>69</td>\n",
       "      <td>3</td>\n",
       "      <td>3812</td>\n",
       "      <td>206</td>\n",
       "      <td>57.75</td>\n",
       "      <td>14</td>\n",
       "      <td>16</td>\n",
       "    </tr>\n",
       "    <tr>\n",
       "      <th>18</th>\n",
       "      <td>DC Boon, GR Marsh</td>\n",
       "      <td>Australia</td>\n",
       "      <td>Right-Right</td>\n",
       "      <td>1986-1992</td>\n",
       "      <td>96</td>\n",
       "      <td>1</td>\n",
       "      <td>3807</td>\n",
       "      <td>212</td>\n",
       "      <td>40.07</td>\n",
       "      <td>8</td>\n",
       "      <td>26</td>\n",
       "    </tr>\n",
       "    <tr>\n",
       "      <th>19</th>\n",
       "      <td>PA de Silva, A Ranatunga</td>\n",
       "      <td>Sri Lanka</td>\n",
       "      <td>Left-Right</td>\n",
       "      <td>1984-1999</td>\n",
       "      <td>105</td>\n",
       "      <td>3</td>\n",
       "      <td>3802</td>\n",
       "      <td>153</td>\n",
       "      <td>37.27</td>\n",
       "      <td>8</td>\n",
       "      <td>18</td>\n",
       "    </tr>\n",
       "    <tr>\n",
       "      <th>20</th>\n",
       "      <td>AJ Finch, DA Warner</td>\n",
       "      <td>Australia</td>\n",
       "      <td>Left-Right</td>\n",
       "      <td>2014-2022</td>\n",
       "      <td>80</td>\n",
       "      <td>1</td>\n",
       "      <td>3788</td>\n",
       "      <td>258</td>\n",
       "      <td>47.94</td>\n",
       "      <td>12</td>\n",
       "      <td>14</td>\n",
       "    </tr>\n",
       "    <tr>\n",
       "      <th>21</th>\n",
       "      <td>HH Gibbs, GC Smith</td>\n",
       "      <td>South Africa</td>\n",
       "      <td>Left-Right</td>\n",
       "      <td>2002-2009</td>\n",
       "      <td>84</td>\n",
       "      <td>1</td>\n",
       "      <td>3607</td>\n",
       "      <td>187</td>\n",
       "      <td>43.45</td>\n",
       "      <td>11</td>\n",
       "      <td>15</td>\n",
       "    </tr>\n",
       "    <tr>\n",
       "      <th>22</th>\n",
       "      <td>AC Gilchrist, RT Ponting</td>\n",
       "      <td>Australia</td>\n",
       "      <td>Left-Right</td>\n",
       "      <td>1997-2008</td>\n",
       "      <td>81</td>\n",
       "      <td>4</td>\n",
       "      <td>3607</td>\n",
       "      <td>225</td>\n",
       "      <td>46.84</td>\n",
       "      <td>8</td>\n",
       "      <td>20</td>\n",
       "    </tr>\n",
       "    <tr>\n",
       "      <th>23</th>\n",
       "      <td>MS Dhoni, SK Raina</td>\n",
       "      <td>India</td>\n",
       "      <td>Left-Right</td>\n",
       "      <td>2005-2018</td>\n",
       "      <td>73</td>\n",
       "      <td>10</td>\n",
       "      <td>3585</td>\n",
       "      <td>196</td>\n",
       "      <td>56.90</td>\n",
       "      <td>9</td>\n",
       "      <td>18</td>\n",
       "    </tr>\n",
       "    <tr>\n",
       "      <th>24</th>\n",
       "      <td>Aamer Sohail, Saeed Anwar</td>\n",
       "      <td>Pakistan</td>\n",
       "      <td>Left-Left</td>\n",
       "      <td>1990-2000</td>\n",
       "      <td>86</td>\n",
       "      <td>2</td>\n",
       "      <td>3517</td>\n",
       "      <td>173</td>\n",
       "      <td>41.86</td>\n",
       "      <td>5</td>\n",
       "      <td>23</td>\n",
       "    </tr>\n",
       "    <tr>\n",
       "      <th>25</th>\n",
       "      <td>M Azharuddin, SR Tendulkar</td>\n",
       "      <td>India</td>\n",
       "      <td>Left-Right</td>\n",
       "      <td>1989-2000</td>\n",
       "      <td>78</td>\n",
       "      <td>6</td>\n",
       "      <td>3514</td>\n",
       "      <td>175</td>\n",
       "      <td>48.80</td>\n",
       "      <td>8</td>\n",
       "      <td>19</td>\n",
       "    </tr>\n",
       "    <tr>\n",
       "      <th>26</th>\n",
       "      <td>ML Hayden, RT Ponting</td>\n",
       "      <td>Australia</td>\n",
       "      <td>Left-Right</td>\n",
       "      <td>2001-2008</td>\n",
       "      <td>73</td>\n",
       "      <td>6</td>\n",
       "      <td>3514</td>\n",
       "      <td>219</td>\n",
       "      <td>52.44</td>\n",
       "      <td>10</td>\n",
       "      <td>15</td>\n",
       "    </tr>\n",
       "    <tr>\n",
       "      <th>27</th>\n",
       "      <td>Mushfiqur Rahim, Shakib Al Hasan</td>\n",
       "      <td>Bangladesh</td>\n",
       "      <td>Left-Right</td>\n",
       "      <td>2007-2023</td>\n",
       "      <td>96</td>\n",
       "      <td>6</td>\n",
       "      <td>3449</td>\n",
       "      <td>148</td>\n",
       "      <td>38.32</td>\n",
       "      <td>7</td>\n",
       "      <td>19</td>\n",
       "    </tr>\n",
       "    <tr>\n",
       "      <th>28</th>\n",
       "      <td>MS Atapattu, DPMD Jayawardene</td>\n",
       "      <td>Sri Lanka</td>\n",
       "      <td>Right-Right</td>\n",
       "      <td>1998-2007</td>\n",
       "      <td>83</td>\n",
       "      <td>6</td>\n",
       "      <td>3430</td>\n",
       "      <td>226</td>\n",
       "      <td>44.54</td>\n",
       "      <td>4</td>\n",
       "      <td>22</td>\n",
       "    </tr>\n",
       "  </tbody>\n",
       "</table>\n",
       "</div>"
      ],
      "text/plain": [
       "                            Partners       Country  Combination       Span  \\\n",
       "0           SC Ganguly, SR Tendulkar         India   Left-Right  1992-2007   \n",
       "1    DPMD Jayawardene, KC Sangakkara     Sri Lanka   Left-Right  2000-2015   \n",
       "2          TM Dilshan, KC Sangakkara     Sri Lanka   Left-Right  2000-2015   \n",
       "3         MS Atapattu, ST Jayasuriya     Sri Lanka   Left-Right  1996-2007   \n",
       "4            AC Gilchrist, ML Hayden     Australia    Left-Left  2000-2008   \n",
       "5            CG Greenidge, DL Haynes   West Indies  Right-Right  1979-1991   \n",
       "6                S Dhawan, RG Sharma         India   Left-Right  2011-2022   \n",
       "7                 V Kohli, RG Sharma         India  Right-Right  2010-2023   \n",
       "8             V Sehwag, SR Tendulkar         India  Right-Right  2001-2012   \n",
       "9              R Dravid, SC Ganguly          India   Left-Right  1996-2007   \n",
       "10                HM Amla, Q de Kock  South Africa   Left-Right  2013-2019   \n",
       "11            R Dravid, SR Tendulkar         India  Right-Right  1996-2009   \n",
       "12   Inzamam-ul-Haq, Mohammad Yousuf      Pakistan  Right-Right  1998-2007   \n",
       "13            AC Gilchrist, ME Waugh     Australia   Left-Right  1997-2002   \n",
       "14               A Flower, GW Flower      Zimbabwe   Left-Right  1992-2003   \n",
       "15          DL Haynes, RB Richardson   West Indies  Right-Right  1984-1994   \n",
       "16              NJ Astle, SP Fleming   New Zealand   Left-Right  1995-2007   \n",
       "17        LRPL Taylor, KS Williamson   New Zealand  Right-Right  2010-2019   \n",
       "18                 DC Boon, GR Marsh     Australia  Right-Right  1986-1992   \n",
       "19          PA de Silva, A Ranatunga     Sri Lanka   Left-Right  1984-1999   \n",
       "20               AJ Finch, DA Warner     Australia   Left-Right  2014-2022   \n",
       "21                HH Gibbs, GC Smith  South Africa   Left-Right  2002-2009   \n",
       "22          AC Gilchrist, RT Ponting     Australia   Left-Right  1997-2008   \n",
       "23                MS Dhoni, SK Raina         India   Left-Right  2005-2018   \n",
       "24         Aamer Sohail, Saeed Anwar      Pakistan    Left-Left  1990-2000   \n",
       "25        M Azharuddin, SR Tendulkar         India   Left-Right  1989-2000   \n",
       "26             ML Hayden, RT Ponting     Australia   Left-Right  2001-2008   \n",
       "27  Mushfiqur Rahim, Shakib Al Hasan    Bangladesh   Left-Right  2007-2023   \n",
       "28     MS Atapattu, DPMD Jayawardene     Sri Lanka  Right-Right  1998-2007   \n",
       "\n",
       "    Inns  NO  Runs  High    Ave  100s  50s  \n",
       "0    176   3  8227   258  47.55    26   29  \n",
       "1    151   7  5992   179  41.61    15   32  \n",
       "2    108   6  5475   210  53.67    20   19  \n",
       "3    144   5  5462   237  39.29    14   26  \n",
       "4    117   3  5409   172  47.44    16   29  \n",
       "5    103   4  5206   192  52.58    15   25  \n",
       "6    117   2  5193   210  45.15    18   15  \n",
       "7     85   5  4998   246  62.47    18   15  \n",
       "8    114   2  4387   182  39.16    13   18  \n",
       "9     88   1  4363   318  50.14    11   18  \n",
       "10    95   3  4300   282  46.73    11   15  \n",
       "11    98   5  4117   331  44.26    11   14  \n",
       "12    99   7  4082   162  44.36     8   22  \n",
       "13    97   1  3992   206  41.58     8   20  \n",
       "14    88   4  3942   161  46.92    12   17  \n",
       "15   103   6  3908   167  40.28     9   21  \n",
       "16   118   3  3814   193  33.16     9   17  \n",
       "17    69   3  3812   206  57.75    14   16  \n",
       "18    96   1  3807   212  40.07     8   26  \n",
       "19   105   3  3802   153  37.27     8   18  \n",
       "20    80   1  3788   258  47.94    12   14  \n",
       "21    84   1  3607   187  43.45    11   15  \n",
       "22    81   4  3607   225  46.84     8   20  \n",
       "23    73  10  3585   196  56.90     9   18  \n",
       "24    86   2  3517   173  41.86     5   23  \n",
       "25    78   6  3514   175  48.80     8   19  \n",
       "26    73   6  3514   219  52.44    10   15  \n",
       "27    96   6  3449   148  38.32     7   19  \n",
       "28    83   6  3430   226  44.54     4   22  "
      ]
     },
     "execution_count": 40,
     "metadata": {},
     "output_type": "execute_result"
    }
   ],
   "source": [
    "df"
   ]
  },
  {
   "cell_type": "code",
   "execution_count": 41,
   "id": "f11bef12",
   "metadata": {},
   "outputs": [
    {
     "data": {
      "text/html": [
       "<div>\n",
       "<style scoped>\n",
       "    .dataframe tbody tr th:only-of-type {\n",
       "        vertical-align: middle;\n",
       "    }\n",
       "\n",
       "    .dataframe tbody tr th {\n",
       "        vertical-align: top;\n",
       "    }\n",
       "\n",
       "    .dataframe thead th {\n",
       "        text-align: right;\n",
       "    }\n",
       "</style>\n",
       "<table border=\"1\" class=\"dataframe\">\n",
       "  <thead>\n",
       "    <tr style=\"text-align: right;\">\n",
       "      <th></th>\n",
       "      <th>Partners</th>\n",
       "      <th>Country</th>\n",
       "      <th>Combination</th>\n",
       "      <th>Span</th>\n",
       "      <th>Inns</th>\n",
       "      <th>NO</th>\n",
       "      <th>Runs</th>\n",
       "      <th>High</th>\n",
       "      <th>Ave</th>\n",
       "      <th>100s</th>\n",
       "      <th>50s</th>\n",
       "    </tr>\n",
       "  </thead>\n",
       "  <tbody>\n",
       "    <tr>\n",
       "      <th>0</th>\n",
       "      <td>SC Ganguly, SR Tendulkar</td>\n",
       "      <td>India</td>\n",
       "      <td>Left-Right</td>\n",
       "      <td>1992-2007</td>\n",
       "      <td>176</td>\n",
       "      <td>3</td>\n",
       "      <td>8227</td>\n",
       "      <td>258</td>\n",
       "      <td>47.55</td>\n",
       "      <td>26</td>\n",
       "      <td>29</td>\n",
       "    </tr>\n",
       "    <tr>\n",
       "      <th>1</th>\n",
       "      <td>DPMD Jayawardene, KC Sangakkara</td>\n",
       "      <td>Sri Lanka</td>\n",
       "      <td>Left-Right</td>\n",
       "      <td>2000-2015</td>\n",
       "      <td>151</td>\n",
       "      <td>7</td>\n",
       "      <td>5992</td>\n",
       "      <td>179</td>\n",
       "      <td>41.61</td>\n",
       "      <td>15</td>\n",
       "      <td>32</td>\n",
       "    </tr>\n",
       "    <tr>\n",
       "      <th>2</th>\n",
       "      <td>TM Dilshan, KC Sangakkara</td>\n",
       "      <td>Sri Lanka</td>\n",
       "      <td>Left-Right</td>\n",
       "      <td>2000-2015</td>\n",
       "      <td>108</td>\n",
       "      <td>6</td>\n",
       "      <td>5475</td>\n",
       "      <td>210</td>\n",
       "      <td>53.67</td>\n",
       "      <td>20</td>\n",
       "      <td>19</td>\n",
       "    </tr>\n",
       "    <tr>\n",
       "      <th>3</th>\n",
       "      <td>MS Atapattu, ST Jayasuriya</td>\n",
       "      <td>Sri Lanka</td>\n",
       "      <td>Left-Right</td>\n",
       "      <td>1996-2007</td>\n",
       "      <td>144</td>\n",
       "      <td>5</td>\n",
       "      <td>5462</td>\n",
       "      <td>237</td>\n",
       "      <td>39.29</td>\n",
       "      <td>14</td>\n",
       "      <td>26</td>\n",
       "    </tr>\n",
       "    <tr>\n",
       "      <th>4</th>\n",
       "      <td>AC Gilchrist, ML Hayden</td>\n",
       "      <td>Australia</td>\n",
       "      <td>Left-Left</td>\n",
       "      <td>2000-2008</td>\n",
       "      <td>117</td>\n",
       "      <td>3</td>\n",
       "      <td>5409</td>\n",
       "      <td>172</td>\n",
       "      <td>47.44</td>\n",
       "      <td>16</td>\n",
       "      <td>29</td>\n",
       "    </tr>\n",
       "  </tbody>\n",
       "</table>\n",
       "</div>"
      ],
      "text/plain": [
       "                          Partners    Country Combination       Span  Inns  \\\n",
       "0         SC Ganguly, SR Tendulkar      India  Left-Right  1992-2007   176   \n",
       "1  DPMD Jayawardene, KC Sangakkara  Sri Lanka  Left-Right  2000-2015   151   \n",
       "2        TM Dilshan, KC Sangakkara  Sri Lanka  Left-Right  2000-2015   108   \n",
       "3       MS Atapattu, ST Jayasuriya  Sri Lanka  Left-Right  1996-2007   144   \n",
       "4          AC Gilchrist, ML Hayden  Australia   Left-Left  2000-2008   117   \n",
       "\n",
       "   NO  Runs  High    Ave  100s  50s  \n",
       "0   3  8227   258  47.55    26   29  \n",
       "1   7  5992   179  41.61    15   32  \n",
       "2   6  5475   210  53.67    20   19  \n",
       "3   5  5462   237  39.29    14   26  \n",
       "4   3  5409   172  47.44    16   29  "
      ]
     },
     "execution_count": 41,
     "metadata": {},
     "output_type": "execute_result"
    }
   ],
   "source": [
    "df.head()"
   ]
  },
  {
   "cell_type": "code",
   "execution_count": 42,
   "id": "7e14ac1f",
   "metadata": {},
   "outputs": [
    {
     "data": {
      "text/html": [
       "<div>\n",
       "<style scoped>\n",
       "    .dataframe tbody tr th:only-of-type {\n",
       "        vertical-align: middle;\n",
       "    }\n",
       "\n",
       "    .dataframe tbody tr th {\n",
       "        vertical-align: top;\n",
       "    }\n",
       "\n",
       "    .dataframe thead th {\n",
       "        text-align: right;\n",
       "    }\n",
       "</style>\n",
       "<table border=\"1\" class=\"dataframe\">\n",
       "  <thead>\n",
       "    <tr style=\"text-align: right;\">\n",
       "      <th></th>\n",
       "      <th>Partners</th>\n",
       "      <th>Country</th>\n",
       "      <th>Combination</th>\n",
       "      <th>Span</th>\n",
       "      <th>Inns</th>\n",
       "      <th>NO</th>\n",
       "      <th>Runs</th>\n",
       "      <th>High</th>\n",
       "      <th>Ave</th>\n",
       "      <th>100s</th>\n",
       "      <th>50s</th>\n",
       "    </tr>\n",
       "  </thead>\n",
       "  <tbody>\n",
       "    <tr>\n",
       "      <th>24</th>\n",
       "      <td>Aamer Sohail, Saeed Anwar</td>\n",
       "      <td>Pakistan</td>\n",
       "      <td>Left-Left</td>\n",
       "      <td>1990-2000</td>\n",
       "      <td>86</td>\n",
       "      <td>2</td>\n",
       "      <td>3517</td>\n",
       "      <td>173</td>\n",
       "      <td>41.86</td>\n",
       "      <td>5</td>\n",
       "      <td>23</td>\n",
       "    </tr>\n",
       "    <tr>\n",
       "      <th>25</th>\n",
       "      <td>M Azharuddin, SR Tendulkar</td>\n",
       "      <td>India</td>\n",
       "      <td>Left-Right</td>\n",
       "      <td>1989-2000</td>\n",
       "      <td>78</td>\n",
       "      <td>6</td>\n",
       "      <td>3514</td>\n",
       "      <td>175</td>\n",
       "      <td>48.80</td>\n",
       "      <td>8</td>\n",
       "      <td>19</td>\n",
       "    </tr>\n",
       "    <tr>\n",
       "      <th>26</th>\n",
       "      <td>ML Hayden, RT Ponting</td>\n",
       "      <td>Australia</td>\n",
       "      <td>Left-Right</td>\n",
       "      <td>2001-2008</td>\n",
       "      <td>73</td>\n",
       "      <td>6</td>\n",
       "      <td>3514</td>\n",
       "      <td>219</td>\n",
       "      <td>52.44</td>\n",
       "      <td>10</td>\n",
       "      <td>15</td>\n",
       "    </tr>\n",
       "    <tr>\n",
       "      <th>27</th>\n",
       "      <td>Mushfiqur Rahim, Shakib Al Hasan</td>\n",
       "      <td>Bangladesh</td>\n",
       "      <td>Left-Right</td>\n",
       "      <td>2007-2023</td>\n",
       "      <td>96</td>\n",
       "      <td>6</td>\n",
       "      <td>3449</td>\n",
       "      <td>148</td>\n",
       "      <td>38.32</td>\n",
       "      <td>7</td>\n",
       "      <td>19</td>\n",
       "    </tr>\n",
       "    <tr>\n",
       "      <th>28</th>\n",
       "      <td>MS Atapattu, DPMD Jayawardene</td>\n",
       "      <td>Sri Lanka</td>\n",
       "      <td>Right-Right</td>\n",
       "      <td>1998-2007</td>\n",
       "      <td>83</td>\n",
       "      <td>6</td>\n",
       "      <td>3430</td>\n",
       "      <td>226</td>\n",
       "      <td>44.54</td>\n",
       "      <td>4</td>\n",
       "      <td>22</td>\n",
       "    </tr>\n",
       "  </tbody>\n",
       "</table>\n",
       "</div>"
      ],
      "text/plain": [
       "                            Partners     Country  Combination       Span  \\\n",
       "24         Aamer Sohail, Saeed Anwar    Pakistan    Left-Left  1990-2000   \n",
       "25        M Azharuddin, SR Tendulkar       India   Left-Right  1989-2000   \n",
       "26             ML Hayden, RT Ponting   Australia   Left-Right  2001-2008   \n",
       "27  Mushfiqur Rahim, Shakib Al Hasan  Bangladesh   Left-Right  2007-2023   \n",
       "28     MS Atapattu, DPMD Jayawardene   Sri Lanka  Right-Right  1998-2007   \n",
       "\n",
       "    Inns  NO  Runs  High    Ave  100s  50s  \n",
       "24    86   2  3517   173  41.86     5   23  \n",
       "25    78   6  3514   175  48.80     8   19  \n",
       "26    73   6  3514   219  52.44    10   15  \n",
       "27    96   6  3449   148  38.32     7   19  \n",
       "28    83   6  3430   226  44.54     4   22  "
      ]
     },
     "execution_count": 42,
     "metadata": {},
     "output_type": "execute_result"
    }
   ],
   "source": [
    "df.tail()"
   ]
  },
  {
   "cell_type": "code",
   "execution_count": 62,
   "id": "f4f30936",
   "metadata": {},
   "outputs": [
    {
     "data": {
      "image/png": "[encoded data removed]",
      "text/plain": [
       "<Figure size 1000x600 with 1 Axes>"
      ]
     },
     "metadata": {},
     "output_type": "display_data"
    }
   ],
   "source": [
    "import matplotlib.pyplot as plt\n",
    "\n",
    "# Sample dataset (replace this with your loaded dataset)\n",
    "data = {\n",
    "    'Partners': ['SC Ganguly, SR Tendulkar', 'DPMD Jayawardene, KC Sangakkara', 'TM Dilshan, KC Sangakkara', 'MS Atapattu, ST Jayasuriya', 'AC Gilchrist, ML Hayden', 'CG Greenidge, DL Haynes', 'S Dhawan, RG Sharma', 'V Kohli, RG Sharma', 'V Sehwag, SR Tendulkar', 'R Dravid, SC Ganguly', 'HM Amla, Q de Kock', 'R Dravid, SR Tendulkar', 'Inzamam-ul-Haq, Mohammad Yousuf', 'AC Gilchrist, ME Waugh', 'A Flower, GW Flower', 'DL Haynes, RB Richardson', 'NJ Astle, SP Fleming', 'LRPL Taylor, KS Williamson', 'DC Boon, GR Marsh', 'PA de Silva, A Ranatunga', 'AJ Finch, DA Warner', 'HH Gibbs, GC Smith', 'AC Gilchrist, RT Ponting', 'MS Dhoni, SK Raina', 'Aamer Sohail, Saeed Anwar', 'M Azharuddin, SR Tendulkar', 'ML Hayden, RT Ponting', 'Mushfiqur Rahim, Shakib Al Hasan', 'MS Atapattu, DPMD Jayawardene'],\n",
    "    'Runs': [8227, 5992, 5475, 5462, 5409, 5206, 5193, 4998, 4387, 4363, 4300, 4117, 4082, 3992, 3942, 3908, 3814, 3812, 3807, 3802, 3788, 3607, 3607, 3585, 3517, 3514, 3514, 3449, 3430]\n",
    "}\n",
    "\n",
    "# Create a DataFrame from the sample data (you can replace this with your loaded DataFrame)\n",
    "df = pd.DataFrame(data)\n",
    "\n",
    "# Define a list of partner names (replace with your 30 partner names)\n",
    "partner_names = [\n",
    "    'SC Ganguly, SR Tendulkar',\n",
    "    'DPMD Jayawardene, KC Sangakkara',\n",
    "    'TM Dilshan, KC Sangakkara',\n",
    "    'MS Atapattu, ST Jayasuriya',\n",
    "    'AC Gilchrist, ML Hayden',\n",
    "    'CG Greenidge, DL Haynes',\n",
    "    'S Dhawan, RG Sharma',\n",
    "    'V Kohli, RG Sharma',\n",
    "    'V Sehwag, SR Tendulkar',\n",
    "    'R Dravid, SC Ganguly',\n",
    "    'HM Amla, Q de Kock',\n",
    "    'R Dravid, SR Tendulkar',\n",
    "    'Inzamam-ul-Haq, Mohammad Yousuf',\n",
    "    'AC Gilchrist, ME Waugh',\n",
    "    'A Flower, GW Flower',\n",
    "    'DL Haynes, RB Richardson',\n",
    "    'NJ Astle, SP Fleming',\n",
    "    'LRPL Taylor, KS Williamson',\n",
    "    'DC Boon, GR Marsh',\n",
    "    'PA de Silva, A Ranatunga',\n",
    "    'AJ Finch, DA Warner',\n",
    "    'HH Gibbs, GC Smith',\n",
    "    'AC Gilchrist, RT Ponting',\n",
    "    'MS Dhoni, SK Raina',\n",
    "    'Aamer Sohail, Saeed Anwar',\n",
    "    'M Azharuddin, SR Tendulkar',\n",
    "    'ML Hayden, RT Ponting',\n",
    "    'Mushfiqur Rahim, Shakib Al Hasan',\n",
    "    'MS Atapattu, DPMD Jayawardene',\n",
    "]\n",
    "\n",
    "plt.figure(figsize=(10, 6))\n",
    "plt.bar(partner_names, df['Runs'], color='green')\n",
    "plt.xlabel('Partners')\n",
    "plt.ylabel('Total Runs')\n",
    "plt.title('Total Runs Scored by Each Partnership')\n",
    "plt.xticks(rotation=90, fontsize=8)\n",
    "plt.tight_layout()\n",
    "\n",
    "plt.show()"
   ]
  },
  {
   "cell_type": "code",
   "execution_count": 76,
   "id": "e8255c2f",
   "metadata": {},
   "outputs": [
    {
     "data": {
      "image/png": "[encoded data removed]",
      "text/plain": [
       "<Figure size 1200x800 with 1 Axes>"
      ]
     },
     "metadata": {},
     "output_type": "display_data"
    }
   ],
   "source": [
    "import matplotlib.pyplot as plt\n",
    "\n",
    "# Sample dataset (replace this with your loaded dataset)\n",
    "data = {\n",
    "    'Partners': ['SC Ganguly, SR Tendulkar', 'DPMD Jayawardene, KC Sangakkara', 'TM Dilshan, KC Sangakkara', 'MS Atapattu, ST Jayasuriya', 'AC Gilchrist, ML Hayden', 'CG Greenidge, DL Haynes', 'S Dhawan, RG Sharma', 'V Kohli, RG Sharma', 'V Sehwag, SR Tendulkar', 'R Dravid, SC Ganguly', 'HM Amla, Q de Kock', 'R Dravid, SR Tendulkar', 'Inzamam-ul-Haq, Mohammad Yousuf', 'AC Gilchrist, ME Waugh', 'A Flower, GW Flower', 'DL Haynes, RB Richardson', 'NJ Astle, SP Fleming', 'LRPL Taylor, KS Williamson', 'DC Boon, GR Marsh', 'PA de Silva, A Ranatunga', 'AJ Finch, DA Warner', 'HH Gibbs, GC Smith', 'AC Gilchrist, RT Ponting', 'MS Dhoni, SK Raina', 'Aamer Sohail, Saeed Anwar', 'M Azharuddin, SR Tendulkar', 'ML Hayden, RT Ponting', 'Mushfiqur Rahim, Shakib Al Hasan', 'MS Atapattu, DPMD Jayawardene'],\n",
    "    'Runs': [8227, 5992, 5475, 5462, 5409, 5206, 5193, 4998, 4387, 4363, 4300, 4117, 4082, 3992, 3942, 3908, 3814, 3812, 3807, 3802, 3788, 3607, 3607, 3585, 3517, 3514, 3514, 3449, 3430],\n",
    "    'Combination': ['Left-Right', 'Left-Right', 'Left-Right', 'Left-Right', 'Left-Left', 'Right-Right', 'Left-Right', 'Right-Right', 'Right-Right', 'Left-Right', 'Left-Right', 'Right-Right', 'Right-Right', 'Left-Right', 'Left-Right', 'Right-Right', 'Left-Right', 'Right-Right', 'Right-Right', 'Left-Right', 'Left-Right', 'Left-Right', 'Left-Right', 'Left-Right', 'Left-Left', 'Left-Right', 'Left-Right', 'Left-Right', 'Right-Right' ]\n",
    "}\n",
    "\n",
    "# Create a DataFrame from the sample data (you can replace this with your loaded DataFrame)\n",
    "df = pd.DataFrame(data)\n",
    "\n",
    "# Split the 'Partners' column into a list of partner names\n",
    "df['Partners'] = df['Partners'].str.split(', ')\n",
    "\n",
    "# Create a list of partner names\n",
    "partner_names = [', '.join(partners) for partners in df['Partners']]\n",
    "\n",
    "# Create a dictionary to map combination types to colors\n",
    "combination_colors = {\n",
    "    'Left-Right': 'green',\n",
    "    'Left-Left': 'blue',\n",
    "    'Right-Right': 'red'\n",
    "}\n",
    "\n",
    "# Create a list of colors based on the combination types\n",
    "colors = [combination_colors[comb] for comb in df['Combination']]\n",
    "\n",
    "# Create a vertical bar chart with color-coded combinations\n",
    "plt.figure(figsize=(12, 8))\n",
    "bars = plt.bar(partner_names, df['Runs'], color=colors)\n",
    "\n",
    "# Add tooltips on mouse hover\n",
    "for bar, run, combination in zip(bars, df['Runs'], df['Combination']):\n",
    "    plt.text(bar.get_x() + bar.get_width() / 2, bar.get_height(), f'{run}',\n",
    "             ha='center', va='bottom', fontsize=8, color='black')\n",
    "\n",
    "# Add a legend to explain the color code\n",
    "legend_labels = combination_colors.keys()\n",
    "legend_colors = [plt.Rectangle((0, 0), 1, 1, color=combination_colors[comb]) for comb in legend_labels]\n",
    "plt.legend(legend_colors, legend_labels, loc='upper right')\n",
    "\n",
    "plt.xlabel('Partners')\n",
    "plt.ylabel('Total Runs')\n",
    "plt.title('Total Runs Scored by Each Partnership')\n",
    "plt.xticks(rotation=90, fontsize=8)\n",
    "plt.tight_layout()\n",
    "\n",
    "plt.show()"
   ]
  },
  {
   "cell_type": "code",
   "execution_count": 91,
   "id": "4b11d222",
   "metadata": {},
   "outputs": [
    {
     "data": {
      "application/vnd.plotly.v1+json": {
       "config": {
        "plotlyServerURL": "https://plot.ly"
       },
       "data": [
        {
         "alignmentgroup": "True",
         "customdata": [
          [
           "Left-Right"
          ],
          [
           "Left-Right"
          ],
          [
           "Left-Right"
          ],
          [
           "Left-Right"
          ],
          [
           "Left-Right"
          ],
          [
           "Left-Right"
          ],
          [
           "Left-Right"
          ],
          [
           "Left-Right"
          ],
          [
           "Left-Right"
          ],
          [
           "Left-Right"
          ],
          [
           "Left-Right"
          ],
          [
           "Left-Right"
          ],
          [
           "Left-Right"
          ],
          [
           "Left-Right"
          ],
          [
           "Left-Right"
          ],
          [
           "Left-Right"
          ],
          [
           "Left-Right"
          ],
          [
           "Left-Right"
          ]
         ],
         "hovertemplate": "Combination=%{customdata[0]}<br>Partners=%{x}<br>Total Runs=%{y}<extra></extra>",
         "legendgroup": "Left-Right",
         "marker": {
          "color": "#636efa",
          "pattern": {
           "shape": ""
          }
         },
         "name": "Left-Right",
         "offsetgroup": "Left-Right",
         "orientation": "v",
         "showlegend": true,
         "textposition": "outside",
         "texttemplate": "%{y}",
         "type": "bar",
         "x": [
          "SC Ganguly, SR Tendulkar",
          "DPMD Jayawardene, KC Sangakkara",
          "TM Dilshan, KC Sangakkara",
          "MS Atapattu, ST Jayasuriya",
          "S Dhawan, RG Sharma",
          "R Dravid, SC Ganguly",
          "HM Amla, Q de Kock",
          "AC Gilchrist, ME Waugh",
          "A Flower, GW Flower",
          "NJ Astle, SP Fleming",
          "PA de Silva, A Ranatunga",
          "AJ Finch, DA Warner",
          "HH Gibbs, GC Smith",
          "AC Gilchrist, RT Ponting",
          "MS Dhoni, SK Raina",
          "M Azharuddin, SR Tendulkar",
          "ML Hayden, RT Ponting",
          "Mushfiqur Rahim, Shakib Al Hasan"
         ],
         "xaxis": "x",
         "y": [
          8227,
          5992,
          5475,
          5462,
          5193,
          4363,
          4300,
          3992,
          3942,
          3814,
          3802,
          3788,
          3607,
          3607,
          3585,
          3514,
          3514,
          3449
         ],
         "yaxis": "y"
        },
        {
         "alignmentgroup": "True",
         "customdata": [
          [
           "Left-Left"
          ],
          [
           "Left-Left"
          ]
         ],
         "hovertemplate": "Combination=%{customdata[0]}<br>Partners=%{x}<br>Total Runs=%{y}<extra></extra>",
         "legendgroup": "Left-Left",
         "marker": {
          "color": "#EF553B",
          "pattern": {
           "shape": ""
          }
         },
         "name": "Left-Left",
         "offsetgroup": "Left-Left",
         "orientation": "v",
         "showlegend": true,
         "textposition": "outside",
         "texttemplate": "%{y}",
         "type": "bar",
         "x": [
          "AC Gilchrist, ML Hayden",
          "Aamer Sohail, Saeed Anwar"
         ],
         "xaxis": "x",
         "y": [
          5409,
          3517
         ],
         "yaxis": "y"
        },
        {
         "alignmentgroup": "True",
         "customdata": [
          [
           "Right-Right"
          ],
          [
           "Right-Right"
          ],
          [
           "Right-Right"
          ],
          [
           "Right-Right"
          ],
          [
           "Right-Right"
          ],
          [
           "Right-Right"
          ],
          [
           "Right-Right"
          ],
          [
           "Right-Right"
          ],
          [
           "Right-Right"
          ]
         ],
         "hovertemplate": "Combination=%{customdata[0]}<br>Partners=%{x}<br>Total Runs=%{y}<extra></extra>",
         "legendgroup": "Right-Right",
         "marker": {
          "color": "#00cc96",
          "pattern": {
           "shape": ""
          }
         },
         "name": "Right-Right",
         "offsetgroup": "Right-Right",
         "orientation": "v",
         "showlegend": true,
         "textposition": "outside",
         "texttemplate": "%{y}",
         "type": "bar",
         "x": [
          "CG Greenidge, DL Haynes",
          "V Kohli, RG Sharma",
          "V Sehwag, SR Tendulkar",
          "R Dravid, SR Tendulkar",
          "Inzamam-ul-Haq, Mohammad Yousuf",
          "DL Haynes, RB Richardson",
          "LRPL Taylor, KS Williamson",
          "DC Boon, GR Marsh",
          "MS Atapattu, DPMD Jayawardene"
         ],
         "xaxis": "x",
         "y": [
          5206,
          4998,
          4387,
          4117,
          4082,
          3908,
          3812,
          3807,
          3430
         ],
         "yaxis": "y"
        }
       ],
       "layout": {
        "barmode": "relative",
        "height": 600,
        "legend": {
         "title": {
          "text": "Combination"
         },
         "tracegroupgap": 0
        },
        "template": {
         "data": {
          "bar": [
           {
            "error_x": {
             "color": "#2a3f5f"
            },
            "error_y": {
             "color": "#2a3f5f"
            },
            "marker": {
             "line": {
              "color": "#E5ECF6",
              "width": 0.5
             },
             "pattern": {
              "fillmode": "overlay",
              "size": 10,
              "solidity": 0.2
             }
            },
            "type": "bar"
           }
          ],
          "barpolar": [
           {
            "marker": {
             "line": {
              "color": "#E5ECF6",
              "width": 0.5
             },
             "pattern": {
              "fillmode": "overlay",
              "size": 10,
              "solidity": 0.2
             }
            },
            "type": "barpolar"
           }
          ],
          "carpet": [
           {
            "aaxis": {
             "endlinecolor": "#2a3f5f",
             "gridcolor": "white",
             "linecolor": "white",
             "minorgridcolor": "white",
             "startlinecolor": "#2a3f5f"
            },
            "baxis": {
             "endlinecolor": "#2a3f5f",
             "gridcolor": "white",
             "linecolor": "white",
             "minorgridcolor": "white",
             "startlinecolor": "#2a3f5f"
            },
            "type": "carpet"
           }
          ],
          "choropleth": [
           {
            "colorbar": {
             "outlinewidth": 0,
             "ticks": ""
            },
            "type": "choropleth"
           }
          ],
          "contour": [
           {
            "colorbar": {
             "outlinewidth": 0,
             "ticks": ""
            },
            "colorscale": [
             [
              0,
              "#0d0887"
             ],
             [
              0.1111111111111111,
              "#46039f"
             ],
             [
              0.2222222222222222,
              "#7201a8"
             ],
             [
              0.3333333333333333,
              "#9c179e"
             ],
             [
              0.4444444444444444,
              "#bd3786"
             ],
             [
              0.5555555555555556,
              "#d8576b"
             ],
             [
              0.6666666666666666,
              "#ed7953"
             ],
             [
              0.7777777777777778,
              "#fb9f3a"
             ],
             [
              0.8888888888888888,
              "#fdca26"
             ],
             [
              1,
              "#f0f921"
             ]
            ],
            "type": "contour"
           }
          ],
          "contourcarpet": [
           {
            "colorbar": {
             "outlinewidth": 0,
             "ticks": ""
            },
            "type": "contourcarpet"
           }
          ],
          "heatmap": [
           {
            "colorbar": {
             "outlinewidth": 0,
             "ticks": ""
            },
            "colorscale": [
             [
              0,
              "#0d0887"
             ],
             [
              0.1111111111111111,
              "#46039f"
             ],
             [
              0.2222222222222222,
              "#7201a8"
             ],
             [
              0.3333333333333333,
              "#9c179e"
             ],
             [
              0.4444444444444444,
              "#bd3786"
             ],
             [
              0.5555555555555556,
              "#d8576b"
             ],
             [
              0.6666666666666666,
              "#ed7953"
             ],
             [
              0.7777777777777778,
              "#fb9f3a"
             ],
             [
              0.8888888888888888,
              "#fdca26"
             ],
             [
              1,
              "#f0f921"
             ]
            ],
            "type": "heatmap"
           }
          ],
          "heatmapgl": [
           {
            "colorbar": {
             "outlinewidth": 0,
             "ticks": ""
            },
            "colorscale": [
             [
              0,
              "#0d0887"
             ],
             [
              0.1111111111111111,
              "#46039f"
             ],
             [
              0.2222222222222222,
              "#7201a8"
             ],
             [
              0.3333333333333333,
              "#9c179e"
             ],
             [
              0.4444444444444444,
              "#bd3786"
             ],
             [
              0.5555555555555556,
              "#d8576b"
             ],
             [
              0.6666666666666666,
              "#ed7953"
             ],
             [
              0.7777777777777778,
              "#fb9f3a"
             ],
             [
              0.8888888888888888,
              "#fdca26"
             ],
             [
              1,
              "#f0f921"
             ]
            ],
            "type": "heatmapgl"
           }
          ],
          "histogram": [
           {
            "marker": {
             "pattern": {
              "fillmode": "overlay",
              "size": 10,
              "solidity": 0.2
             }
            },
            "type": "histogram"
           }
          ],
          "histogram2d": [
           {
            "colorbar": {
             "outlinewidth": 0,
             "ticks": ""
            },
            "colorscale": [
             [
              0,
              "#0d0887"
             ],
             [
              0.1111111111111111,
              "#46039f"
             ],
             [
              0.2222222222222222,
              "#7201a8"
             ],
             [
              0.3333333333333333,
              "#9c179e"
             ],
             [
              0.4444444444444444,
              "#bd3786"
             ],
             [
              0.5555555555555556,
              "#d8576b"
             ],
             [
              0.6666666666666666,
              "#ed7953"
             ],
             [
              0.7777777777777778,
              "#fb9f3a"
             ],
             [
              0.8888888888888888,
              "#fdca26"
             ],
             [
              1,
              "#f0f921"
             ]
            ],
            "type": "histogram2d"
           }
          ],
          "histogram2dcontour": [
           {
            "colorbar": {
             "outlinewidth": 0,
             "ticks": ""
            },
            "colorscale": [
             [
              0,
              "#0d0887"
             ],
             [
              0.1111111111111111,
              "#46039f"
             ],
             [
              0.2222222222222222,
              "#7201a8"
             ],
             [
              0.3333333333333333,
              "#9c179e"
             ],
             [
              0.4444444444444444,
              "#bd3786"
             ],
             [
              0.5555555555555556,
              "#d8576b"
             ],
             [
              0.6666666666666666,
              "#ed7953"
             ],
             [
              0.7777777777777778,
              "#fb9f3a"
             ],
             [
              0.8888888888888888,
              "#fdca26"
             ],
             [
              1,
              "#f0f921"
             ]
            ],
            "type": "histogram2dcontour"
           }
          ],
          "mesh3d": [
           {
            "colorbar": {
             "outlinewidth": 0,
             "ticks": ""
            },
            "type": "mesh3d"
           }
          ],
          "parcoords": [
           {
            "line": {
             "colorbar": {
              "outlinewidth": 0,
              "ticks": ""
             }
            },
            "type": "parcoords"
           }
          ],
          "pie": [
           {
            "automargin": true,
            "type": "pie"
           }
          ],
          "scatter": [
           {
            "fillpattern": {
             "fillmode": "overlay",
             "size": 10,
             "solidity": 0.2
            },
            "type": "scatter"
           }
          ],
          "scatter3d": [
           {
            "line": {
             "colorbar": {
              "outlinewidth": 0,
              "ticks": ""
             }
            },
            "marker": {
             "colorbar": {
              "outlinewidth": 0,
              "ticks": ""
             }
            },
            "type": "scatter3d"
           }
          ],
          "scattercarpet": [
           {
            "marker": {
             "colorbar": {
              "outlinewidth": 0,
              "ticks": ""
             }
            },
            "type": "scattercarpet"
           }
          ],
          "scattergeo": [
           {
            "marker": {
             "colorbar": {
              "outlinewidth": 0,
              "ticks": ""
             }
            },
            "type": "scattergeo"
           }
          ],
          "scattergl": [
           {
            "marker": {
             "colorbar": {
              "outlinewidth": 0,
              "ticks": ""
             }
            },
            "type": "scattergl"
           }
          ],
          "scattermapbox": [
           {
            "marker": {
             "colorbar": {
              "outlinewidth": 0,
              "ticks": ""
             }
            },
            "type": "scattermapbox"
           }
          ],
          "scatterpolar": [
           {
            "marker": {
             "colorbar": {
              "outlinewidth": 0,
              "ticks": ""
             }
            },
            "type": "scatterpolar"
           }
          ],
          "scatterpolargl": [
           {
            "marker": {
             "colorbar": {
              "outlinewidth": 0,
              "ticks": ""
             }
            },
            "type": "scatterpolargl"
           }
          ],
          "scatterternary": [
           {
            "marker": {
             "colorbar": {
              "outlinewidth": 0,
              "ticks": ""
             }
            },
            "type": "scatterternary"
           }
          ],
          "surface": [
           {
            "colorbar": {
             "outlinewidth": 0,
             "ticks": ""
            },
            "colorscale": [
             [
              0,
              "#0d0887"
             ],
             [
              0.1111111111111111,
              "#46039f"
             ],
             [
              0.2222222222222222,
              "#7201a8"
             ],
             [
              0.3333333333333333,
              "#9c179e"
             ],
             [
              0.4444444444444444,
              "#bd3786"
             ],
             [
              0.5555555555555556,
              "#d8576b"
             ],
             [
              0.6666666666666666,
              "#ed7953"
             ],
             [
              0.7777777777777778,
              "#fb9f3a"
             ],
             [
              0.8888888888888888,
              "#fdca26"
             ],
             [
              1,
              "#f0f921"
             ]
            ],
            "type": "surface"
           }
          ],
          "table": [
           {
            "cells": {
             "fill": {
              "color": "#EBF0F8"
             },
             "line": {
              "color": "white"
             }
            },
            "header": {
             "fill": {
              "color": "#C8D4E3"
             },
             "line": {
              "color": "white"
             }
            },
            "type": "table"
           }
          ]
         },
         "layout": {
          "annotationdefaults": {
           "arrowcolor": "#2a3f5f",
           "arrowhead": 0,
           "arrowwidth": 1
          },
          "autotypenumbers": "strict",
          "coloraxis": {
           "colorbar": {
            "outlinewidth": 0,
            "ticks": ""
           }
          },
          "colorscale": {
           "diverging": [
            [
             0,
             "#8e0152"
            ],
            [
             0.1,
             "#c51b7d"
            ],
            [
             0.2,
             "#de77ae"
            ],
            [
             0.3,
             "#f1b6da"
            ],
            [
             0.4,
             "#fde0ef"
            ],
            [
             0.5,
             "#f7f7f7"
            ],
            [
             0.6,
             "#e6f5d0"
            ],
            [
             0.7,
             "#b8e186"
            ],
            [
             0.8,
             "#7fbc41"
            ],
            [
             0.9,
             "#4d9221"
            ],
            [
             1,
             "#276419"
            ]
           ],
           "sequential": [
            [
             0,
             "#0d0887"
            ],
            [
             0.1111111111111111,
             "#46039f"
            ],
            [
             0.2222222222222222,
             "#7201a8"
            ],
            [
             0.3333333333333333,
             "#9c179e"
            ],
            [
             0.4444444444444444,
             "#bd3786"
            ],
            [
             0.5555555555555556,
             "#d8576b"
            ],
            [
             0.6666666666666666,
             "#ed7953"
            ],
            [
             0.7777777777777778,
             "#fb9f3a"
            ],
            [
             0.8888888888888888,
             "#fdca26"
            ],
            [
             1,
             "#f0f921"
            ]
           ],
           "sequentialminus": [
            [
             0,
             "#0d0887"
            ],
            [
             0.1111111111111111,
             "#46039f"
            ],
            [
             0.2222222222222222,
             "#7201a8"
            ],
            [
             0.3333333333333333,
             "#9c179e"
            ],
            [
             0.4444444444444444,
             "#bd3786"
            ],
            [
             0.5555555555555556,
             "#d8576b"
            ],
            [
             0.6666666666666666,
             "#ed7953"
            ],
            [
             0.7777777777777778,
             "#fb9f3a"
            ],
            [
             0.8888888888888888,
             "#fdca26"
            ],
            [
             1,
             "#f0f921"
            ]
           ]
          },
          "colorway": [
           "#636efa",
           "#EF553B",
           "#00cc96",
           "#ab63fa",
           "#FFA15A",
           "#19d3f3",
           "#FF6692",
           "#B6E880",
           "#FF97FF",
           "#FECB52"
          ],
          "font": {
           "color": "#2a3f5f"
          },
          "geo": {
           "bgcolor": "white",
           "lakecolor": "white",
           "landcolor": "#E5ECF6",
           "showlakes": true,
           "showland": true,
           "subunitcolor": "white"
          },
          "hoverlabel": {
           "align": "left"
          },
          "hovermode": "closest",
          "mapbox": {
           "style": "light"
          },
          "paper_bgcolor": "white",
          "plot_bgcolor": "#E5ECF6",
          "polar": {
           "angularaxis": {
            "gridcolor": "white",
            "linecolor": "white",
            "ticks": ""
           },
           "bgcolor": "#E5ECF6",
           "radialaxis": {
            "gridcolor": "white",
            "linecolor": "white",
            "ticks": ""
           }
          },
          "scene": {
           "xaxis": {
            "backgroundcolor": "#E5ECF6",
            "gridcolor": "white",
            "gridwidth": 2,
            "linecolor": "white",
            "showbackground": true,
            "ticks": "",
            "zerolinecolor": "white"
           },
           "yaxis": {
            "backgroundcolor": "#E5ECF6",
            "gridcolor": "white",
            "gridwidth": 2,
            "linecolor": "white",
            "showbackground": true,
            "ticks": "",
            "zerolinecolor": "white"
           },
           "zaxis": {
            "backgroundcolor": "#E5ECF6",
            "gridcolor": "white",
            "gridwidth": 2,
            "linecolor": "white",
            "showbackground": true,
            "ticks": "",
            "zerolinecolor": "white"
           }
          },
          "shapedefaults": {
           "line": {
            "color": "#2a3f5f"
           }
          },
          "ternary": {
           "aaxis": {
            "gridcolor": "white",
            "linecolor": "white",
            "ticks": ""
           },
           "baxis": {
            "gridcolor": "white",
            "linecolor": "white",
            "ticks": ""
           },
           "bgcolor": "#E5ECF6",
           "caxis": {
            "gridcolor": "white",
            "linecolor": "white",
            "ticks": ""
           }
          },
          "title": {
           "x": 0.05
          },
          "xaxis": {
           "automargin": true,
           "gridcolor": "white",
           "linecolor": "white",
           "ticks": "",
           "title": {
            "standoff": 15
           },
           "zerolinecolor": "white",
           "zerolinewidth": 2
          },
          "yaxis": {
           "automargin": true,
           "gridcolor": "white",
           "linecolor": "white",
           "ticks": "",
           "title": {
            "standoff": 15
           },
           "zerolinecolor": "white",
           "zerolinewidth": 2
          }
         }
        },
        "title": {
         "text": "Total Runs Scored by Each Partnership"
        },
        "width": 800,
        "xaxis": {
         "anchor": "y",
         "domain": [
          0,
          1
         ],
         "tickangle": 45,
         "title": {
          "text": "Partners"
         }
        },
        "yaxis": {
         "anchor": "x",
         "domain": [
          0,
          1
         ],
         "tickvals": [
          2000,
          4000,
          6000,
          8000
         ],
         "title": {
          "text": "Total Runs"
         }
        }
       }
      },
      "text/html": [
       "<div>                            <div id=\"4f30fdef-e396-448d-8866-fa3ac8785ae3\" class=\"plotly-graph-div\" style=\"height:600px; width:800px;\"></div>            <script type=\"text/javascript\">                require([\"plotly\"], function(Plotly) {                    window.PLOTLYENV=window.PLOTLYENV || {};                                    if (document.getElementById(\"4f30fdef-e396-448d-8866-fa3ac8785ae3\")) {                    Plotly.newPlot(                        \"4f30fdef-e396-448d-8866-fa3ac8785ae3\",                        [{\"alignmentgroup\":\"True\",\"customdata\":[[\"Left-Right\"],[\"Left-Right\"],[\"Left-Right\"],[\"Left-Right\"],[\"Left-Right\"],[\"Left-Right\"],[\"Left-Right\"],[\"Left-Right\"],[\"Left-Right\"],[\"Left-Right\"],[\"Left-Right\"],[\"Left-Right\"],[\"Left-Right\"],[\"Left-Right\"],[\"Left-Right\"],[\"Left-Right\"],[\"Left-Right\"],[\"Left-Right\"]],\"hovertemplate\":\"Combination=%{customdata[0]}<br>Partners=%{x}<br>Total Runs=%{y}<extra></extra>\",\"legendgroup\":\"Left-Right\",\"marker\":{\"color\":\"#636efa\",\"pattern\":{\"shape\":\"\"}},\"name\":\"Left-Right\",\"offsetgroup\":\"Left-Right\",\"orientation\":\"v\",\"showlegend\":true,\"textposition\":\"outside\",\"x\":[\"SC Ganguly, SR Tendulkar\",\"DPMD Jayawardene, KC Sangakkara\",\"TM Dilshan, KC Sangakkara\",\"MS Atapattu, ST Jayasuriya\",\"S Dhawan, RG Sharma\",\"R Dravid, SC Ganguly\",\"HM Amla, Q de Kock\",\"AC Gilchrist, ME Waugh\",\"A Flower, GW Flower\",\"NJ Astle, SP Fleming\",\"PA de Silva, A Ranatunga\",\"AJ Finch, DA Warner\",\"HH Gibbs, GC Smith\",\"AC Gilchrist, RT Ponting\",\"MS Dhoni, SK Raina\",\"M Azharuddin, SR Tendulkar\",\"ML Hayden, RT Ponting\",\"Mushfiqur Rahim, Shakib Al Hasan\"],\"xaxis\":\"x\",\"y\":[8227,5992,5475,5462,5193,4363,4300,3992,3942,3814,3802,3788,3607,3607,3585,3514,3514,3449],\"yaxis\":\"y\",\"type\":\"bar\",\"texttemplate\":\"%{y}\"},{\"alignmentgroup\":\"True\",\"customdata\":[[\"Left-Left\"],[\"Left-Left\"]],\"hovertemplate\":\"Combination=%{customdata[0]}<br>Partners=%{x}<br>Total Runs=%{y}<extra></extra>\",\"legendgroup\":\"Left-Left\",\"marker\":{\"color\":\"#EF553B\",\"pattern\":{\"shape\":\"\"}},\"name\":\"Left-Left\",\"offsetgroup\":\"Left-Left\",\"orientation\":\"v\",\"showlegend\":true,\"textposition\":\"outside\",\"x\":[\"AC Gilchrist, ML Hayden\",\"Aamer Sohail, Saeed Anwar\"],\"xaxis\":\"x\",\"y\":[5409,3517],\"yaxis\":\"y\",\"type\":\"bar\",\"texttemplate\":\"%{y}\"},{\"alignmentgroup\":\"True\",\"customdata\":[[\"Right-Right\"],[\"Right-Right\"],[\"Right-Right\"],[\"Right-Right\"],[\"Right-Right\"],[\"Right-Right\"],[\"Right-Right\"],[\"Right-Right\"],[\"Right-Right\"]],\"hovertemplate\":\"Combination=%{customdata[0]}<br>Partners=%{x}<br>Total Runs=%{y}<extra></extra>\",\"legendgroup\":\"Right-Right\",\"marker\":{\"color\":\"#00cc96\",\"pattern\":{\"shape\":\"\"}},\"name\":\"Right-Right\",\"offsetgroup\":\"Right-Right\",\"orientation\":\"v\",\"showlegend\":true,\"textposition\":\"outside\",\"x\":[\"CG Greenidge, DL Haynes\",\"V Kohli, RG Sharma\",\"V Sehwag, SR Tendulkar\",\"R Dravid, SR Tendulkar\",\"Inzamam-ul-Haq, Mohammad Yousuf\",\"DL Haynes, RB Richardson\",\"LRPL Taylor, KS Williamson\",\"DC Boon, GR Marsh\",\"MS Atapattu, DPMD Jayawardene\"],\"xaxis\":\"x\",\"y\":[5206,4998,4387,4117,4082,3908,3812,3807,3430],\"yaxis\":\"y\",\"type\":\"bar\",\"texttemplate\":\"%{y}\"}],                        {\"template\":{\"data\":{\"histogram2dcontour\":[{\"type\":\"histogram2dcontour\",\"colorbar\":{\"outlinewidth\":0,\"ticks\":\"\"},\"colorscale\":[[0.0,\"#0d0887\"],[0.1111111111111111,\"#46039f\"],[0.2222222222222222,\"#7201a8\"],[0.3333333333333333,\"#9c179e\"],[0.4444444444444444,\"#bd3786\"],[0.5555555555555556,\"#d8576b\"],[0.6666666666666666,\"#ed7953\"],[0.7777777777777778,\"#fb9f3a\"],[0.8888888888888888,\"#fdca26\"],[1.0,\"#f0f921\"]]}],\"choropleth\":[{\"type\":\"choropleth\",\"colorbar\":{\"outlinewidth\":0,\"ticks\":\"\"}}],\"histogram2d\":[{\"type\":\"histogram2d\",\"colorbar\":{\"outlinewidth\":0,\"ticks\":\"\"},\"colorscale\":[[0.0,\"#0d0887\"],[0.1111111111111111,\"#46039f\"],[0.2222222222222222,\"#7201a8\"],[0.3333333333333333,\"#9c179e\"],[0.4444444444444444,\"#bd3786\"],[0.5555555555555556,\"#d8576b\"],[0.6666666666666666,\"#ed7953\"],[0.7777777777777778,\"#fb9f3a\"],[0.8888888888888888,\"#fdca26\"],[1.0,\"#f0f921\"]]}],\"heatmap\":[{\"type\":\"heatmap\",\"colorbar\":{\"outlinewidth\":0,\"ticks\":\"\"},\"colorscale\":[[0.0,\"#0d0887\"],[0.1111111111111111,\"#46039f\"],[0.2222222222222222,\"#7201a8\"],[0.3333333333333333,\"#9c179e\"],[0.4444444444444444,\"#bd3786\"],[0.5555555555555556,\"#d8576b\"],[0.6666666666666666,\"#ed7953\"],[0.7777777777777778,\"#fb9f3a\"],[0.8888888888888888,\"#fdca26\"],[1.0,\"#f0f921\"]]}],\"heatmapgl\":[{\"type\":\"heatmapgl\",\"colorbar\":{\"outlinewidth\":0,\"ticks\":\"\"},\"colorscale\":[[0.0,\"#0d0887\"],[0.1111111111111111,\"#46039f\"],[0.2222222222222222,\"#7201a8\"],[0.3333333333333333,\"#9c179e\"],[0.4444444444444444,\"#bd3786\"],[0.5555555555555556,\"#d8576b\"],[0.6666666666666666,\"#ed7953\"],[0.7777777777777778,\"#fb9f3a\"],[0.8888888888888888,\"#fdca26\"],[1.0,\"#f0f921\"]]}],\"contourcarpet\":[{\"type\":\"contourcarpet\",\"colorbar\":{\"outlinewidth\":0,\"ticks\":\"\"}}],\"contour\":[{\"type\":\"contour\",\"colorbar\":{\"outlinewidth\":0,\"ticks\":\"\"},\"colorscale\":[[0.0,\"#0d0887\"],[0.1111111111111111,\"#46039f\"],[0.2222222222222222,\"#7201a8\"],[0.3333333333333333,\"#9c179e\"],[0.4444444444444444,\"#bd3786\"],[0.5555555555555556,\"#d8576b\"],[0.6666666666666666,\"#ed7953\"],[0.7777777777777778,\"#fb9f3a\"],[0.8888888888888888,\"#fdca26\"],[1.0,\"#f0f921\"]]}],\"surface\":[{\"type\":\"surface\",\"colorbar\":{\"outlinewidth\":0,\"ticks\":\"\"},\"colorscale\":[[0.0,\"#0d0887\"],[0.1111111111111111,\"#46039f\"],[0.2222222222222222,\"#7201a8\"],[0.3333333333333333,\"#9c179e\"],[0.4444444444444444,\"#bd3786\"],[0.5555555555555556,\"#d8576b\"],[0.6666666666666666,\"#ed7953\"],[0.7777777777777778,\"#fb9f3a\"],[0.8888888888888888,\"#fdca26\"],[1.0,\"#f0f921\"]]}],\"mesh3d\":[{\"type\":\"mesh3d\",\"colorbar\":{\"outlinewidth\":0,\"ticks\":\"\"}}],\"scatter\":[{\"fillpattern\":{\"fillmode\":\"overlay\",\"size\":10,\"solidity\":0.2},\"type\":\"scatter\"}],\"parcoords\":[{\"type\":\"parcoords\",\"line\":{\"colorbar\":{\"outlinewidth\":0,\"ticks\":\"\"}}}],\"scatterpolargl\":[{\"type\":\"scatterpolargl\",\"marker\":{\"colorbar\":{\"outlinewidth\":0,\"ticks\":\"\"}}}],\"bar\":[{\"error_x\":{\"color\":\"#2a3f5f\"},\"error_y\":{\"color\":\"#2a3f5f\"},\"marker\":{\"line\":{\"color\":\"#E5ECF6\",\"width\":0.5},\"pattern\":{\"fillmode\":\"overlay\",\"size\":10,\"solidity\":0.2}},\"type\":\"bar\"}],\"scattergeo\":[{\"type\":\"scattergeo\",\"marker\":{\"colorbar\":{\"outlinewidth\":0,\"ticks\":\"\"}}}],\"scatterpolar\":[{\"type\":\"scatterpolar\",\"marker\":{\"colorbar\":{\"outlinewidth\":0,\"ticks\":\"\"}}}],\"histogram\":[{\"marker\":{\"pattern\":{\"fillmode\":\"overlay\",\"size\":10,\"solidity\":0.2}},\"type\":\"histogram\"}],\"scattergl\":[{\"type\":\"scattergl\",\"marker\":{\"colorbar\":{\"outlinewidth\":0,\"ticks\":\"\"}}}],\"scatter3d\":[{\"type\":\"scatter3d\",\"line\":{\"colorbar\":{\"outlinewidth\":0,\"ticks\":\"\"}},\"marker\":{\"colorbar\":{\"outlinewidth\":0,\"ticks\":\"\"}}}],\"scattermapbox\":[{\"type\":\"scattermapbox\",\"marker\":{\"colorbar\":{\"outlinewidth\":0,\"ticks\":\"\"}}}],\"scatterternary\":[{\"type\":\"scatterternary\",\"marker\":{\"colorbar\":{\"outlinewidth\":0,\"ticks\":\"\"}}}],\"scattercarpet\":[{\"type\":\"scattercarpet\",\"marker\":{\"colorbar\":{\"outlinewidth\":0,\"ticks\":\"\"}}}],\"carpet\":[{\"aaxis\":{\"endlinecolor\":\"#2a3f5f\",\"gridcolor\":\"white\",\"linecolor\":\"white\",\"minorgridcolor\":\"white\",\"startlinecolor\":\"#2a3f5f\"},\"baxis\":{\"endlinecolor\":\"#2a3f5f\",\"gridcolor\":\"white\",\"linecolor\":\"white\",\"minorgridcolor\":\"white\",\"startlinecolor\":\"#2a3f5f\"},\"type\":\"carpet\"}],\"table\":[{\"cells\":{\"fill\":{\"color\":\"#EBF0F8\"},\"line\":{\"color\":\"white\"}},\"header\":{\"fill\":{\"color\":\"#C8D4E3\"},\"line\":{\"color\":\"white\"}},\"type\":\"table\"}],\"barpolar\":[{\"marker\":{\"line\":{\"color\":\"#E5ECF6\",\"width\":0.5},\"pattern\":{\"fillmode\":\"overlay\",\"size\":10,\"solidity\":0.2}},\"type\":\"barpolar\"}],\"pie\":[{\"automargin\":true,\"type\":\"pie\"}]},\"layout\":{\"autotypenumbers\":\"strict\",\"colorway\":[\"#636efa\",\"#EF553B\",\"#00cc96\",\"#ab63fa\",\"#FFA15A\",\"#19d3f3\",\"#FF6692\",\"#B6E880\",\"#FF97FF\",\"#FECB52\"],\"font\":{\"color\":\"#2a3f5f\"},\"hovermode\":\"closest\",\"hoverlabel\":{\"align\":\"left\"},\"paper_bgcolor\":\"white\",\"plot_bgcolor\":\"#E5ECF6\",\"polar\":{\"bgcolor\":\"#E5ECF6\",\"angularaxis\":{\"gridcolor\":\"white\",\"linecolor\":\"white\",\"ticks\":\"\"},\"radialaxis\":{\"gridcolor\":\"white\",\"linecolor\":\"white\",\"ticks\":\"\"}},\"ternary\":{\"bgcolor\":\"#E5ECF6\",\"aaxis\":{\"gridcolor\":\"white\",\"linecolor\":\"white\",\"ticks\":\"\"},\"baxis\":{\"gridcolor\":\"white\",\"linecolor\":\"white\",\"ticks\":\"\"},\"caxis\":{\"gridcolor\":\"white\",\"linecolor\":\"white\",\"ticks\":\"\"}},\"coloraxis\":{\"colorbar\":{\"outlinewidth\":0,\"ticks\":\"\"}},\"colorscale\":{\"sequential\":[[0.0,\"#0d0887\"],[0.1111111111111111,\"#46039f\"],[0.2222222222222222,\"#7201a8\"],[0.3333333333333333,\"#9c179e\"],[0.4444444444444444,\"#bd3786\"],[0.5555555555555556,\"#d8576b\"],[0.6666666666666666,\"#ed7953\"],[0.7777777777777778,\"#fb9f3a\"],[0.8888888888888888,\"#fdca26\"],[1.0,\"#f0f921\"]],\"sequentialminus\":[[0.0,\"#0d0887\"],[0.1111111111111111,\"#46039f\"],[0.2222222222222222,\"#7201a8\"],[0.3333333333333333,\"#9c179e\"],[0.4444444444444444,\"#bd3786\"],[0.5555555555555556,\"#d8576b\"],[0.6666666666666666,\"#ed7953\"],[0.7777777777777778,\"#fb9f3a\"],[0.8888888888888888,\"#fdca26\"],[1.0,\"#f0f921\"]],\"diverging\":[[0,\"#8e0152\"],[0.1,\"#c51b7d\"],[0.2,\"#de77ae\"],[0.3,\"#f1b6da\"],[0.4,\"#fde0ef\"],[0.5,\"#f7f7f7\"],[0.6,\"#e6f5d0\"],[0.7,\"#b8e186\"],[0.8,\"#7fbc41\"],[0.9,\"#4d9221\"],[1,\"#276419\"]]},\"xaxis\":{\"gridcolor\":\"white\",\"linecolor\":\"white\",\"ticks\":\"\",\"title\":{\"standoff\":15},\"zerolinecolor\":\"white\",\"automargin\":true,\"zerolinewidth\":2},\"yaxis\":{\"gridcolor\":\"white\",\"linecolor\":\"white\",\"ticks\":\"\",\"title\":{\"standoff\":15},\"zerolinecolor\":\"white\",\"automargin\":true,\"zerolinewidth\":2},\"scene\":{\"xaxis\":{\"backgroundcolor\":\"#E5ECF6\",\"gridcolor\":\"white\",\"linecolor\":\"white\",\"showbackground\":true,\"ticks\":\"\",\"zerolinecolor\":\"white\",\"gridwidth\":2},\"yaxis\":{\"backgroundcolor\":\"#E5ECF6\",\"gridcolor\":\"white\",\"linecolor\":\"white\",\"showbackground\":true,\"ticks\":\"\",\"zerolinecolor\":\"white\",\"gridwidth\":2},\"zaxis\":{\"backgroundcolor\":\"#E5ECF6\",\"gridcolor\":\"white\",\"linecolor\":\"white\",\"showbackground\":true,\"ticks\":\"\",\"zerolinecolor\":\"white\",\"gridwidth\":2}},\"shapedefaults\":{\"line\":{\"color\":\"#2a3f5f\"}},\"annotationdefaults\":{\"arrowcolor\":\"#2a3f5f\",\"arrowhead\":0,\"arrowwidth\":1},\"geo\":{\"bgcolor\":\"white\",\"landcolor\":\"#E5ECF6\",\"subunitcolor\":\"white\",\"showland\":true,\"showlakes\":true,\"lakecolor\":\"white\"},\"title\":{\"x\":0.05},\"mapbox\":{\"style\":\"light\"}}},\"xaxis\":{\"anchor\":\"y\",\"domain\":[0.0,1.0],\"title\":{\"text\":\"Partners\"},\"tickangle\":45},\"yaxis\":{\"anchor\":\"x\",\"domain\":[0.0,1.0],\"title\":{\"text\":\"Total Runs\"},\"tickvals\":[2000,4000,6000,8000]},\"legend\":{\"title\":{\"text\":\"Combination\"},\"tracegroupgap\":0},\"title\":{\"text\":\"Total Runs Scored by Each Partnership\"},\"barmode\":\"relative\",\"height\":600,\"width\":800},                        {\"responsive\": true}                    ).then(function(){\n",
       "                            \n",
       "var gd = document.getElementById('4f30fdef-e396-448d-8866-fa3ac8785ae3');\n",
       "var x = new MutationObserver(function (mutations, observer) {{\n",
       "        var display = window.getComputedStyle(gd).display;\n",
       "        if (!display || display === 'none') {{\n",
       "            console.log([gd, 'removed!']);\n",
       "            Plotly.purge(gd);\n",
       "            observer.disconnect();\n",
       "        }}\n",
       "}});\n",
       "\n",
       "// Listen for the removal of the full notebook cells\n",
       "var notebookContainer = gd.closest('#notebook-container');\n",
       "if (notebookContainer) {{\n",
       "    x.observe(notebookContainer, {childList: true});\n",
       "}}\n",
       "\n",
       "// Listen for the clearing of the current output cell\n",
       "var outputEl = gd.closest('.output');\n",
       "if (outputEl) {{\n",
       "    x.observe(outputEl, {childList: true});\n",
       "}}\n",
       "\n",
       "                        })                };                });            </script>        </div>"
      ]
     },
     "metadata": {},
     "output_type": "display_data"
    }
   ],
   "source": [
    "import pandas as pd\n",
    "import plotly.express as px\n",
    "\n",
    "# Sample dataset (replace this with your loaded dataset)\n",
    "data = {\n",
    "    'Partners': ['SC Ganguly, SR Tendulkar', 'DPMD Jayawardene, KC Sangakkara', 'TM Dilshan, KC Sangakkara', 'MS Atapattu, ST Jayasuriya', 'AC Gilchrist, ML Hayden', 'CG Greenidge, DL Haynes', 'S Dhawan, RG Sharma', 'V Kohli, RG Sharma', 'V Sehwag, SR Tendulkar', 'R Dravid, SC Ganguly', 'HM Amla, Q de Kock', 'R Dravid, SR Tendulkar', 'Inzamam-ul-Haq, Mohammad Yousuf', 'AC Gilchrist, ME Waugh', 'A Flower, GW Flower', 'DL Haynes, RB Richardson', 'NJ Astle, SP Fleming', 'LRPL Taylor, KS Williamson', 'DC Boon, GR Marsh', 'PA de Silva, A Ranatunga', 'AJ Finch, DA Warner', 'HH Gibbs, GC Smith', 'AC Gilchrist, RT Ponting', 'MS Dhoni, SK Raina', 'Aamer Sohail, Saeed Anwar', 'M Azharuddin, SR Tendulkar', 'ML Hayden, RT Ponting', 'Mushfiqur Rahim, Shakib Al Hasan', 'MS Atapattu, DPMD Jayawardene'],\n",
    "    'Runs': [8227, 5992, 5475, 5462, 5409, 5206, 5193, 4998, 4387, 4363, 4300, 4117, 4082, 3992, 3942, 3908, 3814, 3812, 3807, 3802, 3788, 3607, 3607, 3585, 3517, 3514, 3514, 3449, 3430],\n",
    "    'Combination': ['Left-Right', 'Left-Right', 'Left-Right', 'Left-Right', 'Left-Left', 'Right-Right', 'Left-Right', 'Right-Right', 'Right-Right', 'Left-Right', 'Left-Right', 'Right-Right', 'Right-Right', 'Left-Right', 'Left-Right', 'Right-Right', 'Left-Right', 'Right-Right', 'Right-Right', 'Left-Right', 'Left-Right', 'Left-Right', 'Left-Right', 'Left-Right', 'Left-Left', 'Left-Right', 'Left-Right', 'Left-Right', 'Right-Right' ]\n",
    "}\n",
    "\n",
    "# Create a DataFrame from the sample data (you can replace this with your loaded DataFrame)\n",
    "df = pd.DataFrame(data)\n",
    "\n",
    "# Split the 'Partners' column into a list of partner names\n",
    "df['Partners'] = df['Partners'].str.split(', ')\n",
    "\n",
    "# Create a list of partner names\n",
    "partner_names = [', '.join(partners) for partners in df['Partners']]\n",
    "\n",
    "# Sort the DataFrame by 'Runs' in descending order\n",
    "df = df.sort_values(by='Runs', ascending=False)\n",
    "\n",
    "# Create a vertical bar chart with tooltips and custom sorting, and color code by 'Combination'\n",
    "fig = px.bar(df, x=partner_names, y='Runs', color='Combination',\n",
    "             title='Total Runs Scored by Each Partnership',\n",
    "             labels={'x': 'Partners', 'Runs': 'Total Runs'}, hover_data=['Combination'])\n",
    "\n",
    "# Customize the tooltip formatting\n",
    "fig.update_traces(texttemplate='%{y}', textposition='outside')\n",
    "\n",
    "# Set custom tick values for the y-axis to create gaps at 3000, 6000, and 9000\n",
    "fig.update_yaxes(tickvals=[2000, 4000, 6000, 8000])\n",
    "\n",
    "# Adjust the chart size to accommodate larger values\n",
    "fig.update_layout(height=600, width=800)  # Increase the height and width as needed\n",
    "\n",
    "# Rotate the y-axis labels for better readability\n",
    "fig.update_layout(xaxis_tickangle=45)\n",
    "\n",
    "# Show the interactive chart\n",
    "fig.show()"
   ]
  },
  {
   "cell_type": "code",
   "execution_count": 101,
   "id": "bf4e590f",
   "metadata": {},
   "outputs": [
    {
     "data": {
      "application/vnd.plotly.v1+json": {
       "config": {
        "plotlyServerURL": "https://plot.ly"
       },
       "data": [
        {
         "alignmentgroup": "True",
         "customdata": [
          [
           "Right-Right"
          ],
          [
           "Right-Right"
          ],
          [
           "Right-Right"
          ],
          [
           "Right-Right"
          ],
          [
           "Right-Right"
          ],
          [
           "Right-Right"
          ],
          [
           "Right-Right"
          ],
          [
           "Right-Right"
          ],
          [
           "Right-Right"
          ]
         ],
         "hovertemplate": "Combination=%{customdata[0]}<br>Partners=%{x}<br>Average=%{y}<extra></extra>",
         "legendgroup": "Right-Right",
         "marker": {
          "color": "#636efa",
          "pattern": {
           "shape": ""
          }
         },
         "name": "Right-Right",
         "offsetgroup": "Right-Right",
         "orientation": "v",
         "showlegend": true,
         "textposition": "outside",
         "texttemplate": "%{y}",
         "type": "bar",
         "x": [
          "V Kohli, RG Sharma",
          "LRPL Taylor, KS Williamson",
          "CG Greenidge, DL Haynes",
          "MS Atapattu, DPMD Jayawardene",
          "Inzamam-ul-Haq, Mohammad Yousuf",
          "R Dravid, SR Tendulkar",
          "DL Haynes, RB Richardson",
          "DC Boon, GR Marsh",
          "V Sehwag, SR Tendulkar"
         ],
         "xaxis": "x",
         "y": [
          62.47,
          57.75,
          52.58,
          44.54,
          44.36,
          44.26,
          40.28,
          40.07,
          39.16
         ],
         "yaxis": "y"
        },
        {
         "alignmentgroup": "True",
         "customdata": [
          [
           "Left-Right"
          ],
          [
           "Left-Right"
          ],
          [
           "Left-Right"
          ],
          [
           "Left-Right"
          ],
          [
           "Left-Right"
          ],
          [
           "Left-Right"
          ],
          [
           "Left-Right"
          ],
          [
           "Left-Right"
          ],
          [
           "Left-Right"
          ],
          [
           "Left-Right"
          ],
          [
           "Left-Right"
          ],
          [
           "Left-Right"
          ],
          [
           "Left-Right"
          ],
          [
           "Left-Right"
          ],
          [
           "Left-Right"
          ],
          [
           "Left-Right"
          ],
          [
           "Left-Right"
          ],
          [
           "Left-Right"
          ]
         ],
         "hovertemplate": "Combination=%{customdata[0]}<br>Partners=%{x}<br>Average=%{y}<extra></extra>",
         "legendgroup": "Left-Right",
         "marker": {
          "color": "#EF553B",
          "pattern": {
           "shape": ""
          }
         },
         "name": "Left-Right",
         "offsetgroup": "Left-Right",
         "orientation": "v",
         "showlegend": true,
         "textposition": "outside",
         "texttemplate": "%{y}",
         "type": "bar",
         "x": [
          "MS Dhoni, SK Raina",
          "TM Dilshan, KC Sangakkara",
          "ML Hayden, RT Ponting",
          "R Dravid, SC Ganguly",
          "M Azharuddin, SR Tendulkar",
          "AJ Finch, DA Warner",
          "SC Ganguly, SR Tendulkar",
          "A Flower, GW Flower",
          "AC Gilchrist, RT Ponting",
          "HM Amla, Q de Kock",
          "S Dhawan, RG Sharma",
          "HH Gibbs, GC Smith",
          "DPMD Jayawardene, KC Sangakkara",
          "AC Gilchrist, ME Waugh",
          "MS Atapattu, ST Jayasuriya",
          "Mushfiqur Rahim, Shakib Al Hasan",
          "PA de Silva, A Ranatunga",
          "NJ Astle, SP Fleming"
         ],
         "xaxis": "x",
         "y": [
          56.9,
          53.67,
          52.44,
          50.14,
          48.8,
          47.94,
          47.55,
          46.92,
          46.84,
          46.73,
          45.15,
          43.45,
          41.61,
          41.58,
          39.29,
          38.32,
          37.27,
          33.16
         ],
         "yaxis": "y"
        },
        {
         "alignmentgroup": "True",
         "customdata": [
          [
           "Left-Left"
          ],
          [
           "Left-Left"
          ]
         ],
         "hovertemplate": "Combination=%{customdata[0]}<br>Partners=%{x}<br>Average=%{y}<extra></extra>",
         "legendgroup": "Left-Left",
         "marker": {
          "color": "#00cc96",
          "pattern": {
           "shape": ""
          }
         },
         "name": "Left-Left",
         "offsetgroup": "Left-Left",
         "orientation": "v",
         "showlegend": true,
         "textposition": "outside",
         "texttemplate": "%{y}",
         "type": "bar",
         "x": [
          "AC Gilchrist, ML Hayden",
          "Aamer Sohail, Saeed Anwar"
         ],
         "xaxis": "x",
         "y": [
          47.44,
          41.86
         ],
         "yaxis": "y"
        }
       ],
       "layout": {
        "barmode": "relative",
        "height": 600,
        "legend": {
         "title": {
          "text": "Combination"
         },
         "tracegroupgap": 0
        },
        "template": {
         "data": {
          "bar": [
           {
            "error_x": {
             "color": "#2a3f5f"
            },
            "error_y": {
             "color": "#2a3f5f"
            },
            "marker": {
             "line": {
              "color": "#E5ECF6",
              "width": 0.5
             },
             "pattern": {
              "fillmode": "overlay",
              "size": 10,
              "solidity": 0.2
             }
            },
            "type": "bar"
           }
          ],
          "barpolar": [
           {
            "marker": {
             "line": {
              "color": "#E5ECF6",
              "width": 0.5
             },
             "pattern": {
              "fillmode": "overlay",
              "size": 10,
              "solidity": 0.2
             }
            },
            "type": "barpolar"
           }
          ],
          "carpet": [
           {
            "aaxis": {
             "endlinecolor": "#2a3f5f",
             "gridcolor": "white",
             "linecolor": "white",
             "minorgridcolor": "white",
             "startlinecolor": "#2a3f5f"
            },
            "baxis": {
             "endlinecolor": "#2a3f5f",
             "gridcolor": "white",
             "linecolor": "white",
             "minorgridcolor": "white",
             "startlinecolor": "#2a3f5f"
            },
            "type": "carpet"
           }
          ],
          "choropleth": [
           {
            "colorbar": {
             "outlinewidth": 0,
             "ticks": ""
            },
            "type": "choropleth"
           }
          ],
          "contour": [
           {
            "colorbar": {
             "outlinewidth": 0,
             "ticks": ""
            },
            "colorscale": [
             [
              0,
              "#0d0887"
             ],
             [
              0.1111111111111111,
              "#46039f"
             ],
             [
              0.2222222222222222,
              "#7201a8"
             ],
             [
              0.3333333333333333,
              "#9c179e"
             ],
             [
              0.4444444444444444,
              "#bd3786"
             ],
             [
              0.5555555555555556,
              "#d8576b"
             ],
             [
              0.6666666666666666,
              "#ed7953"
             ],
             [
              0.7777777777777778,
              "#fb9f3a"
             ],
             [
              0.8888888888888888,
              "#fdca26"
             ],
             [
              1,
              "#f0f921"
             ]
            ],
            "type": "contour"
           }
          ],
          "contourcarpet": [
           {
            "colorbar": {
             "outlinewidth": 0,
             "ticks": ""
            },
            "type": "contourcarpet"
           }
          ],
          "heatmap": [
           {
            "colorbar": {
             "outlinewidth": 0,
             "ticks": ""
            },
            "colorscale": [
             [
              0,
              "#0d0887"
             ],
             [
              0.1111111111111111,
              "#46039f"
             ],
             [
              0.2222222222222222,
              "#7201a8"
             ],
             [
              0.3333333333333333,
              "#9c179e"
             ],
             [
              0.4444444444444444,
              "#bd3786"
             ],
             [
              0.5555555555555556,
              "#d8576b"
             ],
             [
              0.6666666666666666,
              "#ed7953"
             ],
             [
              0.7777777777777778,
              "#fb9f3a"
             ],
             [
              0.8888888888888888,
              "#fdca26"
             ],
             [
              1,
              "#f0f921"
             ]
            ],
            "type": "heatmap"
           }
          ],
          "heatmapgl": [
           {
            "colorbar": {
             "outlinewidth": 0,
             "ticks": ""
            },
            "colorscale": [
             [
              0,
              "#0d0887"
             ],
             [
              0.1111111111111111,
              "#46039f"
             ],
             [
              0.2222222222222222,
              "#7201a8"
             ],
             [
              0.3333333333333333,
              "#9c179e"
             ],
             [
              0.4444444444444444,
              "#bd3786"
             ],
             [
              0.5555555555555556,
              "#d8576b"
             ],
             [
              0.6666666666666666,
              "#ed7953"
             ],
             [
              0.7777777777777778,
              "#fb9f3a"
             ],
             [
              0.8888888888888888,
              "#fdca26"
             ],
             [
              1,
              "#f0f921"
             ]
            ],
            "type": "heatmapgl"
           }
          ],
          "histogram": [
           {
            "marker": {
             "pattern": {
              "fillmode": "overlay",
              "size": 10,
              "solidity": 0.2
             }
            },
            "type": "histogram"
           }
          ],
          "histogram2d": [
           {
            "colorbar": {
             "outlinewidth": 0,
             "ticks": ""
            },
            "colorscale": [
             [
              0,
              "#0d0887"
             ],
             [
              0.1111111111111111,
              "#46039f"
             ],
             [
              0.2222222222222222,
              "#7201a8"
             ],
             [
              0.3333333333333333,
              "#9c179e"
             ],
             [
              0.4444444444444444,
              "#bd3786"
             ],
             [
              0.5555555555555556,
              "#d8576b"
             ],
             [
              0.6666666666666666,
              "#ed7953"
             ],
             [
              0.7777777777777778,
              "#fb9f3a"
             ],
             [
              0.8888888888888888,
              "#fdca26"
             ],
             [
              1,
              "#f0f921"
             ]
            ],
            "type": "histogram2d"
           }
          ],
          "histogram2dcontour": [
           {
            "colorbar": {
             "outlinewidth": 0,
             "ticks": ""
            },
            "colorscale": [
             [
              0,
              "#0d0887"
             ],
             [
              0.1111111111111111,
              "#46039f"
             ],
             [
              0.2222222222222222,
              "#7201a8"
             ],
             [
              0.3333333333333333,
              "#9c179e"
             ],
             [
              0.4444444444444444,
              "#bd3786"
             ],
             [
              0.5555555555555556,
              "#d8576b"
             ],
             [
              0.6666666666666666,
              "#ed7953"
             ],
             [
              0.7777777777777778,
              "#fb9f3a"
             ],
             [
              0.8888888888888888,
              "#fdca26"
             ],
             [
              1,
              "#f0f921"
             ]
            ],
            "type": "histogram2dcontour"
           }
          ],
          "mesh3d": [
           {
            "colorbar": {
             "outlinewidth": 0,
             "ticks": ""
            },
            "type": "mesh3d"
           }
          ],
          "parcoords": [
           {
            "line": {
             "colorbar": {
              "outlinewidth": 0,
              "ticks": ""
             }
            },
            "type": "parcoords"
           }
          ],
          "pie": [
           {
            "automargin": true,
            "type": "pie"
           }
          ],
          "scatter": [
           {
            "fillpattern": {
             "fillmode": "overlay",
             "size": 10,
             "solidity": 0.2
            },
            "type": "scatter"
           }
          ],
          "scatter3d": [
           {
            "line": {
             "colorbar": {
              "outlinewidth": 0,
              "ticks": ""
             }
            },
            "marker": {
             "colorbar": {
              "outlinewidth": 0,
              "ticks": ""
             }
            },
            "type": "scatter3d"
           }
          ],
          "scattercarpet": [
           {
            "marker": {
             "colorbar": {
              "outlinewidth": 0,
              "ticks": ""
             }
            },
            "type": "scattercarpet"
           }
          ],
          "scattergeo": [
           {
            "marker": {
             "colorbar": {
              "outlinewidth": 0,
              "ticks": ""
             }
            },
            "type": "scattergeo"
           }
          ],
          "scattergl": [
           {
            "marker": {
             "colorbar": {
              "outlinewidth": 0,
              "ticks": ""
             }
            },
            "type": "scattergl"
           }
          ],
          "scattermapbox": [
           {
            "marker": {
             "colorbar": {
              "outlinewidth": 0,
              "ticks": ""
             }
            },
            "type": "scattermapbox"
           }
          ],
          "scatterpolar": [
           {
            "marker": {
             "colorbar": {
              "outlinewidth": 0,
              "ticks": ""
             }
            },
            "type": "scatterpolar"
           }
          ],
          "scatterpolargl": [
           {
            "marker": {
             "colorbar": {
              "outlinewidth": 0,
              "ticks": ""
             }
            },
            "type": "scatterpolargl"
           }
          ],
          "scatterternary": [
           {
            "marker": {
             "colorbar": {
              "outlinewidth": 0,
              "ticks": ""
             }
            },
            "type": "scatterternary"
           }
          ],
          "surface": [
           {
            "colorbar": {
             "outlinewidth": 0,
             "ticks": ""
            },
            "colorscale": [
             [
              0,
              "#0d0887"
             ],
             [
              0.1111111111111111,
              "#46039f"
             ],
             [
              0.2222222222222222,
              "#7201a8"
             ],
             [
              0.3333333333333333,
              "#9c179e"
             ],
             [
              0.4444444444444444,
              "#bd3786"
             ],
             [
              0.5555555555555556,
              "#d8576b"
             ],
             [
              0.6666666666666666,
              "#ed7953"
             ],
             [
              0.7777777777777778,
              "#fb9f3a"
             ],
             [
              0.8888888888888888,
              "#fdca26"
             ],
             [
              1,
              "#f0f921"
             ]
            ],
            "type": "surface"
           }
          ],
          "table": [
           {
            "cells": {
             "fill": {
              "color": "#EBF0F8"
             },
             "line": {
              "color": "white"
             }
            },
            "header": {
             "fill": {
              "color": "#C8D4E3"
             },
             "line": {
              "color": "white"
             }
            },
            "type": "table"
           }
          ]
         },
         "layout": {
          "annotationdefaults": {
           "arrowcolor": "#2a3f5f",
           "arrowhead": 0,
           "arrowwidth": 1
          },
          "autotypenumbers": "strict",
          "coloraxis": {
           "colorbar": {
            "outlinewidth": 0,
            "ticks": ""
           }
          },
          "colorscale": {
           "diverging": [
            [
             0,
             "#8e0152"
            ],
            [
             0.1,
             "#c51b7d"
            ],
            [
             0.2,
             "#de77ae"
            ],
            [
             0.3,
             "#f1b6da"
            ],
            [
             0.4,
             "#fde0ef"
            ],
            [
             0.5,
             "#f7f7f7"
            ],
            [
             0.6,
             "#e6f5d0"
            ],
            [
             0.7,
             "#b8e186"
            ],
            [
             0.8,
             "#7fbc41"
            ],
            [
             0.9,
             "#4d9221"
            ],
            [
             1,
             "#276419"
            ]
           ],
           "sequential": [
            [
             0,
             "#0d0887"
            ],
            [
             0.1111111111111111,
             "#46039f"
            ],
            [
             0.2222222222222222,
             "#7201a8"
            ],
            [
             0.3333333333333333,
             "#9c179e"
            ],
            [
             0.4444444444444444,
             "#bd3786"
            ],
            [
             0.5555555555555556,
             "#d8576b"
            ],
            [
             0.6666666666666666,
             "#ed7953"
            ],
            [
             0.7777777777777778,
             "#fb9f3a"
            ],
            [
             0.8888888888888888,
             "#fdca26"
            ],
            [
             1,
             "#f0f921"
            ]
           ],
           "sequentialminus": [
            [
             0,
             "#0d0887"
            ],
            [
             0.1111111111111111,
             "#46039f"
            ],
            [
             0.2222222222222222,
             "#7201a8"
            ],
            [
             0.3333333333333333,
             "#9c179e"
            ],
            [
             0.4444444444444444,
             "#bd3786"
            ],
            [
             0.5555555555555556,
             "#d8576b"
            ],
            [
             0.6666666666666666,
             "#ed7953"
            ],
            [
             0.7777777777777778,
             "#fb9f3a"
            ],
            [
             0.8888888888888888,
             "#fdca26"
            ],
            [
             1,
             "#f0f921"
            ]
           ]
          },
          "colorway": [
           "#636efa",
           "#EF553B",
           "#00cc96",
           "#ab63fa",
           "#FFA15A",
           "#19d3f3",
           "#FF6692",
           "#B6E880",
           "#FF97FF",
           "#FECB52"
          ],
          "font": {
           "color": "#2a3f5f"
          },
          "geo": {
           "bgcolor": "white",
           "lakecolor": "white",
           "landcolor": "#E5ECF6",
           "showlakes": true,
           "showland": true,
           "subunitcolor": "white"
          },
          "hoverlabel": {
           "align": "left"
          },
          "hovermode": "closest",
          "mapbox": {
           "style": "light"
          },
          "paper_bgcolor": "white",
          "plot_bgcolor": "#E5ECF6",
          "polar": {
           "angularaxis": {
            "gridcolor": "white",
            "linecolor": "white",
            "ticks": ""
           },
           "bgcolor": "#E5ECF6",
           "radialaxis": {
            "gridcolor": "white",
            "linecolor": "white",
            "ticks": ""
           }
          },
          "scene": {
           "xaxis": {
            "backgroundcolor": "#E5ECF6",
            "gridcolor": "white",
            "gridwidth": 2,
            "linecolor": "white",
            "showbackground": true,
            "ticks": "",
            "zerolinecolor": "white"
           },
           "yaxis": {
            "backgroundcolor": "#E5ECF6",
            "gridcolor": "white",
            "gridwidth": 2,
            "linecolor": "white",
            "showbackground": true,
            "ticks": "",
            "zerolinecolor": "white"
           },
           "zaxis": {
            "backgroundcolor": "#E5ECF6",
            "gridcolor": "white",
            "gridwidth": 2,
            "linecolor": "white",
            "showbackground": true,
            "ticks": "",
            "zerolinecolor": "white"
           }
          },
          "shapedefaults": {
           "line": {
            "color": "#2a3f5f"
           }
          },
          "ternary": {
           "aaxis": {
            "gridcolor": "white",
            "linecolor": "white",
            "ticks": ""
           },
           "baxis": {
            "gridcolor": "white",
            "linecolor": "white",
            "ticks": ""
           },
           "bgcolor": "#E5ECF6",
           "caxis": {
            "gridcolor": "white",
            "linecolor": "white",
            "ticks": ""
           }
          },
          "title": {
           "x": 0.05
          },
          "xaxis": {
           "automargin": true,
           "gridcolor": "white",
           "linecolor": "white",
           "ticks": "",
           "title": {
            "standoff": 15
           },
           "zerolinecolor": "white",
           "zerolinewidth": 2
          },
          "yaxis": {
           "automargin": true,
           "gridcolor": "white",
           "linecolor": "white",
           "ticks": "",
           "title": {
            "standoff": 15
           },
           "zerolinecolor": "white",
           "zerolinewidth": 2
          }
         }
        },
        "title": {
         "text": "Average (Ave) of Each Partnership"
        },
        "width": 800,
        "xaxis": {
         "anchor": "y",
         "domain": [
          0,
          1
         ],
         "tickangle": 45,
         "title": {
          "text": "Partners"
         }
        },
        "yaxis": {
         "anchor": "x",
         "domain": [
          0,
          1
         ],
         "tickvals": [
          30,
          40,
          50,
          60,
          70
         ],
         "title": {
          "text": "Average"
         }
        }
       }
      },
      "text/html": [
       "<div>                            <div id=\"7172f3c8-5100-4837-8be8-27fb43f4542a\" class=\"plotly-graph-div\" style=\"height:600px; width:800px;\"></div>            <script type=\"text/javascript\">                require([\"plotly\"], function(Plotly) {                    window.PLOTLYENV=window.PLOTLYENV || {};                                    if (document.getElementById(\"7172f3c8-5100-4837-8be8-27fb43f4542a\")) {                    Plotly.newPlot(                        \"7172f3c8-5100-4837-8be8-27fb43f4542a\",                        [{\"alignmentgroup\":\"True\",\"customdata\":[[\"Right-Right\"],[\"Right-Right\"],[\"Right-Right\"],[\"Right-Right\"],[\"Right-Right\"],[\"Right-Right\"],[\"Right-Right\"],[\"Right-Right\"],[\"Right-Right\"]],\"hovertemplate\":\"Combination=%{customdata[0]}<br>Partners=%{x}<br>Average=%{y}<extra></extra>\",\"legendgroup\":\"Right-Right\",\"marker\":{\"color\":\"#636efa\",\"pattern\":{\"shape\":\"\"}},\"name\":\"Right-Right\",\"offsetgroup\":\"Right-Right\",\"orientation\":\"v\",\"showlegend\":true,\"textposition\":\"outside\",\"x\":[\"V Kohli, RG Sharma\",\"LRPL Taylor, KS Williamson\",\"CG Greenidge, DL Haynes\",\"MS Atapattu, DPMD Jayawardene\",\"Inzamam-ul-Haq, Mohammad Yousuf\",\"R Dravid, SR Tendulkar\",\"DL Haynes, RB Richardson\",\"DC Boon, GR Marsh\",\"V Sehwag, SR Tendulkar\"],\"xaxis\":\"x\",\"y\":[62.47,57.75,52.58,44.54,44.36,44.26,40.28,40.07,39.16],\"yaxis\":\"y\",\"type\":\"bar\",\"texttemplate\":\"%{y}\"},{\"alignmentgroup\":\"True\",\"customdata\":[[\"Left-Right\"],[\"Left-Right\"],[\"Left-Right\"],[\"Left-Right\"],[\"Left-Right\"],[\"Left-Right\"],[\"Left-Right\"],[\"Left-Right\"],[\"Left-Right\"],[\"Left-Right\"],[\"Left-Right\"],[\"Left-Right\"],[\"Left-Right\"],[\"Left-Right\"],[\"Left-Right\"],[\"Left-Right\"],[\"Left-Right\"],[\"Left-Right\"]],\"hovertemplate\":\"Combination=%{customdata[0]}<br>Partners=%{x}<br>Average=%{y}<extra></extra>\",\"legendgroup\":\"Left-Right\",\"marker\":{\"color\":\"#EF553B\",\"pattern\":{\"shape\":\"\"}},\"name\":\"Left-Right\",\"offsetgroup\":\"Left-Right\",\"orientation\":\"v\",\"showlegend\":true,\"textposition\":\"outside\",\"x\":[\"MS Dhoni, SK Raina\",\"TM Dilshan, KC Sangakkara\",\"ML Hayden, RT Ponting\",\"R Dravid, SC Ganguly\",\"M Azharuddin, SR Tendulkar\",\"AJ Finch, DA Warner\",\"SC Ganguly, SR Tendulkar\",\"A Flower, GW Flower\",\"AC Gilchrist, RT Ponting\",\"HM Amla, Q de Kock\",\"S Dhawan, RG Sharma\",\"HH Gibbs, GC Smith\",\"DPMD Jayawardene, KC Sangakkara\",\"AC Gilchrist, ME Waugh\",\"MS Atapattu, ST Jayasuriya\",\"Mushfiqur Rahim, Shakib Al Hasan\",\"PA de Silva, A Ranatunga\",\"NJ Astle, SP Fleming\"],\"xaxis\":\"x\",\"y\":[56.9,53.67,52.44,50.14,48.8,47.94,47.55,46.92,46.84,46.73,45.15,43.45,41.61,41.58,39.29,38.32,37.27,33.16],\"yaxis\":\"y\",\"type\":\"bar\",\"texttemplate\":\"%{y}\"},{\"alignmentgroup\":\"True\",\"customdata\":[[\"Left-Left\"],[\"Left-Left\"]],\"hovertemplate\":\"Combination=%{customdata[0]}<br>Partners=%{x}<br>Average=%{y}<extra></extra>\",\"legendgroup\":\"Left-Left\",\"marker\":{\"color\":\"#00cc96\",\"pattern\":{\"shape\":\"\"}},\"name\":\"Left-Left\",\"offsetgroup\":\"Left-Left\",\"orientation\":\"v\",\"showlegend\":true,\"textposition\":\"outside\",\"x\":[\"AC Gilchrist, ML Hayden\",\"Aamer Sohail, Saeed Anwar\"],\"xaxis\":\"x\",\"y\":[47.44,41.86],\"yaxis\":\"y\",\"type\":\"bar\",\"texttemplate\":\"%{y}\"}],                        {\"template\":{\"data\":{\"histogram2dcontour\":[{\"type\":\"histogram2dcontour\",\"colorbar\":{\"outlinewidth\":0,\"ticks\":\"\"},\"colorscale\":[[0.0,\"#0d0887\"],[0.1111111111111111,\"#46039f\"],[0.2222222222222222,\"#7201a8\"],[0.3333333333333333,\"#9c179e\"],[0.4444444444444444,\"#bd3786\"],[0.5555555555555556,\"#d8576b\"],[0.6666666666666666,\"#ed7953\"],[0.7777777777777778,\"#fb9f3a\"],[0.8888888888888888,\"#fdca26\"],[1.0,\"#f0f921\"]]}],\"choropleth\":[{\"type\":\"choropleth\",\"colorbar\":{\"outlinewidth\":0,\"ticks\":\"\"}}],\"histogram2d\":[{\"type\":\"histogram2d\",\"colorbar\":{\"outlinewidth\":0,\"ticks\":\"\"},\"colorscale\":[[0.0,\"#0d0887\"],[0.1111111111111111,\"#46039f\"],[0.2222222222222222,\"#7201a8\"],[0.3333333333333333,\"#9c179e\"],[0.4444444444444444,\"#bd3786\"],[0.5555555555555556,\"#d8576b\"],[0.6666666666666666,\"#ed7953\"],[0.7777777777777778,\"#fb9f3a\"],[0.8888888888888888,\"#fdca26\"],[1.0,\"#f0f921\"]]}],\"heatmap\":[{\"type\":\"heatmap\",\"colorbar\":{\"outlinewidth\":0,\"ticks\":\"\"},\"colorscale\":[[0.0,\"#0d0887\"],[0.1111111111111111,\"#46039f\"],[0.2222222222222222,\"#7201a8\"],[0.3333333333333333,\"#9c179e\"],[0.4444444444444444,\"#bd3786\"],[0.5555555555555556,\"#d8576b\"],[0.6666666666666666,\"#ed7953\"],[0.7777777777777778,\"#fb9f3a\"],[0.8888888888888888,\"#fdca26\"],[1.0,\"#f0f921\"]]}],\"heatmapgl\":[{\"type\":\"heatmapgl\",\"colorbar\":{\"outlinewidth\":0,\"ticks\":\"\"},\"colorscale\":[[0.0,\"#0d0887\"],[0.1111111111111111,\"#46039f\"],[0.2222222222222222,\"#7201a8\"],[0.3333333333333333,\"#9c179e\"],[0.4444444444444444,\"#bd3786\"],[0.5555555555555556,\"#d8576b\"],[0.6666666666666666,\"#ed7953\"],[0.7777777777777778,\"#fb9f3a\"],[0.8888888888888888,\"#fdca26\"],[1.0,\"#f0f921\"]]}],\"contourcarpet\":[{\"type\":\"contourcarpet\",\"colorbar\":{\"outlinewidth\":0,\"ticks\":\"\"}}],\"contour\":[{\"type\":\"contour\",\"colorbar\":{\"outlinewidth\":0,\"ticks\":\"\"},\"colorscale\":[[0.0,\"#0d0887\"],[0.1111111111111111,\"#46039f\"],[0.2222222222222222,\"#7201a8\"],[0.3333333333333333,\"#9c179e\"],[0.4444444444444444,\"#bd3786\"],[0.5555555555555556,\"#d8576b\"],[0.6666666666666666,\"#ed7953\"],[0.7777777777777778,\"#fb9f3a\"],[0.8888888888888888,\"#fdca26\"],[1.0,\"#f0f921\"]]}],\"surface\":[{\"type\":\"surface\",\"colorbar\":{\"outlinewidth\":0,\"ticks\":\"\"},\"colorscale\":[[0.0,\"#0d0887\"],[0.1111111111111111,\"#46039f\"],[0.2222222222222222,\"#7201a8\"],[0.3333333333333333,\"#9c179e\"],[0.4444444444444444,\"#bd3786\"],[0.5555555555555556,\"#d8576b\"],[0.6666666666666666,\"#ed7953\"],[0.7777777777777778,\"#fb9f3a\"],[0.8888888888888888,\"#fdca26\"],[1.0,\"#f0f921\"]]}],\"mesh3d\":[{\"type\":\"mesh3d\",\"colorbar\":{\"outlinewidth\":0,\"ticks\":\"\"}}],\"scatter\":[{\"fillpattern\":{\"fillmode\":\"overlay\",\"size\":10,\"solidity\":0.2},\"type\":\"scatter\"}],\"parcoords\":[{\"type\":\"parcoords\",\"line\":{\"colorbar\":{\"outlinewidth\":0,\"ticks\":\"\"}}}],\"scatterpolargl\":[{\"type\":\"scatterpolargl\",\"marker\":{\"colorbar\":{\"outlinewidth\":0,\"ticks\":\"\"}}}],\"bar\":[{\"error_x\":{\"color\":\"#2a3f5f\"},\"error_y\":{\"color\":\"#2a3f5f\"},\"marker\":{\"line\":{\"color\":\"#E5ECF6\",\"width\":0.5},\"pattern\":{\"fillmode\":\"overlay\",\"size\":10,\"solidity\":0.2}},\"type\":\"bar\"}],\"scattergeo\":[{\"type\":\"scattergeo\",\"marker\":{\"colorbar\":{\"outlinewidth\":0,\"ticks\":\"\"}}}],\"scatterpolar\":[{\"type\":\"scatterpolar\",\"marker\":{\"colorbar\":{\"outlinewidth\":0,\"ticks\":\"\"}}}],\"histogram\":[{\"marker\":{\"pattern\":{\"fillmode\":\"overlay\",\"size\":10,\"solidity\":0.2}},\"type\":\"histogram\"}],\"scattergl\":[{\"type\":\"scattergl\",\"marker\":{\"colorbar\":{\"outlinewidth\":0,\"ticks\":\"\"}}}],\"scatter3d\":[{\"type\":\"scatter3d\",\"line\":{\"colorbar\":{\"outlinewidth\":0,\"ticks\":\"\"}},\"marker\":{\"colorbar\":{\"outlinewidth\":0,\"ticks\":\"\"}}}],\"scattermapbox\":[{\"type\":\"scattermapbox\",\"marker\":{\"colorbar\":{\"outlinewidth\":0,\"ticks\":\"\"}}}],\"scatterternary\":[{\"type\":\"scatterternary\",\"marker\":{\"colorbar\":{\"outlinewidth\":0,\"ticks\":\"\"}}}],\"scattercarpet\":[{\"type\":\"scattercarpet\",\"marker\":{\"colorbar\":{\"outlinewidth\":0,\"ticks\":\"\"}}}],\"carpet\":[{\"aaxis\":{\"endlinecolor\":\"#2a3f5f\",\"gridcolor\":\"white\",\"linecolor\":\"white\",\"minorgridcolor\":\"white\",\"startlinecolor\":\"#2a3f5f\"},\"baxis\":{\"endlinecolor\":\"#2a3f5f\",\"gridcolor\":\"white\",\"linecolor\":\"white\",\"minorgridcolor\":\"white\",\"startlinecolor\":\"#2a3f5f\"},\"type\":\"carpet\"}],\"table\":[{\"cells\":{\"fill\":{\"color\":\"#EBF0F8\"},\"line\":{\"color\":\"white\"}},\"header\":{\"fill\":{\"color\":\"#C8D4E3\"},\"line\":{\"color\":\"white\"}},\"type\":\"table\"}],\"barpolar\":[{\"marker\":{\"line\":{\"color\":\"#E5ECF6\",\"width\":0.5},\"pattern\":{\"fillmode\":\"overlay\",\"size\":10,\"solidity\":0.2}},\"type\":\"barpolar\"}],\"pie\":[{\"automargin\":true,\"type\":\"pie\"}]},\"layout\":{\"autotypenumbers\":\"strict\",\"colorway\":[\"#636efa\",\"#EF553B\",\"#00cc96\",\"#ab63fa\",\"#FFA15A\",\"#19d3f3\",\"#FF6692\",\"#B6E880\",\"#FF97FF\",\"#FECB52\"],\"font\":{\"color\":\"#2a3f5f\"},\"hovermode\":\"closest\",\"hoverlabel\":{\"align\":\"left\"},\"paper_bgcolor\":\"white\",\"plot_bgcolor\":\"#E5ECF6\",\"polar\":{\"bgcolor\":\"#E5ECF6\",\"angularaxis\":{\"gridcolor\":\"white\",\"linecolor\":\"white\",\"ticks\":\"\"},\"radialaxis\":{\"gridcolor\":\"white\",\"linecolor\":\"white\",\"ticks\":\"\"}},\"ternary\":{\"bgcolor\":\"#E5ECF6\",\"aaxis\":{\"gridcolor\":\"white\",\"linecolor\":\"white\",\"ticks\":\"\"},\"baxis\":{\"gridcolor\":\"white\",\"linecolor\":\"white\",\"ticks\":\"\"},\"caxis\":{\"gridcolor\":\"white\",\"linecolor\":\"white\",\"ticks\":\"\"}},\"coloraxis\":{\"colorbar\":{\"outlinewidth\":0,\"ticks\":\"\"}},\"colorscale\":{\"sequential\":[[0.0,\"#0d0887\"],[0.1111111111111111,\"#46039f\"],[0.2222222222222222,\"#7201a8\"],[0.3333333333333333,\"#9c179e\"],[0.4444444444444444,\"#bd3786\"],[0.5555555555555556,\"#d8576b\"],[0.6666666666666666,\"#ed7953\"],[0.7777777777777778,\"#fb9f3a\"],[0.8888888888888888,\"#fdca26\"],[1.0,\"#f0f921\"]],\"sequentialminus\":[[0.0,\"#0d0887\"],[0.1111111111111111,\"#46039f\"],[0.2222222222222222,\"#7201a8\"],[0.3333333333333333,\"#9c179e\"],[0.4444444444444444,\"#bd3786\"],[0.5555555555555556,\"#d8576b\"],[0.6666666666666666,\"#ed7953\"],[0.7777777777777778,\"#fb9f3a\"],[0.8888888888888888,\"#fdca26\"],[1.0,\"#f0f921\"]],\"diverging\":[[0,\"#8e0152\"],[0.1,\"#c51b7d\"],[0.2,\"#de77ae\"],[0.3,\"#f1b6da\"],[0.4,\"#fde0ef\"],[0.5,\"#f7f7f7\"],[0.6,\"#e6f5d0\"],[0.7,\"#b8e186\"],[0.8,\"#7fbc41\"],[0.9,\"#4d9221\"],[1,\"#276419\"]]},\"xaxis\":{\"gridcolor\":\"white\",\"linecolor\":\"white\",\"ticks\":\"\",\"title\":{\"standoff\":15},\"zerolinecolor\":\"white\",\"automargin\":true,\"zerolinewidth\":2},\"yaxis\":{\"gridcolor\":\"white\",\"linecolor\":\"white\",\"ticks\":\"\",\"title\":{\"standoff\":15},\"zerolinecolor\":\"white\",\"automargin\":true,\"zerolinewidth\":2},\"scene\":{\"xaxis\":{\"backgroundcolor\":\"#E5ECF6\",\"gridcolor\":\"white\",\"linecolor\":\"white\",\"showbackground\":true,\"ticks\":\"\",\"zerolinecolor\":\"white\",\"gridwidth\":2},\"yaxis\":{\"backgroundcolor\":\"#E5ECF6\",\"gridcolor\":\"white\",\"linecolor\":\"white\",\"showbackground\":true,\"ticks\":\"\",\"zerolinecolor\":\"white\",\"gridwidth\":2},\"zaxis\":{\"backgroundcolor\":\"#E5ECF6\",\"gridcolor\":\"white\",\"linecolor\":\"white\",\"showbackground\":true,\"ticks\":\"\",\"zerolinecolor\":\"white\",\"gridwidth\":2}},\"shapedefaults\":{\"line\":{\"color\":\"#2a3f5f\"}},\"annotationdefaults\":{\"arrowcolor\":\"#2a3f5f\",\"arrowhead\":0,\"arrowwidth\":1},\"geo\":{\"bgcolor\":\"white\",\"landcolor\":\"#E5ECF6\",\"subunitcolor\":\"white\",\"showland\":true,\"showlakes\":true,\"lakecolor\":\"white\"},\"title\":{\"x\":0.05},\"mapbox\":{\"style\":\"light\"}}},\"xaxis\":{\"anchor\":\"y\",\"domain\":[0.0,1.0],\"title\":{\"text\":\"Partners\"},\"tickangle\":45},\"yaxis\":{\"anchor\":\"x\",\"domain\":[0.0,1.0],\"title\":{\"text\":\"Average\"},\"tickvals\":[30,40,50,60,70]},\"legend\":{\"title\":{\"text\":\"Combination\"},\"tracegroupgap\":0},\"title\":{\"text\":\"Average (Ave) of Each Partnership\"},\"barmode\":\"relative\",\"height\":600,\"width\":800},                        {\"responsive\": true}                    ).then(function(){\n",
       "                            \n",
       "var gd = document.getElementById('7172f3c8-5100-4837-8be8-27fb43f4542a');\n",
       "var x = new MutationObserver(function (mutations, observer) {{\n",
       "        var display = window.getComputedStyle(gd).display;\n",
       "        if (!display || display === 'none') {{\n",
       "            console.log([gd, 'removed!']);\n",
       "            Plotly.purge(gd);\n",
       "            observer.disconnect();\n",
       "        }}\n",
       "}});\n",
       "\n",
       "// Listen for the removal of the full notebook cells\n",
       "var notebookContainer = gd.closest('#notebook-container');\n",
       "if (notebookContainer) {{\n",
       "    x.observe(notebookContainer, {childList: true});\n",
       "}}\n",
       "\n",
       "// Listen for the clearing of the current output cell\n",
       "var outputEl = gd.closest('.output');\n",
       "if (outputEl) {{\n",
       "    x.observe(outputEl, {childList: true});\n",
       "}}\n",
       "\n",
       "                        })                };                });            </script>        </div>"
      ]
     },
     "metadata": {},
     "output_type": "display_data"
    }
   ],
   "source": [
    "import pandas as pd\n",
    "import plotly.express as px\n",
    "\n",
    "# Sample dataset (replace this with your loaded dataset)\n",
    "data = {\n",
    "    'Partners': ['SC Ganguly, SR Tendulkar', 'DPMD Jayawardene, KC Sangakkara', 'TM Dilshan, KC Sangakkara', 'MS Atapattu, ST Jayasuriya', 'AC Gilchrist, ML Hayden', 'CG Greenidge, DL Haynes', 'S Dhawan, RG Sharma', 'V Kohli, RG Sharma', 'V Sehwag, SR Tendulkar', 'R Dravid, SC Ganguly', 'HM Amla, Q de Kock', 'R Dravid, SR Tendulkar', 'Inzamam-ul-Haq, Mohammad Yousuf', 'AC Gilchrist, ME Waugh', 'A Flower, GW Flower', 'DL Haynes, RB Richardson', 'NJ Astle, SP Fleming', 'LRPL Taylor, KS Williamson', 'DC Boon, GR Marsh', 'PA de Silva, A Ranatunga', 'AJ Finch, DA Warner', 'HH Gibbs, GC Smith', 'AC Gilchrist, RT Ponting', 'MS Dhoni, SK Raina', 'Aamer Sohail, Saeed Anwar', 'M Azharuddin, SR Tendulkar', 'ML Hayden, RT Ponting', 'Mushfiqur Rahim, Shakib Al Hasan', 'MS Atapattu, DPMD Jayawardene'],\n",
    "    'Runs': [8227, 5992, 5475, 5462, 5409, 5206, 5193, 4998, 4387, 4363, 4300, 4117, 4082, 3992, 3942, 3908, 3814, 3812, 3807, 3802, 3788, 3607, 3607, 3585, 3517, 3514, 3514, 3449, 3430],\n",
    "    'Ave': [47.55, 41.61, 53.67, 39.29, 47.44, 52.58, 45.15, 62.47, 39.16, 50.14, 46.73, 44.26, 44.36, 41.58, 46.92, 40.28, 33.16, 57.75, 40.07, 37.27, 47.94, 43.45, 46.84, 56.9, 41.86, 48.8, 52.44, 38.32, 44.54],\n",
    "    'Combination': ['Left-Right', 'Left-Right', 'Left-Right', 'Left-Right', 'Left-Left', 'Right-Right', 'Left-Right', 'Right-Right', 'Right-Right', 'Left-Right', 'Left-Right', 'Right-Right', 'Right-Right', 'Left-Right', 'Left-Right', 'Right-Right', 'Left-Right', 'Right-Right', 'Right-Right', 'Left-Right', 'Left-Right', 'Left-Right', 'Left-Right', 'Left-Right', 'Left-Left', 'Left-Right', 'Left-Right', 'Left-Right', 'Right-Right']\n",
    "}\n",
    "\n",
    "# Create a DataFrame from the sample data (you can replace this with your loaded DataFrame)\n",
    "df = pd.DataFrame(data)\n",
    "\n",
    "# Sort the DataFrame by 'Ave' (average) in descending order\n",
    "df = df.sort_values(by='Ave', ascending=False)\n",
    "\n",
    "# Create a vertical bar chart with tooltips and custom sorting, and color code by 'Combination'\n",
    "fig = px.bar(df, x='Partners', y='Ave', color='Combination',\n",
    "             title='Average (Ave) of Each Partnership',\n",
    "             labels={'x': 'Partners', 'Ave': 'Average'}, hover_data=['Combination'])\n",
    "\n",
    "# Customize the tooltip formatting\n",
    "fig.update_traces(texttemplate='%{y}', textposition='outside')\n",
    "\n",
    "# Set custom tick values for the y-axis to create gaps at certain averages\n",
    "fig.update_yaxes(tickvals=[30, 40, 50, 60, 70])\n",
    "\n",
    "# Adjust the chart size to accommodate larger values\n",
    "fig.update_layout(height=600, width=800)  # Increase the height and width as needed\n",
    "\n",
    "# Rotate the x-axis labels for better readability\n",
    "fig.update_layout(xaxis_tickangle=45)\n",
    "\n",
    "# Show the interactive chart\n",
    "fig.show()"
   ]
  },
  {
   "cell_type": "code",
   "execution_count": 102,
   "id": "4801964e",
   "metadata": {},
   "outputs": [
    {
     "data": {
      "application/vnd.plotly.v1+json": {
       "config": {
        "plotlyServerURL": "https://plot.ly"
       },
       "data": [
        {
         "alignmentgroup": "True",
         "customdata": [
          [
           "Left-Right"
          ],
          [
           "Left-Right"
          ],
          [
           "Left-Right"
          ],
          [
           "Left-Right"
          ],
          [
           "Left-Right"
          ],
          [
           "Left-Right"
          ],
          [
           "Left-Right"
          ],
          [
           "Left-Right"
          ],
          [
           "Left-Right"
          ],
          [
           "Left-Right"
          ],
          [
           "Left-Right"
          ],
          [
           "Left-Right"
          ],
          [
           "Left-Right"
          ],
          [
           "Left-Right"
          ],
          [
           "Left-Right"
          ],
          [
           "Left-Right"
          ],
          [
           "Left-Right"
          ],
          [
           "Left-Right"
          ]
         ],
         "hovertemplate": "Combination=%{customdata[0]}<br>Partners=%{x}<br>Centuries=%{y}<extra></extra>",
         "legendgroup": "Left-Right",
         "marker": {
          "color": "#636efa",
          "pattern": {
           "shape": ""
          }
         },
         "name": "Left-Right",
         "offsetgroup": "Left-Right",
         "orientation": "v",
         "showlegend": true,
         "textposition": "outside",
         "texttemplate": "%{y}",
         "type": "bar",
         "x": [
          "SC Ganguly, SR Tendulkar",
          "TM Dilshan, KC Sangakkara",
          "S Dhawan, RG Sharma",
          "DPMD Jayawardene, KC Sangakkara",
          "MS Atapattu, ST Jayasuriya",
          "AJ Finch, DA Warner",
          "A Flower, GW Flower",
          "R Dravid, SC Ganguly",
          "HM Amla, Q de Kock",
          "HH Gibbs, GC Smith",
          "ML Hayden, RT Ponting",
          "NJ Astle, SP Fleming",
          "MS Dhoni, SK Raina",
          "AC Gilchrist, RT Ponting",
          "M Azharuddin, SR Tendulkar",
          "AC Gilchrist, ME Waugh",
          "PA de Silva, A Ranatunga",
          "Mushfiqur Rahim, Shakib Al Hasan"
         ],
         "xaxis": "x",
         "y": [
          26,
          20,
          18,
          15,
          14,
          12,
          12,
          11,
          11,
          11,
          10,
          9,
          9,
          8,
          8,
          8,
          8,
          7
         ],
         "yaxis": "y"
        },
        {
         "alignmentgroup": "True",
         "customdata": [
          [
           "Right-Right"
          ],
          [
           "Right-Right"
          ],
          [
           "Right-Right"
          ],
          [
           "Right-Right"
          ],
          [
           "Right-Right"
          ],
          [
           "Right-Right"
          ],
          [
           "Right-Right"
          ],
          [
           "Right-Right"
          ],
          [
           "Right-Right"
          ]
         ],
         "hovertemplate": "Combination=%{customdata[0]}<br>Partners=%{x}<br>Centuries=%{y}<extra></extra>",
         "legendgroup": "Right-Right",
         "marker": {
          "color": "#EF553B",
          "pattern": {
           "shape": ""
          }
         },
         "name": "Right-Right",
         "offsetgroup": "Right-Right",
         "orientation": "v",
         "showlegend": true,
         "textposition": "outside",
         "texttemplate": "%{y}",
         "type": "bar",
         "x": [
          "V Kohli, RG Sharma",
          "CG Greenidge, DL Haynes",
          "LRPL Taylor, KS Williamson",
          "V Sehwag, SR Tendulkar",
          "R Dravid, SR Tendulkar",
          "DL Haynes, RB Richardson",
          "Inzamam-ul-Haq, Mohammad Yousuf",
          "DC Boon, GR Marsh",
          "MS Atapattu, DPMD Jayawardene"
         ],
         "xaxis": "x",
         "y": [
          18,
          15,
          14,
          13,
          11,
          9,
          8,
          8,
          4
         ],
         "yaxis": "y"
        },
        {
         "alignmentgroup": "True",
         "customdata": [
          [
           "Left-Left"
          ],
          [
           "Left-Left"
          ]
         ],
         "hovertemplate": "Combination=%{customdata[0]}<br>Partners=%{x}<br>Centuries=%{y}<extra></extra>",
         "legendgroup": "Left-Left",
         "marker": {
          "color": "#00cc96",
          "pattern": {
           "shape": ""
          }
         },
         "name": "Left-Left",
         "offsetgroup": "Left-Left",
         "orientation": "v",
         "showlegend": true,
         "textposition": "outside",
         "texttemplate": "%{y}",
         "type": "bar",
         "x": [
          "AC Gilchrist, ML Hayden",
          "Aamer Sohail, Saeed Anwar"
         ],
         "xaxis": "x",
         "y": [
          16,
          5
         ],
         "yaxis": "y"
        }
       ],
       "layout": {
        "barmode": "relative",
        "height": 600,
        "legend": {
         "title": {
          "text": "Combination"
         },
         "tracegroupgap": 0
        },
        "template": {
         "data": {
          "bar": [
           {
            "error_x": {
             "color": "#2a3f5f"
            },
            "error_y": {
             "color": "#2a3f5f"
            },
            "marker": {
             "line": {
              "color": "#E5ECF6",
              "width": 0.5
             },
             "pattern": {
              "fillmode": "overlay",
              "size": 10,
              "solidity": 0.2
             }
            },
            "type": "bar"
           }
          ],
          "barpolar": [
           {
            "marker": {
             "line": {
              "color": "#E5ECF6",
              "width": 0.5
             },
             "pattern": {
              "fillmode": "overlay",
              "size": 10,
              "solidity": 0.2
             }
            },
            "type": "barpolar"
           }
          ],
          "carpet": [
           {
            "aaxis": {
             "endlinecolor": "#2a3f5f",
             "gridcolor": "white",
             "linecolor": "white",
             "minorgridcolor": "white",
             "startlinecolor": "#2a3f5f"
            },
            "baxis": {
             "endlinecolor": "#2a3f5f",
             "gridcolor": "white",
             "linecolor": "white",
             "minorgridcolor": "white",
             "startlinecolor": "#2a3f5f"
            },
            "type": "carpet"
           }
          ],
          "choropleth": [
           {
            "colorbar": {
             "outlinewidth": 0,
             "ticks": ""
            },
            "type": "choropleth"
           }
          ],
          "contour": [
           {
            "colorbar": {
             "outlinewidth": 0,
             "ticks": ""
            },
            "colorscale": [
             [
              0,
              "#0d0887"
             ],
             [
              0.1111111111111111,
              "#46039f"
             ],
             [
              0.2222222222222222,
              "#7201a8"
             ],
             [
              0.3333333333333333,
              "#9c179e"
             ],
             [
              0.4444444444444444,
              "#bd3786"
             ],
             [
              0.5555555555555556,
              "#d8576b"
             ],
             [
              0.6666666666666666,
              "#ed7953"
             ],
             [
              0.7777777777777778,
              "#fb9f3a"
             ],
             [
              0.8888888888888888,
              "#fdca26"
             ],
             [
              1,
              "#f0f921"
             ]
            ],
            "type": "contour"
           }
          ],
          "contourcarpet": [
           {
            "colorbar": {
             "outlinewidth": 0,
             "ticks": ""
            },
            "type": "contourcarpet"
           }
          ],
          "heatmap": [
           {
            "colorbar": {
             "outlinewidth": 0,
             "ticks": ""
            },
            "colorscale": [
             [
              0,
              "#0d0887"
             ],
             [
              0.1111111111111111,
              "#46039f"
             ],
             [
              0.2222222222222222,
              "#7201a8"
             ],
             [
              0.3333333333333333,
              "#9c179e"
             ],
             [
              0.4444444444444444,
              "#bd3786"
             ],
             [
              0.5555555555555556,
              "#d8576b"
             ],
             [
              0.6666666666666666,
              "#ed7953"
             ],
             [
              0.7777777777777778,
              "#fb9f3a"
             ],
             [
              0.8888888888888888,
              "#fdca26"
             ],
             [
              1,
              "#f0f921"
             ]
            ],
            "type": "heatmap"
           }
          ],
          "heatmapgl": [
           {
            "colorbar": {
             "outlinewidth": 0,
             "ticks": ""
            },
            "colorscale": [
             [
              0,
              "#0d0887"
             ],
             [
              0.1111111111111111,
              "#46039f"
             ],
             [
              0.2222222222222222,
              "#7201a8"
             ],
             [
              0.3333333333333333,
              "#9c179e"
             ],
             [
              0.4444444444444444,
              "#bd3786"
             ],
             [
              0.5555555555555556,
              "#d8576b"
             ],
             [
              0.6666666666666666,
              "#ed7953"
             ],
             [
              0.7777777777777778,
              "#fb9f3a"
             ],
             [
              0.8888888888888888,
              "#fdca26"
             ],
             [
              1,
              "#f0f921"
             ]
            ],
            "type": "heatmapgl"
           }
          ],
          "histogram": [
           {
            "marker": {
             "pattern": {
              "fillmode": "overlay",
              "size": 10,
              "solidity": 0.2
             }
            },
            "type": "histogram"
           }
          ],
          "histogram2d": [
           {
            "colorbar": {
             "outlinewidth": 0,
             "ticks": ""
            },
            "colorscale": [
             [
              0,
              "#0d0887"
             ],
             [
              0.1111111111111111,
              "#46039f"
             ],
             [
              0.2222222222222222,
              "#7201a8"
             ],
             [
              0.3333333333333333,
              "#9c179e"
             ],
             [
              0.4444444444444444,
              "#bd3786"
             ],
             [
              0.5555555555555556,
              "#d8576b"
             ],
             [
              0.6666666666666666,
              "#ed7953"
             ],
             [
              0.7777777777777778,
              "#fb9f3a"
             ],
             [
              0.8888888888888888,
              "#fdca26"
             ],
             [
              1,
              "#f0f921"
             ]
            ],
            "type": "histogram2d"
           }
          ],
          "histogram2dcontour": [
           {
            "colorbar": {
             "outlinewidth": 0,
             "ticks": ""
            },
            "colorscale": [
             [
              0,
              "#0d0887"
             ],
             [
              0.1111111111111111,
              "#46039f"
             ],
             [
              0.2222222222222222,
              "#7201a8"
             ],
             [
              0.3333333333333333,
              "#9c179e"
             ],
             [
              0.4444444444444444,
              "#bd3786"
             ],
             [
              0.5555555555555556,
              "#d8576b"
             ],
             [
              0.6666666666666666,
              "#ed7953"
             ],
             [
              0.7777777777777778,
              "#fb9f3a"
             ],
             [
              0.8888888888888888,
              "#fdca26"
             ],
             [
              1,
              "#f0f921"
             ]
            ],
            "type": "histogram2dcontour"
           }
          ],
          "mesh3d": [
           {
            "colorbar": {
             "outlinewidth": 0,
             "ticks": ""
            },
            "type": "mesh3d"
           }
          ],
          "parcoords": [
           {
            "line": {
             "colorbar": {
              "outlinewidth": 0,
              "ticks": ""
             }
            },
            "type": "parcoords"
           }
          ],
          "pie": [
           {
            "automargin": true,
            "type": "pie"
           }
          ],
          "scatter": [
           {
            "fillpattern": {
             "fillmode": "overlay",
             "size": 10,
             "solidity": 0.2
            },
            "type": "scatter"
           }
          ],
          "scatter3d": [
           {
            "line": {
             "colorbar": {
              "outlinewidth": 0,
              "ticks": ""
             }
            },
            "marker": {
             "colorbar": {
              "outlinewidth": 0,
              "ticks": ""
             }
            },
            "type": "scatter3d"
           }
          ],
          "scattercarpet": [
           {
            "marker": {
             "colorbar": {
              "outlinewidth": 0,
              "ticks": ""
             }
            },
            "type": "scattercarpet"
           }
          ],
          "scattergeo": [
           {
            "marker": {
             "colorbar": {
              "outlinewidth": 0,
              "ticks": ""
             }
            },
            "type": "scattergeo"
           }
          ],
          "scattergl": [
           {
            "marker": {
             "colorbar": {
              "outlinewidth": 0,
              "ticks": ""
             }
            },
            "type": "scattergl"
           }
          ],
          "scattermapbox": [
           {
            "marker": {
             "colorbar": {
              "outlinewidth": 0,
              "ticks": ""
             }
            },
            "type": "scattermapbox"
           }
          ],
          "scatterpolar": [
           {
            "marker": {
             "colorbar": {
              "outlinewidth": 0,
              "ticks": ""
             }
            },
            "type": "scatterpolar"
           }
          ],
          "scatterpolargl": [
           {
            "marker": {
             "colorbar": {
              "outlinewidth": 0,
              "ticks": ""
             }
            },
            "type": "scatterpolargl"
           }
          ],
          "scatterternary": [
           {
            "marker": {
             "colorbar": {
              "outlinewidth": 0,
              "ticks": ""
             }
            },
            "type": "scatterternary"
           }
          ],
          "surface": [
           {
            "colorbar": {
             "outlinewidth": 0,
             "ticks": ""
            },
            "colorscale": [
             [
              0,
              "#0d0887"
             ],
             [
              0.1111111111111111,
              "#46039f"
             ],
             [
              0.2222222222222222,
              "#7201a8"
             ],
             [
              0.3333333333333333,
              "#9c179e"
             ],
             [
              0.4444444444444444,
              "#bd3786"
             ],
             [
              0.5555555555555556,
              "#d8576b"
             ],
             [
              0.6666666666666666,
              "#ed7953"
             ],
             [
              0.7777777777777778,
              "#fb9f3a"
             ],
             [
              0.8888888888888888,
              "#fdca26"
             ],
             [
              1,
              "#f0f921"
             ]
            ],
            "type": "surface"
           }
          ],
          "table": [
           {
            "cells": {
             "fill": {
              "color": "#EBF0F8"
             },
             "line": {
              "color": "white"
             }
            },
            "header": {
             "fill": {
              "color": "#C8D4E3"
             },
             "line": {
              "color": "white"
             }
            },
            "type": "table"
           }
          ]
         },
         "layout": {
          "annotationdefaults": {
           "arrowcolor": "#2a3f5f",
           "arrowhead": 0,
           "arrowwidth": 1
          },
          "autotypenumbers": "strict",
          "coloraxis": {
           "colorbar": {
            "outlinewidth": 0,
            "ticks": ""
           }
          },
          "colorscale": {
           "diverging": [
            [
             0,
             "#8e0152"
            ],
            [
             0.1,
             "#c51b7d"
            ],
            [
             0.2,
             "#de77ae"
            ],
            [
             0.3,
             "#f1b6da"
            ],
            [
             0.4,
             "#fde0ef"
            ],
            [
             0.5,
             "#f7f7f7"
            ],
            [
             0.6,
             "#e6f5d0"
            ],
            [
             0.7,
             "#b8e186"
            ],
            [
             0.8,
             "#7fbc41"
            ],
            [
             0.9,
             "#4d9221"
            ],
            [
             1,
             "#276419"
            ]
           ],
           "sequential": [
            [
             0,
             "#0d0887"
            ],
            [
             0.1111111111111111,
             "#46039f"
            ],
            [
             0.2222222222222222,
             "#7201a8"
            ],
            [
             0.3333333333333333,
             "#9c179e"
            ],
            [
             0.4444444444444444,
             "#bd3786"
            ],
            [
             0.5555555555555556,
             "#d8576b"
            ],
            [
             0.6666666666666666,
             "#ed7953"
            ],
            [
             0.7777777777777778,
             "#fb9f3a"
            ],
            [
             0.8888888888888888,
             "#fdca26"
            ],
            [
             1,
             "#f0f921"
            ]
           ],
           "sequentialminus": [
            [
             0,
             "#0d0887"
            ],
            [
             0.1111111111111111,
             "#46039f"
            ],
            [
             0.2222222222222222,
             "#7201a8"
            ],
            [
             0.3333333333333333,
             "#9c179e"
            ],
            [
             0.4444444444444444,
             "#bd3786"
            ],
            [
             0.5555555555555556,
             "#d8576b"
            ],
            [
             0.6666666666666666,
             "#ed7953"
            ],
            [
             0.7777777777777778,
             "#fb9f3a"
            ],
            [
             0.8888888888888888,
             "#fdca26"
            ],
            [
             1,
             "#f0f921"
            ]
           ]
          },
          "colorway": [
           "#636efa",
           "#EF553B",
           "#00cc96",
           "#ab63fa",
           "#FFA15A",
           "#19d3f3",
           "#FF6692",
           "#B6E880",
           "#FF97FF",
           "#FECB52"
          ],
          "font": {
           "color": "#2a3f5f"
          },
          "geo": {
           "bgcolor": "white",
           "lakecolor": "white",
           "landcolor": "#E5ECF6",
           "showlakes": true,
           "showland": true,
           "subunitcolor": "white"
          },
          "hoverlabel": {
           "align": "left"
          },
          "hovermode": "closest",
          "mapbox": {
           "style": "light"
          },
          "paper_bgcolor": "white",
          "plot_bgcolor": "#E5ECF6",
          "polar": {
           "angularaxis": {
            "gridcolor": "white",
            "linecolor": "white",
            "ticks": ""
           },
           "bgcolor": "#E5ECF6",
           "radialaxis": {
            "gridcolor": "white",
            "linecolor": "white",
            "ticks": ""
           }
          },
          "scene": {
           "xaxis": {
            "backgroundcolor": "#E5ECF6",
            "gridcolor": "white",
            "gridwidth": 2,
            "linecolor": "white",
            "showbackground": true,
            "ticks": "",
            "zerolinecolor": "white"
           },
           "yaxis": {
            "backgroundcolor": "#E5ECF6",
            "gridcolor": "white",
            "gridwidth": 2,
            "linecolor": "white",
            "showbackground": true,
            "ticks": "",
            "zerolinecolor": "white"
           },
           "zaxis": {
            "backgroundcolor": "#E5ECF6",
            "gridcolor": "white",
            "gridwidth": 2,
            "linecolor": "white",
            "showbackground": true,
            "ticks": "",
            "zerolinecolor": "white"
           }
          },
          "shapedefaults": {
           "line": {
            "color": "#2a3f5f"
           }
          },
          "ternary": {
           "aaxis": {
            "gridcolor": "white",
            "linecolor": "white",
            "ticks": ""
           },
           "baxis": {
            "gridcolor": "white",
            "linecolor": "white",
            "ticks": ""
           },
           "bgcolor": "#E5ECF6",
           "caxis": {
            "gridcolor": "white",
            "linecolor": "white",
            "ticks": ""
           }
          },
          "title": {
           "x": 0.05
          },
          "xaxis": {
           "automargin": true,
           "gridcolor": "white",
           "linecolor": "white",
           "ticks": "",
           "title": {
            "standoff": 15
           },
           "zerolinecolor": "white",
           "zerolinewidth": 2
          },
          "yaxis": {
           "automargin": true,
           "gridcolor": "white",
           "linecolor": "white",
           "ticks": "",
           "title": {
            "standoff": 15
           },
           "zerolinecolor": "white",
           "zerolinewidth": 2
          }
         }
        },
        "title": {
         "text": "Number of Centuries (100s) Scored by Each Partnership"
        },
        "width": 800,
        "xaxis": {
         "anchor": "y",
         "domain": [
          0,
          1
         ],
         "tickangle": 45,
         "title": {
          "text": "Partners"
         }
        },
        "yaxis": {
         "anchor": "x",
         "domain": [
          0,
          1
         ],
         "tickvals": [
          0,
          5,
          10,
          15,
          20,
          25,
          30,
          35,
          40
         ],
         "title": {
          "text": "Centuries"
         }
        }
       }
      },
      "text/html": [
       "<div>                            <div id=\"379b2ddc-882e-4c28-be88-08e87bea838d\" class=\"plotly-graph-div\" style=\"height:600px; width:800px;\"></div>            <script type=\"text/javascript\">                require([\"plotly\"], function(Plotly) {                    window.PLOTLYENV=window.PLOTLYENV || {};                                    if (document.getElementById(\"379b2ddc-882e-4c28-be88-08e87bea838d\")) {                    Plotly.newPlot(                        \"379b2ddc-882e-4c28-be88-08e87bea838d\",                        [{\"alignmentgroup\":\"True\",\"customdata\":[[\"Left-Right\"],[\"Left-Right\"],[\"Left-Right\"],[\"Left-Right\"],[\"Left-Right\"],[\"Left-Right\"],[\"Left-Right\"],[\"Left-Right\"],[\"Left-Right\"],[\"Left-Right\"],[\"Left-Right\"],[\"Left-Right\"],[\"Left-Right\"],[\"Left-Right\"],[\"Left-Right\"],[\"Left-Right\"],[\"Left-Right\"],[\"Left-Right\"]],\"hovertemplate\":\"Combination=%{customdata[0]}<br>Partners=%{x}<br>Centuries=%{y}<extra></extra>\",\"legendgroup\":\"Left-Right\",\"marker\":{\"color\":\"#636efa\",\"pattern\":{\"shape\":\"\"}},\"name\":\"Left-Right\",\"offsetgroup\":\"Left-Right\",\"orientation\":\"v\",\"showlegend\":true,\"textposition\":\"outside\",\"x\":[\"SC Ganguly, SR Tendulkar\",\"TM Dilshan, KC Sangakkara\",\"S Dhawan, RG Sharma\",\"DPMD Jayawardene, KC Sangakkara\",\"MS Atapattu, ST Jayasuriya\",\"AJ Finch, DA Warner\",\"A Flower, GW Flower\",\"R Dravid, SC Ganguly\",\"HM Amla, Q de Kock\",\"HH Gibbs, GC Smith\",\"ML Hayden, RT Ponting\",\"NJ Astle, SP Fleming\",\"MS Dhoni, SK Raina\",\"AC Gilchrist, RT Ponting\",\"M Azharuddin, SR Tendulkar\",\"AC Gilchrist, ME Waugh\",\"PA de Silva, A Ranatunga\",\"Mushfiqur Rahim, Shakib Al Hasan\"],\"xaxis\":\"x\",\"y\":[26,20,18,15,14,12,12,11,11,11,10,9,9,8,8,8,8,7],\"yaxis\":\"y\",\"type\":\"bar\",\"texttemplate\":\"%{y}\"},{\"alignmentgroup\":\"True\",\"customdata\":[[\"Right-Right\"],[\"Right-Right\"],[\"Right-Right\"],[\"Right-Right\"],[\"Right-Right\"],[\"Right-Right\"],[\"Right-Right\"],[\"Right-Right\"],[\"Right-Right\"]],\"hovertemplate\":\"Combination=%{customdata[0]}<br>Partners=%{x}<br>Centuries=%{y}<extra></extra>\",\"legendgroup\":\"Right-Right\",\"marker\":{\"color\":\"#EF553B\",\"pattern\":{\"shape\":\"\"}},\"name\":\"Right-Right\",\"offsetgroup\":\"Right-Right\",\"orientation\":\"v\",\"showlegend\":true,\"textposition\":\"outside\",\"x\":[\"V Kohli, RG Sharma\",\"CG Greenidge, DL Haynes\",\"LRPL Taylor, KS Williamson\",\"V Sehwag, SR Tendulkar\",\"R Dravid, SR Tendulkar\",\"DL Haynes, RB Richardson\",\"Inzamam-ul-Haq, Mohammad Yousuf\",\"DC Boon, GR Marsh\",\"MS Atapattu, DPMD Jayawardene\"],\"xaxis\":\"x\",\"y\":[18,15,14,13,11,9,8,8,4],\"yaxis\":\"y\",\"type\":\"bar\",\"texttemplate\":\"%{y}\"},{\"alignmentgroup\":\"True\",\"customdata\":[[\"Left-Left\"],[\"Left-Left\"]],\"hovertemplate\":\"Combination=%{customdata[0]}<br>Partners=%{x}<br>Centuries=%{y}<extra></extra>\",\"legendgroup\":\"Left-Left\",\"marker\":{\"color\":\"#00cc96\",\"pattern\":{\"shape\":\"\"}},\"name\":\"Left-Left\",\"offsetgroup\":\"Left-Left\",\"orientation\":\"v\",\"showlegend\":true,\"textposition\":\"outside\",\"x\":[\"AC Gilchrist, ML Hayden\",\"Aamer Sohail, Saeed Anwar\"],\"xaxis\":\"x\",\"y\":[16,5],\"yaxis\":\"y\",\"type\":\"bar\",\"texttemplate\":\"%{y}\"}],                        {\"template\":{\"data\":{\"histogram2dcontour\":[{\"type\":\"histogram2dcontour\",\"colorbar\":{\"outlinewidth\":0,\"ticks\":\"\"},\"colorscale\":[[0.0,\"#0d0887\"],[0.1111111111111111,\"#46039f\"],[0.2222222222222222,\"#7201a8\"],[0.3333333333333333,\"#9c179e\"],[0.4444444444444444,\"#bd3786\"],[0.5555555555555556,\"#d8576b\"],[0.6666666666666666,\"#ed7953\"],[0.7777777777777778,\"#fb9f3a\"],[0.8888888888888888,\"#fdca26\"],[1.0,\"#f0f921\"]]}],\"choropleth\":[{\"type\":\"choropleth\",\"colorbar\":{\"outlinewidth\":0,\"ticks\":\"\"}}],\"histogram2d\":[{\"type\":\"histogram2d\",\"colorbar\":{\"outlinewidth\":0,\"ticks\":\"\"},\"colorscale\":[[0.0,\"#0d0887\"],[0.1111111111111111,\"#46039f\"],[0.2222222222222222,\"#7201a8\"],[0.3333333333333333,\"#9c179e\"],[0.4444444444444444,\"#bd3786\"],[0.5555555555555556,\"#d8576b\"],[0.6666666666666666,\"#ed7953\"],[0.7777777777777778,\"#fb9f3a\"],[0.8888888888888888,\"#fdca26\"],[1.0,\"#f0f921\"]]}],\"heatmap\":[{\"type\":\"heatmap\",\"colorbar\":{\"outlinewidth\":0,\"ticks\":\"\"},\"colorscale\":[[0.0,\"#0d0887\"],[0.1111111111111111,\"#46039f\"],[0.2222222222222222,\"#7201a8\"],[0.3333333333333333,\"#9c179e\"],[0.4444444444444444,\"#bd3786\"],[0.5555555555555556,\"#d8576b\"],[0.6666666666666666,\"#ed7953\"],[0.7777777777777778,\"#fb9f3a\"],[0.8888888888888888,\"#fdca26\"],[1.0,\"#f0f921\"]]}],\"heatmapgl\":[{\"type\":\"heatmapgl\",\"colorbar\":{\"outlinewidth\":0,\"ticks\":\"\"},\"colorscale\":[[0.0,\"#0d0887\"],[0.1111111111111111,\"#46039f\"],[0.2222222222222222,\"#7201a8\"],[0.3333333333333333,\"#9c179e\"],[0.4444444444444444,\"#bd3786\"],[0.5555555555555556,\"#d8576b\"],[0.6666666666666666,\"#ed7953\"],[0.7777777777777778,\"#fb9f3a\"],[0.8888888888888888,\"#fdca26\"],[1.0,\"#f0f921\"]]}],\"contourcarpet\":[{\"type\":\"contourcarpet\",\"colorbar\":{\"outlinewidth\":0,\"ticks\":\"\"}}],\"contour\":[{\"type\":\"contour\",\"colorbar\":{\"outlinewidth\":0,\"ticks\":\"\"},\"colorscale\":[[0.0,\"#0d0887\"],[0.1111111111111111,\"#46039f\"],[0.2222222222222222,\"#7201a8\"],[0.3333333333333333,\"#9c179e\"],[0.4444444444444444,\"#bd3786\"],[0.5555555555555556,\"#d8576b\"],[0.6666666666666666,\"#ed7953\"],[0.7777777777777778,\"#fb9f3a\"],[0.8888888888888888,\"#fdca26\"],[1.0,\"#f0f921\"]]}],\"surface\":[{\"type\":\"surface\",\"colorbar\":{\"outlinewidth\":0,\"ticks\":\"\"},\"colorscale\":[[0.0,\"#0d0887\"],[0.1111111111111111,\"#46039f\"],[0.2222222222222222,\"#7201a8\"],[0.3333333333333333,\"#9c179e\"],[0.4444444444444444,\"#bd3786\"],[0.5555555555555556,\"#d8576b\"],[0.6666666666666666,\"#ed7953\"],[0.7777777777777778,\"#fb9f3a\"],[0.8888888888888888,\"#fdca26\"],[1.0,\"#f0f921\"]]}],\"mesh3d\":[{\"type\":\"mesh3d\",\"colorbar\":{\"outlinewidth\":0,\"ticks\":\"\"}}],\"scatter\":[{\"fillpattern\":{\"fillmode\":\"overlay\",\"size\":10,\"solidity\":0.2},\"type\":\"scatter\"}],\"parcoords\":[{\"type\":\"parcoords\",\"line\":{\"colorbar\":{\"outlinewidth\":0,\"ticks\":\"\"}}}],\"scatterpolargl\":[{\"type\":\"scatterpolargl\",\"marker\":{\"colorbar\":{\"outlinewidth\":0,\"ticks\":\"\"}}}],\"bar\":[{\"error_x\":{\"color\":\"#2a3f5f\"},\"error_y\":{\"color\":\"#2a3f5f\"},\"marker\":{\"line\":{\"color\":\"#E5ECF6\",\"width\":0.5},\"pattern\":{\"fillmode\":\"overlay\",\"size\":10,\"solidity\":0.2}},\"type\":\"bar\"}],\"scattergeo\":[{\"type\":\"scattergeo\",\"marker\":{\"colorbar\":{\"outlinewidth\":0,\"ticks\":\"\"}}}],\"scatterpolar\":[{\"type\":\"scatterpolar\",\"marker\":{\"colorbar\":{\"outlinewidth\":0,\"ticks\":\"\"}}}],\"histogram\":[{\"marker\":{\"pattern\":{\"fillmode\":\"overlay\",\"size\":10,\"solidity\":0.2}},\"type\":\"histogram\"}],\"scattergl\":[{\"type\":\"scattergl\",\"marker\":{\"colorbar\":{\"outlinewidth\":0,\"ticks\":\"\"}}}],\"scatter3d\":[{\"type\":\"scatter3d\",\"line\":{\"colorbar\":{\"outlinewidth\":0,\"ticks\":\"\"}},\"marker\":{\"colorbar\":{\"outlinewidth\":0,\"ticks\":\"\"}}}],\"scattermapbox\":[{\"type\":\"scattermapbox\",\"marker\":{\"colorbar\":{\"outlinewidth\":0,\"ticks\":\"\"}}}],\"scatterternary\":[{\"type\":\"scatterternary\",\"marker\":{\"colorbar\":{\"outlinewidth\":0,\"ticks\":\"\"}}}],\"scattercarpet\":[{\"type\":\"scattercarpet\",\"marker\":{\"colorbar\":{\"outlinewidth\":0,\"ticks\":\"\"}}}],\"carpet\":[{\"aaxis\":{\"endlinecolor\":\"#2a3f5f\",\"gridcolor\":\"white\",\"linecolor\":\"white\",\"minorgridcolor\":\"white\",\"startlinecolor\":\"#2a3f5f\"},\"baxis\":{\"endlinecolor\":\"#2a3f5f\",\"gridcolor\":\"white\",\"linecolor\":\"white\",\"minorgridcolor\":\"white\",\"startlinecolor\":\"#2a3f5f\"},\"type\":\"carpet\"}],\"table\":[{\"cells\":{\"fill\":{\"color\":\"#EBF0F8\"},\"line\":{\"color\":\"white\"}},\"header\":{\"fill\":{\"color\":\"#C8D4E3\"},\"line\":{\"color\":\"white\"}},\"type\":\"table\"}],\"barpolar\":[{\"marker\":{\"line\":{\"color\":\"#E5ECF6\",\"width\":0.5},\"pattern\":{\"fillmode\":\"overlay\",\"size\":10,\"solidity\":0.2}},\"type\":\"barpolar\"}],\"pie\":[{\"automargin\":true,\"type\":\"pie\"}]},\"layout\":{\"autotypenumbers\":\"strict\",\"colorway\":[\"#636efa\",\"#EF553B\",\"#00cc96\",\"#ab63fa\",\"#FFA15A\",\"#19d3f3\",\"#FF6692\",\"#B6E880\",\"#FF97FF\",\"#FECB52\"],\"font\":{\"color\":\"#2a3f5f\"},\"hovermode\":\"closest\",\"hoverlabel\":{\"align\":\"left\"},\"paper_bgcolor\":\"white\",\"plot_bgcolor\":\"#E5ECF6\",\"polar\":{\"bgcolor\":\"#E5ECF6\",\"angularaxis\":{\"gridcolor\":\"white\",\"linecolor\":\"white\",\"ticks\":\"\"},\"radialaxis\":{\"gridcolor\":\"white\",\"linecolor\":\"white\",\"ticks\":\"\"}},\"ternary\":{\"bgcolor\":\"#E5ECF6\",\"aaxis\":{\"gridcolor\":\"white\",\"linecolor\":\"white\",\"ticks\":\"\"},\"baxis\":{\"gridcolor\":\"white\",\"linecolor\":\"white\",\"ticks\":\"\"},\"caxis\":{\"gridcolor\":\"white\",\"linecolor\":\"white\",\"ticks\":\"\"}},\"coloraxis\":{\"colorbar\":{\"outlinewidth\":0,\"ticks\":\"\"}},\"colorscale\":{\"sequential\":[[0.0,\"#0d0887\"],[0.1111111111111111,\"#46039f\"],[0.2222222222222222,\"#7201a8\"],[0.3333333333333333,\"#9c179e\"],[0.4444444444444444,\"#bd3786\"],[0.5555555555555556,\"#d8576b\"],[0.6666666666666666,\"#ed7953\"],[0.7777777777777778,\"#fb9f3a\"],[0.8888888888888888,\"#fdca26\"],[1.0,\"#f0f921\"]],\"sequentialminus\":[[0.0,\"#0d0887\"],[0.1111111111111111,\"#46039f\"],[0.2222222222222222,\"#7201a8\"],[0.3333333333333333,\"#9c179e\"],[0.4444444444444444,\"#bd3786\"],[0.5555555555555556,\"#d8576b\"],[0.6666666666666666,\"#ed7953\"],[0.7777777777777778,\"#fb9f3a\"],[0.8888888888888888,\"#fdca26\"],[1.0,\"#f0f921\"]],\"diverging\":[[0,\"#8e0152\"],[0.1,\"#c51b7d\"],[0.2,\"#de77ae\"],[0.3,\"#f1b6da\"],[0.4,\"#fde0ef\"],[0.5,\"#f7f7f7\"],[0.6,\"#e6f5d0\"],[0.7,\"#b8e186\"],[0.8,\"#7fbc41\"],[0.9,\"#4d9221\"],[1,\"#276419\"]]},\"xaxis\":{\"gridcolor\":\"white\",\"linecolor\":\"white\",\"ticks\":\"\",\"title\":{\"standoff\":15},\"zerolinecolor\":\"white\",\"automargin\":true,\"zerolinewidth\":2},\"yaxis\":{\"gridcolor\":\"white\",\"linecolor\":\"white\",\"ticks\":\"\",\"title\":{\"standoff\":15},\"zerolinecolor\":\"white\",\"automargin\":true,\"zerolinewidth\":2},\"scene\":{\"xaxis\":{\"backgroundcolor\":\"#E5ECF6\",\"gridcolor\":\"white\",\"linecolor\":\"white\",\"showbackground\":true,\"ticks\":\"\",\"zerolinecolor\":\"white\",\"gridwidth\":2},\"yaxis\":{\"backgroundcolor\":\"#E5ECF6\",\"gridcolor\":\"white\",\"linecolor\":\"white\",\"showbackground\":true,\"ticks\":\"\",\"zerolinecolor\":\"white\",\"gridwidth\":2},\"zaxis\":{\"backgroundcolor\":\"#E5ECF6\",\"gridcolor\":\"white\",\"linecolor\":\"white\",\"showbackground\":true,\"ticks\":\"\",\"zerolinecolor\":\"white\",\"gridwidth\":2}},\"shapedefaults\":{\"line\":{\"color\":\"#2a3f5f\"}},\"annotationdefaults\":{\"arrowcolor\":\"#2a3f5f\",\"arrowhead\":0,\"arrowwidth\":1},\"geo\":{\"bgcolor\":\"white\",\"landcolor\":\"#E5ECF6\",\"subunitcolor\":\"white\",\"showland\":true,\"showlakes\":true,\"lakecolor\":\"white\"},\"title\":{\"x\":0.05},\"mapbox\":{\"style\":\"light\"}}},\"xaxis\":{\"anchor\":\"y\",\"domain\":[0.0,1.0],\"title\":{\"text\":\"Partners\"},\"tickangle\":45},\"yaxis\":{\"anchor\":\"x\",\"domain\":[0.0,1.0],\"title\":{\"text\":\"Centuries\"},\"tickvals\":[0,5,10,15,20,25,30,35,40]},\"legend\":{\"title\":{\"text\":\"Combination\"},\"tracegroupgap\":0},\"title\":{\"text\":\"Number of Centuries (100s) Scored by Each Partnership\"},\"barmode\":\"relative\",\"height\":600,\"width\":800},                        {\"responsive\": true}                    ).then(function(){\n",
       "                            \n",
       "var gd = document.getElementById('379b2ddc-882e-4c28-be88-08e87bea838d');\n",
       "var x = new MutationObserver(function (mutations, observer) {{\n",
       "        var display = window.getComputedStyle(gd).display;\n",
       "        if (!display || display === 'none') {{\n",
       "            console.log([gd, 'removed!']);\n",
       "            Plotly.purge(gd);\n",
       "            observer.disconnect();\n",
       "        }}\n",
       "}});\n",
       "\n",
       "// Listen for the removal of the full notebook cells\n",
       "var notebookContainer = gd.closest('#notebook-container');\n",
       "if (notebookContainer) {{\n",
       "    x.observe(notebookContainer, {childList: true});\n",
       "}}\n",
       "\n",
       "// Listen for the clearing of the current output cell\n",
       "var outputEl = gd.closest('.output');\n",
       "if (outputEl) {{\n",
       "    x.observe(outputEl, {childList: true});\n",
       "}}\n",
       "\n",
       "                        })                };                });            </script>        </div>"
      ]
     },
     "metadata": {},
     "output_type": "display_data"
    }
   ],
   "source": [
    "import pandas as pd\n",
    "import plotly.express as px\n",
    "\n",
    "# Sample dataset (replace this with your loaded dataset)\n",
    "data = {\n",
    "    'Partners': ['SC Ganguly, SR Tendulkar', 'DPMD Jayawardene, KC Sangakkara', 'TM Dilshan, KC Sangakkara', 'MS Atapattu, ST Jayasuriya', 'AC Gilchrist, ML Hayden', 'CG Greenidge, DL Haynes', 'S Dhawan, RG Sharma', 'V Kohli, RG Sharma', 'V Sehwag, SR Tendulkar', 'R Dravid, SC Ganguly', 'HM Amla, Q de Kock', 'R Dravid, SR Tendulkar', 'Inzamam-ul-Haq, Mohammad Yousuf', 'AC Gilchrist, ME Waugh', 'A Flower, GW Flower', 'DL Haynes, RB Richardson', 'NJ Astle, SP Fleming', 'LRPL Taylor, KS Williamson', 'DC Boon, GR Marsh', 'PA de Silva, A Ranatunga', 'AJ Finch, DA Warner', 'HH Gibbs, GC Smith', 'AC Gilchrist, RT Ponting', 'MS Dhoni, SK Raina', 'Aamer Sohail, Saeed Anwar', 'M Azharuddin, SR Tendulkar', 'ML Hayden, RT Ponting', 'Mushfiqur Rahim, Shakib Al Hasan', 'MS Atapattu, DPMD Jayawardene'],\n",
    "    '100s': [26, 15, 20, 14, 16, 15, 18, 18, 13, 11, 11, 11, 8, 8, 12, 9, 9, 14, 8, 8, 12, 11, 8, 9, 5, 8, 10, 7, 4],\n",
    "    'Combination': ['Left-Right', 'Left-Right', 'Left-Right', 'Left-Right', 'Left-Left', 'Right-Right', 'Left-Right', 'Right-Right', 'Right-Right', 'Left-Right', 'Left-Right', 'Right-Right', 'Right-Right', 'Left-Right', 'Left-Right', 'Right-Right', 'Left-Right', 'Right-Right', 'Right-Right', 'Left-Right', 'Left-Right', 'Left-Right', 'Left-Right', 'Left-Right', 'Left-Left', 'Left-Right', 'Left-Right', 'Left-Right', 'Right-Right']\n",
    "}\n",
    "\n",
    "# Create a DataFrame from the sample data (you can replace this with your loaded DataFrame)\n",
    "df = pd.DataFrame(data)\n",
    "\n",
    "# Sort the DataFrame by '100s' in descending order\n",
    "df = df.sort_values(by='100s', ascending=False)\n",
    "\n",
    "# Create a vertical bar chart with tooltips and custom sorting, and color code by 'Combination'\n",
    "fig = px.bar(df, x='Partners', y='100s', color='Combination',\n",
    "             title='Number of Centuries (100s) Scored by Each Partnership',\n",
    "             labels={'x': 'Partners', '100s': 'Centuries'}, hover_data=['Combination'])\n",
    "\n",
    "# Customize the tooltip formatting\n",
    "fig.update_traces(texttemplate='%{y}', textposition='outside')\n",
    "\n",
    "# Set custom tick values for the y-axis\n",
    "fig.update_yaxes(tickvals=[0, 5, 10, 15, 20, 25, 30, 35, 40])\n",
    "\n",
    "# Adjust the chart size to accommodate the data\n",
    "fig.update_layout(height=600, width=800)  # Increase the height and width as needed\n",
    "\n",
    "# Rotate the x-axis labels for better readability\n",
    "fig.update_layout(xaxis_tickangle=45)\n",
    "\n",
    "# Show the interactive chart\n",
    "fig.show()\n"
   ]
  },
  {
   "cell_type": "code",
   "execution_count": 109,
   "id": "42808ea5",
   "metadata": {},
   "outputs": [
    {
     "name": "stdout",
     "output_type": "stream",
     "text": [
      "   Combination  Average  Inns\n",
      "2  Right-Right    47.28   850\n",
      "1   Left-Right    45.44  1852\n",
      "0    Left-Left    44.66   203\n"
     ]
    }
   ],
   "source": [
    "import pandas as pd\n",
    "\n",
    "# Sample DataFrame (replace this with your actual DataFrame)\n",
    "data = {\n",
    "    'Partners': ['SC Ganguly, SR Tendulkar', 'DPMD Jayawardene, KC Sangakkara', 'TM Dilshan, KC Sangakkara', 'MS Atapattu, ST Jayasuriya', 'AC Gilchrist, ML Hayden', 'CG Greenidge, DL Haynes', 'S Dhawan, RG Sharma', 'V Kohli, RG Sharma', 'V Sehwag, SR Tendulkar', 'R Dravid, SC Ganguly', 'HM Amla, Q de Kock', 'R Dravid, SR Tendulkar', 'Inzamam-ul-Haq, Mohammad Yousuf', 'AC Gilchrist, ME Waugh', 'A Flower, GW Flower', 'DL Haynes, RB Richardson', 'NJ Astle, SP Fleming', 'LRPL Taylor, KS Williamson', 'DC Boon, GR Marsh', 'PA de Silva, A Ranatunga', 'AJ Finch, DA Warner', 'HH Gibbs, GC Smith', 'AC Gilchrist, RT Ponting', 'MS Dhoni, SK Raina', 'Aamer Sohail, Saeed Anwar', 'M Azharuddin, SR Tendulkar', 'ML Hayden, RT Ponting', 'Mushfiqur Rahim, Shakib Al Hasan', 'MS Atapattu, DPMD Jayawardene'],\n",
    "    'Combination': ['Left-Right', 'Left-Right', 'Left-Right', 'Left-Right', 'Left-Left', 'Right-Right', 'Left-Right', 'Right-Right', 'Right-Right', 'Left-Right', 'Left-Right', 'Right-Right', 'Right-Right', 'Left-Right', 'Left-Right', 'Right-Right', 'Left-Right', 'Right-Right', 'Right-Right', 'Left-Right', 'Left-Right', 'Left-Right', 'Left-Right', 'Left-Right', 'Left-Left', 'Left-Right', 'Left-Right', 'Left-Right', 'Right-Right'],\n",
    "    'Runs': [8227, 5992, 5475, 5462, 5409, 5206, 5193, 4998, 4387, 4363, 4300, 4117, 4082, 3992, 3942, 3908, 3814, 3812, 3807, 3802, 3788, 3607, 3607, 3585, 3517, 3514, 3514, 3449, 3430],\n",
    "    'Inns': [176, 151, 108, 144, 117, 103, 117, 85, 114, 88, 95, 98, 99, 97, 88, 103, 118, 69, 96, 105, 80, 84, 81, 73, 86, 78, 73, 96, 83],\n",
    "    'NO': [3, 7, 6, 5, 3, 4, 2, 5, 2, 1, 3, 5, 7, 1, 4, 6, 3, 3, 1, 3, 1, 1, 4, 10, 2, 6, 6, 6, 6]\n",
    "    \n",
    "}\n",
    "\n",
    "df = pd.DataFrame(data)\n",
    "\n",
    "# Calculate the batting average for each player\n",
    "df['Average'] = df['Runs'] / (df['Inns'] - df['NO'])\n",
    "\n",
    "# Calculate the average batting average (Ave) and number of innings as per combination\n",
    "average_by_combination = df.groupby('Combination').agg({\n",
    "    'Average': 'mean',\n",
    "    'Inns': 'sum'\n",
    "}).reset_index()\n",
    "\n",
    "# Round the average batting averages to two decimal places\n",
    "average_by_combination['Average'] = average_by_combination['Average'].round(2)\n",
    "\n",
    "# Sort the DataFrame in descending order by 'Batting Average (Ave)'\n",
    "average_by_combination = average_by_combination.sort_values(by='Average', ascending=False)\n",
    "\n",
    "# Display the sorted average batting average and number of innings for each combination\n",
    "print(average_by_combination)"
   ]
  },
  {
   "cell_type": "code",
   "execution_count": 112,
   "id": "b3bf903d",
   "metadata": {},
   "outputs": [
    {
     "data": {
      "application/vnd.plotly.v1+json": {
       "config": {
        "plotlyServerURL": "https://plot.ly"
       },
       "data": [
        {
         "alignmentgroup": "True",
         "hovertemplate": "Combination=%{x}<br>Average Ave=%{text}<extra></extra>",
         "legendgroup": "",
         "marker": {
          "color": "#636efa",
          "pattern": {
           "shape": ""
          }
         },
         "name": "",
         "offsetgroup": "",
         "orientation": "v",
         "showlegend": false,
         "text": [
          47.28,
          45.44,
          44.66
         ],
         "textposition": "outside",
         "texttemplate": "%{text}",
         "type": "bar",
         "x": [
          "Right-Right",
          "Left-Right",
          "Left-Left"
         ],
         "xaxis": "x",
         "y": [
          47.28,
          45.44,
          44.66
         ],
         "yaxis": "y"
        }
       ],
       "layout": {
        "barmode": "relative",
        "legend": {
         "tracegroupgap": 0
        },
        "template": {
         "data": {
          "bar": [
           {
            "error_x": {
             "color": "#2a3f5f"
            },
            "error_y": {
             "color": "#2a3f5f"
            },
            "marker": {
             "line": {
              "color": "#E5ECF6",
              "width": 0.5
             },
             "pattern": {
              "fillmode": "overlay",
              "size": 10,
              "solidity": 0.2
             }
            },
            "type": "bar"
           }
          ],
          "barpolar": [
           {
            "marker": {
             "line": {
              "color": "#E5ECF6",
              "width": 0.5
             },
             "pattern": {
              "fillmode": "overlay",
              "size": 10,
              "solidity": 0.2
             }
            },
            "type": "barpolar"
           }
          ],
          "carpet": [
           {
            "aaxis": {
             "endlinecolor": "#2a3f5f",
             "gridcolor": "white",
             "linecolor": "white",
             "minorgridcolor": "white",
             "startlinecolor": "#2a3f5f"
            },
            "baxis": {
             "endlinecolor": "#2a3f5f",
             "gridcolor": "white",
             "linecolor": "white",
             "minorgridcolor": "white",
             "startlinecolor": "#2a3f5f"
            },
            "type": "carpet"
           }
          ],
          "choropleth": [
           {
            "colorbar": {
             "outlinewidth": 0,
             "ticks": ""
            },
            "type": "choropleth"
           }
          ],
          "contour": [
           {
            "colorbar": {
             "outlinewidth": 0,
             "ticks": ""
            },
            "colorscale": [
             [
              0,
              "#0d0887"
             ],
             [
              0.1111111111111111,
              "#46039f"
             ],
             [
              0.2222222222222222,
              "#7201a8"
             ],
             [
              0.3333333333333333,
              "#9c179e"
             ],
             [
              0.4444444444444444,
              "#bd3786"
             ],
             [
              0.5555555555555556,
              "#d8576b"
             ],
             [
              0.6666666666666666,
              "#ed7953"
             ],
             [
              0.7777777777777778,
              "#fb9f3a"
             ],
             [
              0.8888888888888888,
              "#fdca26"
             ],
             [
              1,
              "#f0f921"
             ]
            ],
            "type": "contour"
           }
          ],
          "contourcarpet": [
           {
            "colorbar": {
             "outlinewidth": 0,
             "ticks": ""
            },
            "type": "contourcarpet"
           }
          ],
          "heatmap": [
           {
            "colorbar": {
             "outlinewidth": 0,
             "ticks": ""
            },
            "colorscale": [
             [
              0,
              "#0d0887"
             ],
             [
              0.1111111111111111,
              "#46039f"
             ],
             [
              0.2222222222222222,
              "#7201a8"
             ],
             [
              0.3333333333333333,
              "#9c179e"
             ],
             [
              0.4444444444444444,
              "#bd3786"
             ],
             [
              0.5555555555555556,
              "#d8576b"
             ],
             [
              0.6666666666666666,
              "#ed7953"
             ],
             [
              0.7777777777777778,
              "#fb9f3a"
             ],
             [
              0.8888888888888888,
              "#fdca26"
             ],
             [
              1,
              "#f0f921"
             ]
            ],
            "type": "heatmap"
           }
          ],
          "heatmapgl": [
           {
            "colorbar": {
             "outlinewidth": 0,
             "ticks": ""
            },
            "colorscale": [
             [
              0,
              "#0d0887"
             ],
             [
              0.1111111111111111,
              "#46039f"
             ],
             [
              0.2222222222222222,
              "#7201a8"
             ],
             [
              0.3333333333333333,
              "#9c179e"
             ],
             [
              0.4444444444444444,
              "#bd3786"
             ],
             [
              0.5555555555555556,
              "#d8576b"
             ],
             [
              0.6666666666666666,
              "#ed7953"
             ],
             [
              0.7777777777777778,
              "#fb9f3a"
             ],
             [
              0.8888888888888888,
              "#fdca26"
             ],
             [
              1,
              "#f0f921"
             ]
            ],
            "type": "heatmapgl"
           }
          ],
          "histogram": [
           {
            "marker": {
             "pattern": {
              "fillmode": "overlay",
              "size": 10,
              "solidity": 0.2
             }
            },
            "type": "histogram"
           }
          ],
          "histogram2d": [
           {
            "colorbar": {
             "outlinewidth": 0,
             "ticks": ""
            },
            "colorscale": [
             [
              0,
              "#0d0887"
             ],
             [
              0.1111111111111111,
              "#46039f"
             ],
             [
              0.2222222222222222,
              "#7201a8"
             ],
             [
              0.3333333333333333,
              "#9c179e"
             ],
             [
              0.4444444444444444,
              "#bd3786"
             ],
             [
              0.5555555555555556,
              "#d8576b"
             ],
             [
              0.6666666666666666,
              "#ed7953"
             ],
             [
              0.7777777777777778,
              "#fb9f3a"
             ],
             [
              0.8888888888888888,
              "#fdca26"
             ],
             [
              1,
              "#f0f921"
             ]
            ],
            "type": "histogram2d"
           }
          ],
          "histogram2dcontour": [
           {
            "colorbar": {
             "outlinewidth": 0,
             "ticks": ""
            },
            "colorscale": [
             [
              0,
              "#0d0887"
             ],
             [
              0.1111111111111111,
              "#46039f"
             ],
             [
              0.2222222222222222,
              "#7201a8"
             ],
             [
              0.3333333333333333,
              "#9c179e"
             ],
             [
              0.4444444444444444,
              "#bd3786"
             ],
             [
              0.5555555555555556,
              "#d8576b"
             ],
             [
              0.6666666666666666,
              "#ed7953"
             ],
             [
              0.7777777777777778,
              "#fb9f3a"
             ],
             [
              0.8888888888888888,
              "#fdca26"
             ],
             [
              1,
              "#f0f921"
             ]
            ],
            "type": "histogram2dcontour"
           }
          ],
          "mesh3d": [
           {
            "colorbar": {
             "outlinewidth": 0,
             "ticks": ""
            },
            "type": "mesh3d"
           }
          ],
          "parcoords": [
           {
            "line": {
             "colorbar": {
              "outlinewidth": 0,
              "ticks": ""
             }
            },
            "type": "parcoords"
           }
          ],
          "pie": [
           {
            "automargin": true,
            "type": "pie"
           }
          ],
          "scatter": [
           {
            "fillpattern": {
             "fillmode": "overlay",
             "size": 10,
             "solidity": 0.2
            },
            "type": "scatter"
           }
          ],
          "scatter3d": [
           {
            "line": {
             "colorbar": {
              "outlinewidth": 0,
              "ticks": ""
             }
            },
            "marker": {
             "colorbar": {
              "outlinewidth": 0,
              "ticks": ""
             }
            },
            "type": "scatter3d"
           }
          ],
          "scattercarpet": [
           {
            "marker": {
             "colorbar": {
              "outlinewidth": 0,
              "ticks": ""
             }
            },
            "type": "scattercarpet"
           }
          ],
          "scattergeo": [
           {
            "marker": {
             "colorbar": {
              "outlinewidth": 0,
              "ticks": ""
             }
            },
            "type": "scattergeo"
           }
          ],
          "scattergl": [
           {
            "marker": {
             "colorbar": {
              "outlinewidth": 0,
              "ticks": ""
             }
            },
            "type": "scattergl"
           }
          ],
          "scattermapbox": [
           {
            "marker": {
             "colorbar": {
              "outlinewidth": 0,
              "ticks": ""
             }
            },
            "type": "scattermapbox"
           }
          ],
          "scatterpolar": [
           {
            "marker": {
             "colorbar": {
              "outlinewidth": 0,
              "ticks": ""
             }
            },
            "type": "scatterpolar"
           }
          ],
          "scatterpolargl": [
           {
            "marker": {
             "colorbar": {
              "outlinewidth": 0,
              "ticks": ""
             }
            },
            "type": "scatterpolargl"
           }
          ],
          "scatterternary": [
           {
            "marker": {
             "colorbar": {
              "outlinewidth": 0,
              "ticks": ""
             }
            },
            "type": "scatterternary"
           }
          ],
          "surface": [
           {
            "colorbar": {
             "outlinewidth": 0,
             "ticks": ""
            },
            "colorscale": [
             [
              0,
              "#0d0887"
             ],
             [
              0.1111111111111111,
              "#46039f"
             ],
             [
              0.2222222222222222,
              "#7201a8"
             ],
             [
              0.3333333333333333,
              "#9c179e"
             ],
             [
              0.4444444444444444,
              "#bd3786"
             ],
             [
              0.5555555555555556,
              "#d8576b"
             ],
             [
              0.6666666666666666,
              "#ed7953"
             ],
             [
              0.7777777777777778,
              "#fb9f3a"
             ],
             [
              0.8888888888888888,
              "#fdca26"
             ],
             [
              1,
              "#f0f921"
             ]
            ],
            "type": "surface"
           }
          ],
          "table": [
           {
            "cells": {
             "fill": {
              "color": "#EBF0F8"
             },
             "line": {
              "color": "white"
             }
            },
            "header": {
             "fill": {
              "color": "#C8D4E3"
             },
             "line": {
              "color": "white"
             }
            },
            "type": "table"
           }
          ]
         },
         "layout": {
          "annotationdefaults": {
           "arrowcolor": "#2a3f5f",
           "arrowhead": 0,
           "arrowwidth": 1
          },
          "autotypenumbers": "strict",
          "coloraxis": {
           "colorbar": {
            "outlinewidth": 0,
            "ticks": ""
           }
          },
          "colorscale": {
           "diverging": [
            [
             0,
             "#8e0152"
            ],
            [
             0.1,
             "#c51b7d"
            ],
            [
             0.2,
             "#de77ae"
            ],
            [
             0.3,
             "#f1b6da"
            ],
            [
             0.4,
             "#fde0ef"
            ],
            [
             0.5,
             "#f7f7f7"
            ],
            [
             0.6,
             "#e6f5d0"
            ],
            [
             0.7,
             "#b8e186"
            ],
            [
             0.8,
             "#7fbc41"
            ],
            [
             0.9,
             "#4d9221"
            ],
            [
             1,
             "#276419"
            ]
           ],
           "sequential": [
            [
             0,
             "#0d0887"
            ],
            [
             0.1111111111111111,
             "#46039f"
            ],
            [
             0.2222222222222222,
             "#7201a8"
            ],
            [
             0.3333333333333333,
             "#9c179e"
            ],
            [
             0.4444444444444444,
             "#bd3786"
            ],
            [
             0.5555555555555556,
             "#d8576b"
            ],
            [
             0.6666666666666666,
             "#ed7953"
            ],
            [
             0.7777777777777778,
             "#fb9f3a"
            ],
            [
             0.8888888888888888,
             "#fdca26"
            ],
            [
             1,
             "#f0f921"
            ]
           ],
           "sequentialminus": [
            [
             0,
             "#0d0887"
            ],
            [
             0.1111111111111111,
             "#46039f"
            ],
            [
             0.2222222222222222,
             "#7201a8"
            ],
            [
             0.3333333333333333,
             "#9c179e"
            ],
            [
             0.4444444444444444,
             "#bd3786"
            ],
            [
             0.5555555555555556,
             "#d8576b"
            ],
            [
             0.6666666666666666,
             "#ed7953"
            ],
            [
             0.7777777777777778,
             "#fb9f3a"
            ],
            [
             0.8888888888888888,
             "#fdca26"
            ],
            [
             1,
             "#f0f921"
            ]
           ]
          },
          "colorway": [
           "#636efa",
           "#EF553B",
           "#00cc96",
           "#ab63fa",
           "#FFA15A",
           "#19d3f3",
           "#FF6692",
           "#B6E880",
           "#FF97FF",
           "#FECB52"
          ],
          "font": {
           "color": "#2a3f5f"
          },
          "geo": {
           "bgcolor": "white",
           "lakecolor": "white",
           "landcolor": "#E5ECF6",
           "showlakes": true,
           "showland": true,
           "subunitcolor": "white"
          },
          "hoverlabel": {
           "align": "left"
          },
          "hovermode": "closest",
          "mapbox": {
           "style": "light"
          },
          "paper_bgcolor": "white",
          "plot_bgcolor": "#E5ECF6",
          "polar": {
           "angularaxis": {
            "gridcolor": "white",
            "linecolor": "white",
            "ticks": ""
           },
           "bgcolor": "#E5ECF6",
           "radialaxis": {
            "gridcolor": "white",
            "linecolor": "white",
            "ticks": ""
           }
          },
          "scene": {
           "xaxis": {
            "backgroundcolor": "#E5ECF6",
            "gridcolor": "white",
            "gridwidth": 2,
            "linecolor": "white",
            "showbackground": true,
            "ticks": "",
            "zerolinecolor": "white"
           },
           "yaxis": {
            "backgroundcolor": "#E5ECF6",
            "gridcolor": "white",
            "gridwidth": 2,
            "linecolor": "white",
            "showbackground": true,
            "ticks": "",
            "zerolinecolor": "white"
           },
           "zaxis": {
            "backgroundcolor": "#E5ECF6",
            "gridcolor": "white",
            "gridwidth": 2,
            "linecolor": "white",
            "showbackground": true,
            "ticks": "",
            "zerolinecolor": "white"
           }
          },
          "shapedefaults": {
           "line": {
            "color": "#2a3f5f"
           }
          },
          "ternary": {
           "aaxis": {
            "gridcolor": "white",
            "linecolor": "white",
            "ticks": ""
           },
           "baxis": {
            "gridcolor": "white",
            "linecolor": "white",
            "ticks": ""
           },
           "bgcolor": "#E5ECF6",
           "caxis": {
            "gridcolor": "white",
            "linecolor": "white",
            "ticks": ""
           }
          },
          "title": {
           "x": 0.05
          },
          "xaxis": {
           "automargin": true,
           "gridcolor": "white",
           "linecolor": "white",
           "ticks": "",
           "title": {
            "standoff": 15
           },
           "zerolinecolor": "white",
           "zerolinewidth": 2
          },
          "yaxis": {
           "automargin": true,
           "gridcolor": "white",
           "linecolor": "white",
           "ticks": "",
           "title": {
            "standoff": 15
           },
           "zerolinecolor": "white",
           "zerolinewidth": 2
          }
         }
        },
        "title": {
         "text": "Average Batting Averages by Combination"
        },
        "xaxis": {
         "anchor": "y",
         "domain": [
          0,
          1
         ],
         "title": {}
        },
        "yaxis": {
         "anchor": "x",
         "domain": [
          0,
          1
         ],
         "title": {
          "text": "Average Ave"
         }
        }
       }
      },
      "text/html": [
       "<div>                            <div id=\"d7d0a9e2-29e9-4bfd-8505-aff5003469f5\" class=\"plotly-graph-div\" style=\"height:525px; width:100%;\"></div>            <script type=\"text/javascript\">                require([\"plotly\"], function(Plotly) {                    window.PLOTLYENV=window.PLOTLYENV || {};                                    if (document.getElementById(\"d7d0a9e2-29e9-4bfd-8505-aff5003469f5\")) {                    Plotly.newPlot(                        \"d7d0a9e2-29e9-4bfd-8505-aff5003469f5\",                        [{\"alignmentgroup\":\"True\",\"hovertemplate\":\"Combination=%{x}<br>Average Ave=%{text}<extra></extra>\",\"legendgroup\":\"\",\"marker\":{\"color\":\"#636efa\",\"pattern\":{\"shape\":\"\"}},\"name\":\"\",\"offsetgroup\":\"\",\"orientation\":\"v\",\"showlegend\":false,\"text\":[47.28,45.44,44.66],\"textposition\":\"outside\",\"x\":[\"Right-Right\",\"Left-Right\",\"Left-Left\"],\"xaxis\":\"x\",\"y\":[47.28,45.44,44.66],\"yaxis\":\"y\",\"type\":\"bar\",\"texttemplate\":\"%{text}\"}],                        {\"template\":{\"data\":{\"histogram2dcontour\":[{\"type\":\"histogram2dcontour\",\"colorbar\":{\"outlinewidth\":0,\"ticks\":\"\"},\"colorscale\":[[0.0,\"#0d0887\"],[0.1111111111111111,\"#46039f\"],[0.2222222222222222,\"#7201a8\"],[0.3333333333333333,\"#9c179e\"],[0.4444444444444444,\"#bd3786\"],[0.5555555555555556,\"#d8576b\"],[0.6666666666666666,\"#ed7953\"],[0.7777777777777778,\"#fb9f3a\"],[0.8888888888888888,\"#fdca26\"],[1.0,\"#f0f921\"]]}],\"choropleth\":[{\"type\":\"choropleth\",\"colorbar\":{\"outlinewidth\":0,\"ticks\":\"\"}}],\"histogram2d\":[{\"type\":\"histogram2d\",\"colorbar\":{\"outlinewidth\":0,\"ticks\":\"\"},\"colorscale\":[[0.0,\"#0d0887\"],[0.1111111111111111,\"#46039f\"],[0.2222222222222222,\"#7201a8\"],[0.3333333333333333,\"#9c179e\"],[0.4444444444444444,\"#bd3786\"],[0.5555555555555556,\"#d8576b\"],[0.6666666666666666,\"#ed7953\"],[0.7777777777777778,\"#fb9f3a\"],[0.8888888888888888,\"#fdca26\"],[1.0,\"#f0f921\"]]}],\"heatmap\":[{\"type\":\"heatmap\",\"colorbar\":{\"outlinewidth\":0,\"ticks\":\"\"},\"colorscale\":[[0.0,\"#0d0887\"],[0.1111111111111111,\"#46039f\"],[0.2222222222222222,\"#7201a8\"],[0.3333333333333333,\"#9c179e\"],[0.4444444444444444,\"#bd3786\"],[0.5555555555555556,\"#d8576b\"],[0.6666666666666666,\"#ed7953\"],[0.7777777777777778,\"#fb9f3a\"],[0.8888888888888888,\"#fdca26\"],[1.0,\"#f0f921\"]]}],\"heatmapgl\":[{\"type\":\"heatmapgl\",\"colorbar\":{\"outlinewidth\":0,\"ticks\":\"\"},\"colorscale\":[[0.0,\"#0d0887\"],[0.1111111111111111,\"#46039f\"],[0.2222222222222222,\"#7201a8\"],[0.3333333333333333,\"#9c179e\"],[0.4444444444444444,\"#bd3786\"],[0.5555555555555556,\"#d8576b\"],[0.6666666666666666,\"#ed7953\"],[0.7777777777777778,\"#fb9f3a\"],[0.8888888888888888,\"#fdca26\"],[1.0,\"#f0f921\"]]}],\"contourcarpet\":[{\"type\":\"contourcarpet\",\"colorbar\":{\"outlinewidth\":0,\"ticks\":\"\"}}],\"contour\":[{\"type\":\"contour\",\"colorbar\":{\"outlinewidth\":0,\"ticks\":\"\"},\"colorscale\":[[0.0,\"#0d0887\"],[0.1111111111111111,\"#46039f\"],[0.2222222222222222,\"#7201a8\"],[0.3333333333333333,\"#9c179e\"],[0.4444444444444444,\"#bd3786\"],[0.5555555555555556,\"#d8576b\"],[0.6666666666666666,\"#ed7953\"],[0.7777777777777778,\"#fb9f3a\"],[0.8888888888888888,\"#fdca26\"],[1.0,\"#f0f921\"]]}],\"surface\":[{\"type\":\"surface\",\"colorbar\":{\"outlinewidth\":0,\"ticks\":\"\"},\"colorscale\":[[0.0,\"#0d0887\"],[0.1111111111111111,\"#46039f\"],[0.2222222222222222,\"#7201a8\"],[0.3333333333333333,\"#9c179e\"],[0.4444444444444444,\"#bd3786\"],[0.5555555555555556,\"#d8576b\"],[0.6666666666666666,\"#ed7953\"],[0.7777777777777778,\"#fb9f3a\"],[0.8888888888888888,\"#fdca26\"],[1.0,\"#f0f921\"]]}],\"mesh3d\":[{\"type\":\"mesh3d\",\"colorbar\":{\"outlinewidth\":0,\"ticks\":\"\"}}],\"scatter\":[{\"fillpattern\":{\"fillmode\":\"overlay\",\"size\":10,\"solidity\":0.2},\"type\":\"scatter\"}],\"parcoords\":[{\"type\":\"parcoords\",\"line\":{\"colorbar\":{\"outlinewidth\":0,\"ticks\":\"\"}}}],\"scatterpolargl\":[{\"type\":\"scatterpolargl\",\"marker\":{\"colorbar\":{\"outlinewidth\":0,\"ticks\":\"\"}}}],\"bar\":[{\"error_x\":{\"color\":\"#2a3f5f\"},\"error_y\":{\"color\":\"#2a3f5f\"},\"marker\":{\"line\":{\"color\":\"#E5ECF6\",\"width\":0.5},\"pattern\":{\"fillmode\":\"overlay\",\"size\":10,\"solidity\":0.2}},\"type\":\"bar\"}],\"scattergeo\":[{\"type\":\"scattergeo\",\"marker\":{\"colorbar\":{\"outlinewidth\":0,\"ticks\":\"\"}}}],\"scatterpolar\":[{\"type\":\"scatterpolar\",\"marker\":{\"colorbar\":{\"outlinewidth\":0,\"ticks\":\"\"}}}],\"histogram\":[{\"marker\":{\"pattern\":{\"fillmode\":\"overlay\",\"size\":10,\"solidity\":0.2}},\"type\":\"histogram\"}],\"scattergl\":[{\"type\":\"scattergl\",\"marker\":{\"colorbar\":{\"outlinewidth\":0,\"ticks\":\"\"}}}],\"scatter3d\":[{\"type\":\"scatter3d\",\"line\":{\"colorbar\":{\"outlinewidth\":0,\"ticks\":\"\"}},\"marker\":{\"colorbar\":{\"outlinewidth\":0,\"ticks\":\"\"}}}],\"scattermapbox\":[{\"type\":\"scattermapbox\",\"marker\":{\"colorbar\":{\"outlinewidth\":0,\"ticks\":\"\"}}}],\"scatterternary\":[{\"type\":\"scatterternary\",\"marker\":{\"colorbar\":{\"outlinewidth\":0,\"ticks\":\"\"}}}],\"scattercarpet\":[{\"type\":\"scattercarpet\",\"marker\":{\"colorbar\":{\"outlinewidth\":0,\"ticks\":\"\"}}}],\"carpet\":[{\"aaxis\":{\"endlinecolor\":\"#2a3f5f\",\"gridcolor\":\"white\",\"linecolor\":\"white\",\"minorgridcolor\":\"white\",\"startlinecolor\":\"#2a3f5f\"},\"baxis\":{\"endlinecolor\":\"#2a3f5f\",\"gridcolor\":\"white\",\"linecolor\":\"white\",\"minorgridcolor\":\"white\",\"startlinecolor\":\"#2a3f5f\"},\"type\":\"carpet\"}],\"table\":[{\"cells\":{\"fill\":{\"color\":\"#EBF0F8\"},\"line\":{\"color\":\"white\"}},\"header\":{\"fill\":{\"color\":\"#C8D4E3\"},\"line\":{\"color\":\"white\"}},\"type\":\"table\"}],\"barpolar\":[{\"marker\":{\"line\":{\"color\":\"#E5ECF6\",\"width\":0.5},\"pattern\":{\"fillmode\":\"overlay\",\"size\":10,\"solidity\":0.2}},\"type\":\"barpolar\"}],\"pie\":[{\"automargin\":true,\"type\":\"pie\"}]},\"layout\":{\"autotypenumbers\":\"strict\",\"colorway\":[\"#636efa\",\"#EF553B\",\"#00cc96\",\"#ab63fa\",\"#FFA15A\",\"#19d3f3\",\"#FF6692\",\"#B6E880\",\"#FF97FF\",\"#FECB52\"],\"font\":{\"color\":\"#2a3f5f\"},\"hovermode\":\"closest\",\"hoverlabel\":{\"align\":\"left\"},\"paper_bgcolor\":\"white\",\"plot_bgcolor\":\"#E5ECF6\",\"polar\":{\"bgcolor\":\"#E5ECF6\",\"angularaxis\":{\"gridcolor\":\"white\",\"linecolor\":\"white\",\"ticks\":\"\"},\"radialaxis\":{\"gridcolor\":\"white\",\"linecolor\":\"white\",\"ticks\":\"\"}},\"ternary\":{\"bgcolor\":\"#E5ECF6\",\"aaxis\":{\"gridcolor\":\"white\",\"linecolor\":\"white\",\"ticks\":\"\"},\"baxis\":{\"gridcolor\":\"white\",\"linecolor\":\"white\",\"ticks\":\"\"},\"caxis\":{\"gridcolor\":\"white\",\"linecolor\":\"white\",\"ticks\":\"\"}},\"coloraxis\":{\"colorbar\":{\"outlinewidth\":0,\"ticks\":\"\"}},\"colorscale\":{\"sequential\":[[0.0,\"#0d0887\"],[0.1111111111111111,\"#46039f\"],[0.2222222222222222,\"#7201a8\"],[0.3333333333333333,\"#9c179e\"],[0.4444444444444444,\"#bd3786\"],[0.5555555555555556,\"#d8576b\"],[0.6666666666666666,\"#ed7953\"],[0.7777777777777778,\"#fb9f3a\"],[0.8888888888888888,\"#fdca26\"],[1.0,\"#f0f921\"]],\"sequentialminus\":[[0.0,\"#0d0887\"],[0.1111111111111111,\"#46039f\"],[0.2222222222222222,\"#7201a8\"],[0.3333333333333333,\"#9c179e\"],[0.4444444444444444,\"#bd3786\"],[0.5555555555555556,\"#d8576b\"],[0.6666666666666666,\"#ed7953\"],[0.7777777777777778,\"#fb9f3a\"],[0.8888888888888888,\"#fdca26\"],[1.0,\"#f0f921\"]],\"diverging\":[[0,\"#8e0152\"],[0.1,\"#c51b7d\"],[0.2,\"#de77ae\"],[0.3,\"#f1b6da\"],[0.4,\"#fde0ef\"],[0.5,\"#f7f7f7\"],[0.6,\"#e6f5d0\"],[0.7,\"#b8e186\"],[0.8,\"#7fbc41\"],[0.9,\"#4d9221\"],[1,\"#276419\"]]},\"xaxis\":{\"gridcolor\":\"white\",\"linecolor\":\"white\",\"ticks\":\"\",\"title\":{\"standoff\":15},\"zerolinecolor\":\"white\",\"automargin\":true,\"zerolinewidth\":2},\"yaxis\":{\"gridcolor\":\"white\",\"linecolor\":\"white\",\"ticks\":\"\",\"title\":{\"standoff\":15},\"zerolinecolor\":\"white\",\"automargin\":true,\"zerolinewidth\":2},\"scene\":{\"xaxis\":{\"backgroundcolor\":\"#E5ECF6\",\"gridcolor\":\"white\",\"linecolor\":\"white\",\"showbackground\":true,\"ticks\":\"\",\"zerolinecolor\":\"white\",\"gridwidth\":2},\"yaxis\":{\"backgroundcolor\":\"#E5ECF6\",\"gridcolor\":\"white\",\"linecolor\":\"white\",\"showbackground\":true,\"ticks\":\"\",\"zerolinecolor\":\"white\",\"gridwidth\":2},\"zaxis\":{\"backgroundcolor\":\"#E5ECF6\",\"gridcolor\":\"white\",\"linecolor\":\"white\",\"showbackground\":true,\"ticks\":\"\",\"zerolinecolor\":\"white\",\"gridwidth\":2}},\"shapedefaults\":{\"line\":{\"color\":\"#2a3f5f\"}},\"annotationdefaults\":{\"arrowcolor\":\"#2a3f5f\",\"arrowhead\":0,\"arrowwidth\":1},\"geo\":{\"bgcolor\":\"white\",\"landcolor\":\"#E5ECF6\",\"subunitcolor\":\"white\",\"showland\":true,\"showlakes\":true,\"lakecolor\":\"white\"},\"title\":{\"x\":0.05},\"mapbox\":{\"style\":\"light\"}}},\"xaxis\":{\"anchor\":\"y\",\"domain\":[0.0,1.0],\"title\":{}},\"yaxis\":{\"anchor\":\"x\",\"domain\":[0.0,1.0],\"title\":{\"text\":\"Average Ave\"}},\"legend\":{\"tracegroupgap\":0},\"title\":{\"text\":\"Average Batting Averages by Combination\"},\"barmode\":\"relative\"},                        {\"responsive\": true}                    ).then(function(){\n",
       "                            \n",
       "var gd = document.getElementById('d7d0a9e2-29e9-4bfd-8505-aff5003469f5');\n",
       "var x = new MutationObserver(function (mutations, observer) {{\n",
       "        var display = window.getComputedStyle(gd).display;\n",
       "        if (!display || display === 'none') {{\n",
       "            console.log([gd, 'removed!']);\n",
       "            Plotly.purge(gd);\n",
       "            observer.disconnect();\n",
       "        }}\n",
       "}});\n",
       "\n",
       "// Listen for the removal of the full notebook cells\n",
       "var notebookContainer = gd.closest('#notebook-container');\n",
       "if (notebookContainer) {{\n",
       "    x.observe(notebookContainer, {childList: true});\n",
       "}}\n",
       "\n",
       "// Listen for the clearing of the current output cell\n",
       "var outputEl = gd.closest('.output');\n",
       "if (outputEl) {{\n",
       "    x.observe(outputEl, {childList: true});\n",
       "}}\n",
       "\n",
       "                        })                };                });            </script>        </div>"
      ]
     },
     "metadata": {},
     "output_type": "display_data"
    }
   ],
   "source": [
    "import pandas as pd\n",
    "import plotly.express as px\n",
    "\n",
    "# Sample DataFrame (replace this with your actual DataFrame)\n",
    "data = {\n",
    "    'Partners': ['SC Ganguly, SR Tendulkar', 'DPMD Jayawardene, KC Sangakkara', 'TM Dilshan, KC Sangakkara', 'MS Atapattu, ST Jayasuriya', 'AC Gilchrist, ML Hayden', 'CG Greenidge, DL Haynes', 'S Dhawan, RG Sharma', 'V Kohli, RG Sharma', 'V Sehwag, SR Tendulkar', 'R Dravid, SC Ganguly', 'HM Amla, Q de Kock', 'R Dravid, SR Tendulkar', 'Inzamam-ul-Haq, Mohammad Yousuf', 'AC Gilchrist, ME Waugh', 'A Flower, GW Flower', 'DL Haynes, RB Richardson', 'NJ Astle, SP Fleming', 'LRPL Taylor, KS Williamson', 'DC Boon, GR Marsh', 'PA de Silva, A Ranatunga', 'AJ Finch, DA Warner', 'HH Gibbs, GC Smith', 'AC Gilchrist, RT Ponting', 'MS Dhoni, SK Raina', 'Aamer Sohail, Saeed Anwar', 'M Azharuddin, SR Tendulkar', 'ML Hayden, RT Ponting', 'Mushfiqur Rahim, Shakib Al Hasan', 'MS Atapattu, DPMD Jayawardene'],\n",
    "    'Combination': ['Left-Right', 'Left-Right', 'Left-Right', 'Left-Right', 'Left-Left', 'Right-Right', 'Left-Right', 'Right-Right', 'Right-Right', 'Left-Right', 'Left-Right', 'Right-Right', 'Right-Right', 'Left-Right', 'Left-Right', 'Right-Right', 'Left-Right', 'Right-Right', 'Right-Right', 'Left-Right', 'Left-Right', 'Left-Right', 'Left-Right', 'Left-Right', 'Left-Left', 'Left-Right', 'Left-Right', 'Left-Right', 'Right-Right'],\n",
    "    'Runs': [8227, 5992, 5475, 5462, 5409, 5206, 5193, 4998, 4387, 4363, 4300, 4117, 4082, 3992, 3942, 3908, 3814, 3812, 3807, 3802, 3788, 3607, 3607, 3585, 3517, 3514, 3514, 3449, 3430],\n",
    "    'Inns': [176, 151, 108, 144, 117, 103, 117, 85, 114, 88, 95, 98, 99, 97, 88, 103, 118, 69, 96, 105, 80, 84, 81, 73, 86, 78, 73, 96, 83],\n",
    "    'NO': [3, 7, 6, 5, 3, 4, 2, 5, 2, 1, 3, 5, 7, 1, 4, 6, 3, 3, 1, 3, 1, 1, 4, 10, 2, 6, 6, 6, 6]\n",
    "    \n",
    "}\n",
    "\n",
    "\n",
    "df = pd.DataFrame(data)\n",
    "\n",
    "# Calculate the batting average for each player\n",
    "df['Batting Average (Ave)'] = df['Runs'] / (df['Inns'] - df['NO'])\n",
    "\n",
    "# Calculate the average batting average (Ave) as per combination\n",
    "average_by_combination = df.groupby('Combination')['Batting Average (Ave)'].mean().reset_index()\n",
    "\n",
    "# Round the average batting averages to two decimal places\n",
    "average_by_combination['Batting Average (Ave)'] = average_by_combination['Batting Average (Ave)'].round(2)\n",
    "\n",
    "# Sort the DataFrame in descending order by 'Batting Average (Ave)'\n",
    "average_by_combination = average_by_combination.sort_values(by='Batting Average (Ave)', ascending=False)\n",
    "\n",
    "# Create an interactive bar chart using Plotly Express, with bars representing average batting averages\n",
    "fig = px.bar(average_by_combination, x='Combination', y='Batting Average (Ave)',\n",
    "             text='Batting Average (Ave)', title='Average Batting Averages by Combination',\n",
    "             labels={'Batting Average (Ave)': 'Average Ave', 'Combination': 'Combination'})\n",
    "\n",
    "# Customize the layout\n",
    "fig.update_layout(xaxis_title=None, yaxis_title='Average Ave')\n",
    "fig.update_traces(texttemplate='%{text}', textposition='outside')\n",
    "\n",
    "# Show the interactive chart\n",
    "fig.show()"
   ]
  },
  {
   "cell_type": "code",
   "execution_count": null,
   "id": "a89d405c",
   "metadata": {},
   "outputs": [],
   "source": []
  }
 ],
 "metadata": {
  "kernelspec": {
   "display_name": "Python 3 (ipykernel)",
   "language": "python",
   "name": "python3"
  },
  "language_info": {
   "codemirror_mode": {
    "name": "ipython",
    "version": 3
   },
   "file_extension": ".py",
   "mimetype": "text/x-python",
   "name": "python",
   "nbconvert_exporter": "python",
   "pygments_lexer": "ipython3",
   "version": "3.9.13"
  }
 },
 "nbformat": 4,
 "nbformat_minor": 5
}
